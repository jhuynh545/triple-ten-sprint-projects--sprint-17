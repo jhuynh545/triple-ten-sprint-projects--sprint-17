{
 "cells": [
  {
   "cell_type": "markdown",
   "metadata": {},
   "source": [
    "# PART 1: WORK PLAN"
   ]
  },
  {
   "cell_type": "markdown",
   "metadata": {},
   "source": [
    "# INTERCONNECT\n",
    "\n",
    "Interconnect is a telecom operator and that is wanting to forcast churn of their clients. The company wants to ensure loyalty and will be offering those who plan on leaving a promotional plan. Our goal in this project is to see who is going to churn and who plans on staying."
   ]
  },
  {
   "cell_type": "code",
   "execution_count": 1,
   "metadata": {},
   "outputs": [],
   "source": [
    "# libraries \n",
    "import pandas as pd\n",
    "import numpy as np\n",
    "import matplotlib.pyplot as plt\n",
    "import seaborn as sns"
   ]
  },
  {
   "cell_type": "code",
   "execution_count": 2,
   "metadata": {},
   "outputs": [],
   "source": [
    "# file paths\n",
    "data_path = '/datasets/final_provider/'\n",
    "contract_file = f'{data_path}contract.csv'\n",
    "personal_file = f'{data_path}personal.csv'\n",
    "internet_file = f'{data_path}internet.csv'\n",
    "phone_file = f'{data_path}phone.csv'"
   ]
  },
  {
   "cell_type": "code",
   "execution_count": 3,
   "metadata": {},
   "outputs": [],
   "source": [
    "# loading datasets\n",
    "contract = pd.read_csv(contract_file)\n",
    "personal = pd.read_csv(personal_file)\n",
    "internet = pd.read_csv(internet_file)\n",
    "phone = pd.read_csv(phone_file)"
   ]
  },
  {
   "cell_type": "markdown",
   "metadata": {},
   "source": [
    "We have imported the necessary libraries for data manipulation, numerical computations, and visualizations. These are all standard libraries in data analysis. The file paths are defined as variables, making the code maintainable, readable, and reusable. This setup organizes our workflow and prepares us for efficient analysis. The datasets have been loaded and you can easily navigate each file. "
   ]
  },
  {
   "cell_type": "markdown",
   "metadata": {},
   "source": [
    "## Dataset info"
   ]
  },
  {
   "cell_type": "code",
   "execution_count": 4,
   "metadata": {},
   "outputs": [
    {
     "name": "stdout",
     "output_type": "stream",
     "text": [
      "<class 'pandas.core.frame.DataFrame'>\n",
      "RangeIndex: 7043 entries, 0 to 7042\n",
      "Data columns (total 8 columns):\n",
      " #   Column            Non-Null Count  Dtype  \n",
      "---  ------            --------------  -----  \n",
      " 0   customerID        7043 non-null   object \n",
      " 1   BeginDate         7043 non-null   object \n",
      " 2   EndDate           7043 non-null   object \n",
      " 3   Type              7043 non-null   object \n",
      " 4   PaperlessBilling  7043 non-null   object \n",
      " 5   PaymentMethod     7043 non-null   object \n",
      " 6   MonthlyCharges    7043 non-null   float64\n",
      " 7   TotalCharges      7043 non-null   object \n",
      "dtypes: float64(1), object(7)\n",
      "memory usage: 440.3+ KB\n"
     ]
    },
    {
     "data": {
      "text/html": [
       "<div>\n",
       "<style scoped>\n",
       "    .dataframe tbody tr th:only-of-type {\n",
       "        vertical-align: middle;\n",
       "    }\n",
       "\n",
       "    .dataframe tbody tr th {\n",
       "        vertical-align: top;\n",
       "    }\n",
       "\n",
       "    .dataframe thead th {\n",
       "        text-align: right;\n",
       "    }\n",
       "</style>\n",
       "<table border=\"1\" class=\"dataframe\">\n",
       "  <thead>\n",
       "    <tr style=\"text-align: right;\">\n",
       "      <th></th>\n",
       "      <th>customerID</th>\n",
       "      <th>BeginDate</th>\n",
       "      <th>EndDate</th>\n",
       "      <th>Type</th>\n",
       "      <th>PaperlessBilling</th>\n",
       "      <th>PaymentMethod</th>\n",
       "      <th>MonthlyCharges</th>\n",
       "      <th>TotalCharges</th>\n",
       "    </tr>\n",
       "  </thead>\n",
       "  <tbody>\n",
       "    <tr>\n",
       "      <th>0</th>\n",
       "      <td>7590-VHVEG</td>\n",
       "      <td>2020-01-01</td>\n",
       "      <td>No</td>\n",
       "      <td>Month-to-month</td>\n",
       "      <td>Yes</td>\n",
       "      <td>Electronic check</td>\n",
       "      <td>29.85</td>\n",
       "      <td>29.85</td>\n",
       "    </tr>\n",
       "    <tr>\n",
       "      <th>1</th>\n",
       "      <td>5575-GNVDE</td>\n",
       "      <td>2017-04-01</td>\n",
       "      <td>No</td>\n",
       "      <td>One year</td>\n",
       "      <td>No</td>\n",
       "      <td>Mailed check</td>\n",
       "      <td>56.95</td>\n",
       "      <td>1889.5</td>\n",
       "    </tr>\n",
       "    <tr>\n",
       "      <th>2</th>\n",
       "      <td>3668-QPYBK</td>\n",
       "      <td>2019-10-01</td>\n",
       "      <td>2019-12-01 00:00:00</td>\n",
       "      <td>Month-to-month</td>\n",
       "      <td>Yes</td>\n",
       "      <td>Mailed check</td>\n",
       "      <td>53.85</td>\n",
       "      <td>108.15</td>\n",
       "    </tr>\n",
       "    <tr>\n",
       "      <th>3</th>\n",
       "      <td>7795-CFOCW</td>\n",
       "      <td>2016-05-01</td>\n",
       "      <td>No</td>\n",
       "      <td>One year</td>\n",
       "      <td>No</td>\n",
       "      <td>Bank transfer (automatic)</td>\n",
       "      <td>42.30</td>\n",
       "      <td>1840.75</td>\n",
       "    </tr>\n",
       "    <tr>\n",
       "      <th>4</th>\n",
       "      <td>9237-HQITU</td>\n",
       "      <td>2019-09-01</td>\n",
       "      <td>2019-11-01 00:00:00</td>\n",
       "      <td>Month-to-month</td>\n",
       "      <td>Yes</td>\n",
       "      <td>Electronic check</td>\n",
       "      <td>70.70</td>\n",
       "      <td>151.65</td>\n",
       "    </tr>\n",
       "  </tbody>\n",
       "</table>\n",
       "</div>"
      ],
      "text/plain": [
       "   customerID   BeginDate              EndDate            Type  \\\n",
       "0  7590-VHVEG  2020-01-01                   No  Month-to-month   \n",
       "1  5575-GNVDE  2017-04-01                   No        One year   \n",
       "2  3668-QPYBK  2019-10-01  2019-12-01 00:00:00  Month-to-month   \n",
       "3  7795-CFOCW  2016-05-01                   No        One year   \n",
       "4  9237-HQITU  2019-09-01  2019-11-01 00:00:00  Month-to-month   \n",
       "\n",
       "  PaperlessBilling              PaymentMethod  MonthlyCharges TotalCharges  \n",
       "0              Yes           Electronic check           29.85        29.85  \n",
       "1               No               Mailed check           56.95       1889.5  \n",
       "2              Yes               Mailed check           53.85       108.15  \n",
       "3               No  Bank transfer (automatic)           42.30      1840.75  \n",
       "4              Yes           Electronic check           70.70       151.65  "
      ]
     },
     "execution_count": 4,
     "metadata": {},
     "output_type": "execute_result"
    }
   ],
   "source": [
    "# contract info\n",
    "contract.info()\n",
    "contract.head()"
   ]
  },
  {
   "cell_type": "markdown",
   "metadata": {},
   "source": [
    "### Contract summary\n",
    "\n",
    "This dataset is complete with no missing values in any column. It looks like TotalCharges might need to be converted to a numerical type for analysis. This data is clean and ready for preliminary exploration."
   ]
  },
  {
   "cell_type": "code",
   "execution_count": 5,
   "metadata": {},
   "outputs": [
    {
     "name": "stdout",
     "output_type": "stream",
     "text": [
      "<class 'pandas.core.frame.DataFrame'>\n",
      "RangeIndex: 7043 entries, 0 to 7042\n",
      "Data columns (total 5 columns):\n",
      " #   Column         Non-Null Count  Dtype \n",
      "---  ------         --------------  ----- \n",
      " 0   customerID     7043 non-null   object\n",
      " 1   gender         7043 non-null   object\n",
      " 2   SeniorCitizen  7043 non-null   int64 \n",
      " 3   Partner        7043 non-null   object\n",
      " 4   Dependents     7043 non-null   object\n",
      "dtypes: int64(1), object(4)\n",
      "memory usage: 275.2+ KB\n"
     ]
    },
    {
     "data": {
      "text/html": [
       "<div>\n",
       "<style scoped>\n",
       "    .dataframe tbody tr th:only-of-type {\n",
       "        vertical-align: middle;\n",
       "    }\n",
       "\n",
       "    .dataframe tbody tr th {\n",
       "        vertical-align: top;\n",
       "    }\n",
       "\n",
       "    .dataframe thead th {\n",
       "        text-align: right;\n",
       "    }\n",
       "</style>\n",
       "<table border=\"1\" class=\"dataframe\">\n",
       "  <thead>\n",
       "    <tr style=\"text-align: right;\">\n",
       "      <th></th>\n",
       "      <th>customerID</th>\n",
       "      <th>gender</th>\n",
       "      <th>SeniorCitizen</th>\n",
       "      <th>Partner</th>\n",
       "      <th>Dependents</th>\n",
       "    </tr>\n",
       "  </thead>\n",
       "  <tbody>\n",
       "    <tr>\n",
       "      <th>0</th>\n",
       "      <td>7590-VHVEG</td>\n",
       "      <td>Female</td>\n",
       "      <td>0</td>\n",
       "      <td>Yes</td>\n",
       "      <td>No</td>\n",
       "    </tr>\n",
       "    <tr>\n",
       "      <th>1</th>\n",
       "      <td>5575-GNVDE</td>\n",
       "      <td>Male</td>\n",
       "      <td>0</td>\n",
       "      <td>No</td>\n",
       "      <td>No</td>\n",
       "    </tr>\n",
       "    <tr>\n",
       "      <th>2</th>\n",
       "      <td>3668-QPYBK</td>\n",
       "      <td>Male</td>\n",
       "      <td>0</td>\n",
       "      <td>No</td>\n",
       "      <td>No</td>\n",
       "    </tr>\n",
       "    <tr>\n",
       "      <th>3</th>\n",
       "      <td>7795-CFOCW</td>\n",
       "      <td>Male</td>\n",
       "      <td>0</td>\n",
       "      <td>No</td>\n",
       "      <td>No</td>\n",
       "    </tr>\n",
       "    <tr>\n",
       "      <th>4</th>\n",
       "      <td>9237-HQITU</td>\n",
       "      <td>Female</td>\n",
       "      <td>0</td>\n",
       "      <td>No</td>\n",
       "      <td>No</td>\n",
       "    </tr>\n",
       "  </tbody>\n",
       "</table>\n",
       "</div>"
      ],
      "text/plain": [
       "   customerID  gender  SeniorCitizen Partner Dependents\n",
       "0  7590-VHVEG  Female              0     Yes         No\n",
       "1  5575-GNVDE    Male              0      No         No\n",
       "2  3668-QPYBK    Male              0      No         No\n",
       "3  7795-CFOCW    Male              0      No         No\n",
       "4  9237-HQITU  Female              0      No         No"
      ]
     },
     "execution_count": 5,
     "metadata": {},
     "output_type": "execute_result"
    }
   ],
   "source": [
    "# personal info\n",
    "personal.info()\n",
    "personal.head()"
   ]
  },
  {
   "cell_type": "markdown",
   "metadata": {},
   "source": [
    "### Personal summary\n",
    "\n",
    "This dataset does not seem to have any missing values. Categorial columns can be encoded for modeling. The dataset provides demographic attributes useful for predicting customer behavior."
   ]
  },
  {
   "cell_type": "code",
   "execution_count": 6,
   "metadata": {},
   "outputs": [
    {
     "name": "stdout",
     "output_type": "stream",
     "text": [
      "<class 'pandas.core.frame.DataFrame'>\n",
      "RangeIndex: 5517 entries, 0 to 5516\n",
      "Data columns (total 8 columns):\n",
      " #   Column            Non-Null Count  Dtype \n",
      "---  ------            --------------  ----- \n",
      " 0   customerID        5517 non-null   object\n",
      " 1   InternetService   5517 non-null   object\n",
      " 2   OnlineSecurity    5517 non-null   object\n",
      " 3   OnlineBackup      5517 non-null   object\n",
      " 4   DeviceProtection  5517 non-null   object\n",
      " 5   TechSupport       5517 non-null   object\n",
      " 6   StreamingTV       5517 non-null   object\n",
      " 7   StreamingMovies   5517 non-null   object\n",
      "dtypes: object(8)\n",
      "memory usage: 344.9+ KB\n"
     ]
    },
    {
     "data": {
      "text/html": [
       "<div>\n",
       "<style scoped>\n",
       "    .dataframe tbody tr th:only-of-type {\n",
       "        vertical-align: middle;\n",
       "    }\n",
       "\n",
       "    .dataframe tbody tr th {\n",
       "        vertical-align: top;\n",
       "    }\n",
       "\n",
       "    .dataframe thead th {\n",
       "        text-align: right;\n",
       "    }\n",
       "</style>\n",
       "<table border=\"1\" class=\"dataframe\">\n",
       "  <thead>\n",
       "    <tr style=\"text-align: right;\">\n",
       "      <th></th>\n",
       "      <th>customerID</th>\n",
       "      <th>InternetService</th>\n",
       "      <th>OnlineSecurity</th>\n",
       "      <th>OnlineBackup</th>\n",
       "      <th>DeviceProtection</th>\n",
       "      <th>TechSupport</th>\n",
       "      <th>StreamingTV</th>\n",
       "      <th>StreamingMovies</th>\n",
       "    </tr>\n",
       "  </thead>\n",
       "  <tbody>\n",
       "    <tr>\n",
       "      <th>0</th>\n",
       "      <td>7590-VHVEG</td>\n",
       "      <td>DSL</td>\n",
       "      <td>No</td>\n",
       "      <td>Yes</td>\n",
       "      <td>No</td>\n",
       "      <td>No</td>\n",
       "      <td>No</td>\n",
       "      <td>No</td>\n",
       "    </tr>\n",
       "    <tr>\n",
       "      <th>1</th>\n",
       "      <td>5575-GNVDE</td>\n",
       "      <td>DSL</td>\n",
       "      <td>Yes</td>\n",
       "      <td>No</td>\n",
       "      <td>Yes</td>\n",
       "      <td>No</td>\n",
       "      <td>No</td>\n",
       "      <td>No</td>\n",
       "    </tr>\n",
       "    <tr>\n",
       "      <th>2</th>\n",
       "      <td>3668-QPYBK</td>\n",
       "      <td>DSL</td>\n",
       "      <td>Yes</td>\n",
       "      <td>Yes</td>\n",
       "      <td>No</td>\n",
       "      <td>No</td>\n",
       "      <td>No</td>\n",
       "      <td>No</td>\n",
       "    </tr>\n",
       "    <tr>\n",
       "      <th>3</th>\n",
       "      <td>7795-CFOCW</td>\n",
       "      <td>DSL</td>\n",
       "      <td>Yes</td>\n",
       "      <td>No</td>\n",
       "      <td>Yes</td>\n",
       "      <td>Yes</td>\n",
       "      <td>No</td>\n",
       "      <td>No</td>\n",
       "    </tr>\n",
       "    <tr>\n",
       "      <th>4</th>\n",
       "      <td>9237-HQITU</td>\n",
       "      <td>Fiber optic</td>\n",
       "      <td>No</td>\n",
       "      <td>No</td>\n",
       "      <td>No</td>\n",
       "      <td>No</td>\n",
       "      <td>No</td>\n",
       "      <td>No</td>\n",
       "    </tr>\n",
       "  </tbody>\n",
       "</table>\n",
       "</div>"
      ],
      "text/plain": [
       "   customerID InternetService OnlineSecurity OnlineBackup DeviceProtection  \\\n",
       "0  7590-VHVEG             DSL             No          Yes               No   \n",
       "1  5575-GNVDE             DSL            Yes           No              Yes   \n",
       "2  3668-QPYBK             DSL            Yes          Yes               No   \n",
       "3  7795-CFOCW             DSL            Yes           No              Yes   \n",
       "4  9237-HQITU     Fiber optic             No           No               No   \n",
       "\n",
       "  TechSupport StreamingTV StreamingMovies  \n",
       "0          No          No              No  \n",
       "1          No          No              No  \n",
       "2          No          No              No  \n",
       "3         Yes          No              No  \n",
       "4          No          No              No  "
      ]
     },
     "execution_count": 6,
     "metadata": {},
     "output_type": "execute_result"
    }
   ],
   "source": [
    "# internet info\n",
    "internet.info()\n",
    "internet.head()"
   ]
  },
  {
   "cell_type": "markdown",
   "metadata": {},
   "source": [
    "### Internet summary\n",
    "\n",
    "This dataset does not have any missing values. All columns are categorical and may need encoding for modeling. This dataset can be used to analyze service adoption patterns or predict customer behavior related to internet services."
   ]
  },
  {
   "cell_type": "code",
   "execution_count": 7,
   "metadata": {},
   "outputs": [
    {
     "name": "stdout",
     "output_type": "stream",
     "text": [
      "<class 'pandas.core.frame.DataFrame'>\n",
      "RangeIndex: 6361 entries, 0 to 6360\n",
      "Data columns (total 2 columns):\n",
      " #   Column         Non-Null Count  Dtype \n",
      "---  ------         --------------  ----- \n",
      " 0   customerID     6361 non-null   object\n",
      " 1   MultipleLines  6361 non-null   object\n",
      "dtypes: object(2)\n",
      "memory usage: 99.5+ KB\n"
     ]
    },
    {
     "data": {
      "text/html": [
       "<div>\n",
       "<style scoped>\n",
       "    .dataframe tbody tr th:only-of-type {\n",
       "        vertical-align: middle;\n",
       "    }\n",
       "\n",
       "    .dataframe tbody tr th {\n",
       "        vertical-align: top;\n",
       "    }\n",
       "\n",
       "    .dataframe thead th {\n",
       "        text-align: right;\n",
       "    }\n",
       "</style>\n",
       "<table border=\"1\" class=\"dataframe\">\n",
       "  <thead>\n",
       "    <tr style=\"text-align: right;\">\n",
       "      <th></th>\n",
       "      <th>customerID</th>\n",
       "      <th>MultipleLines</th>\n",
       "    </tr>\n",
       "  </thead>\n",
       "  <tbody>\n",
       "    <tr>\n",
       "      <th>0</th>\n",
       "      <td>5575-GNVDE</td>\n",
       "      <td>No</td>\n",
       "    </tr>\n",
       "    <tr>\n",
       "      <th>1</th>\n",
       "      <td>3668-QPYBK</td>\n",
       "      <td>No</td>\n",
       "    </tr>\n",
       "    <tr>\n",
       "      <th>2</th>\n",
       "      <td>9237-HQITU</td>\n",
       "      <td>No</td>\n",
       "    </tr>\n",
       "    <tr>\n",
       "      <th>3</th>\n",
       "      <td>9305-CDSKC</td>\n",
       "      <td>Yes</td>\n",
       "    </tr>\n",
       "    <tr>\n",
       "      <th>4</th>\n",
       "      <td>1452-KIOVK</td>\n",
       "      <td>Yes</td>\n",
       "    </tr>\n",
       "  </tbody>\n",
       "</table>\n",
       "</div>"
      ],
      "text/plain": [
       "   customerID MultipleLines\n",
       "0  5575-GNVDE            No\n",
       "1  3668-QPYBK            No\n",
       "2  9237-HQITU            No\n",
       "3  9305-CDSKC           Yes\n",
       "4  1452-KIOVK           Yes"
      ]
     },
     "execution_count": 7,
     "metadata": {},
     "output_type": "execute_result"
    }
   ],
   "source": [
    "# phone info\n",
    "phone.info()\n",
    "phone.head()"
   ]
  },
  {
   "cell_type": "markdown",
   "metadata": {},
   "source": [
    "### Phone summary\n",
    "\n",
    "This dataset has no misisng values. The file focuses on a specific feature related to communication service and could be useful for understanding customer preferences or predicting service adoption. "
   ]
  },
  {
   "cell_type": "markdown",
   "metadata": {},
   "source": [
    "## Check for NaN, missing, and duplicate values"
   ]
  },
  {
   "cell_type": "code",
   "execution_count": 8,
   "metadata": {},
   "outputs": [
    {
     "data": {
      "text/plain": [
       "customerID          0\n",
       "BeginDate           0\n",
       "EndDate             0\n",
       "Type                0\n",
       "PaperlessBilling    0\n",
       "PaymentMethod       0\n",
       "MonthlyCharges      0\n",
       "TotalCharges        0\n",
       "dtype: int64"
      ]
     },
     "execution_count": 8,
     "metadata": {},
     "output_type": "execute_result"
    }
   ],
   "source": [
    "contract.isna().sum()"
   ]
  },
  {
   "cell_type": "code",
   "execution_count": 9,
   "metadata": {},
   "outputs": [
    {
     "data": {
      "text/plain": [
       "customerID          0\n",
       "BeginDate           0\n",
       "EndDate             0\n",
       "Type                0\n",
       "PaperlessBilling    0\n",
       "PaymentMethod       0\n",
       "MonthlyCharges      0\n",
       "TotalCharges        0\n",
       "dtype: int64"
      ]
     },
     "execution_count": 9,
     "metadata": {},
     "output_type": "execute_result"
    }
   ],
   "source": [
    "contract.isnull().sum()"
   ]
  },
  {
   "cell_type": "code",
   "execution_count": 10,
   "metadata": {},
   "outputs": [
    {
     "data": {
      "text/plain": [
       "0"
      ]
     },
     "execution_count": 10,
     "metadata": {},
     "output_type": "execute_result"
    }
   ],
   "source": [
    "contract.duplicated().sum()"
   ]
  },
  {
   "cell_type": "code",
   "execution_count": 11,
   "metadata": {},
   "outputs": [
    {
     "data": {
      "text/plain": [
       "customerID       0\n",
       "gender           0\n",
       "SeniorCitizen    0\n",
       "Partner          0\n",
       "Dependents       0\n",
       "dtype: int64"
      ]
     },
     "execution_count": 11,
     "metadata": {},
     "output_type": "execute_result"
    }
   ],
   "source": [
    "personal.isna().sum()"
   ]
  },
  {
   "cell_type": "code",
   "execution_count": 12,
   "metadata": {},
   "outputs": [
    {
     "data": {
      "text/plain": [
       "customerID       0\n",
       "gender           0\n",
       "SeniorCitizen    0\n",
       "Partner          0\n",
       "Dependents       0\n",
       "dtype: int64"
      ]
     },
     "execution_count": 12,
     "metadata": {},
     "output_type": "execute_result"
    }
   ],
   "source": [
    "personal.isnull().sum()"
   ]
  },
  {
   "cell_type": "code",
   "execution_count": 13,
   "metadata": {},
   "outputs": [
    {
     "data": {
      "text/plain": [
       "0"
      ]
     },
     "execution_count": 13,
     "metadata": {},
     "output_type": "execute_result"
    }
   ],
   "source": [
    "personal.duplicated().sum()"
   ]
  },
  {
   "cell_type": "code",
   "execution_count": 14,
   "metadata": {},
   "outputs": [
    {
     "data": {
      "text/plain": [
       "customerID          0\n",
       "InternetService     0\n",
       "OnlineSecurity      0\n",
       "OnlineBackup        0\n",
       "DeviceProtection    0\n",
       "TechSupport         0\n",
       "StreamingTV         0\n",
       "StreamingMovies     0\n",
       "dtype: int64"
      ]
     },
     "execution_count": 14,
     "metadata": {},
     "output_type": "execute_result"
    }
   ],
   "source": [
    "internet.isna().sum()"
   ]
  },
  {
   "cell_type": "code",
   "execution_count": 15,
   "metadata": {},
   "outputs": [
    {
     "data": {
      "text/plain": [
       "customerID          0\n",
       "InternetService     0\n",
       "OnlineSecurity      0\n",
       "OnlineBackup        0\n",
       "DeviceProtection    0\n",
       "TechSupport         0\n",
       "StreamingTV         0\n",
       "StreamingMovies     0\n",
       "dtype: int64"
      ]
     },
     "execution_count": 15,
     "metadata": {},
     "output_type": "execute_result"
    }
   ],
   "source": [
    "internet.isnull().sum()"
   ]
  },
  {
   "cell_type": "code",
   "execution_count": 16,
   "metadata": {},
   "outputs": [
    {
     "data": {
      "text/plain": [
       "0"
      ]
     },
     "execution_count": 16,
     "metadata": {},
     "output_type": "execute_result"
    }
   ],
   "source": [
    "internet.duplicated().sum()"
   ]
  },
  {
   "cell_type": "code",
   "execution_count": 17,
   "metadata": {},
   "outputs": [
    {
     "data": {
      "text/plain": [
       "customerID       0\n",
       "MultipleLines    0\n",
       "dtype: int64"
      ]
     },
     "execution_count": 17,
     "metadata": {},
     "output_type": "execute_result"
    }
   ],
   "source": [
    "phone.isna().sum()"
   ]
  },
  {
   "cell_type": "code",
   "execution_count": 18,
   "metadata": {},
   "outputs": [
    {
     "data": {
      "text/plain": [
       "customerID       0\n",
       "MultipleLines    0\n",
       "dtype: int64"
      ]
     },
     "execution_count": 18,
     "metadata": {},
     "output_type": "execute_result"
    }
   ],
   "source": [
    "phone.isnull().sum()"
   ]
  },
  {
   "cell_type": "code",
   "execution_count": 19,
   "metadata": {},
   "outputs": [
    {
     "data": {
      "text/plain": [
       "0"
      ]
     },
     "execution_count": 19,
     "metadata": {},
     "output_type": "execute_result"
    }
   ],
   "source": [
    "phone.duplicated().sum()"
   ]
  },
  {
   "cell_type": "markdown",
   "metadata": {},
   "source": [
    "### Summary on Nan, missing, and duplicate values\n",
    "\n",
    "It does not appear that we have any NaN, missing, or duplicate values in the datasets. This is a strong starting point for analysis and modeling. We will proceed with further exploration to ensure the data's accuracy, consistency, and suitability. "
   ]
  },
  {
   "cell_type": "markdown",
   "metadata": {},
   "source": [
    "## Explore the target features"
   ]
  },
  {
   "cell_type": "code",
   "execution_count": 20,
   "metadata": {},
   "outputs": [
    {
     "name": "stdout",
     "output_type": "stream",
     "text": [
      "Target Column 'EndDate' Value Counts:\n",
      "No                     5174\n",
      "2019-11-01 00:00:00     485\n",
      "2019-12-01 00:00:00     466\n",
      "2020-01-01 00:00:00     460\n",
      "2019-10-01 00:00:00     458\n",
      "Name: EndDate, dtype: int64 \n",
      "\n"
     ]
    }
   ],
   "source": [
    "def explore_target(data, column):\n",
    "    print(f\"Target Column '{column}' Value Counts:\")\n",
    "    print(data[column].value_counts(), \"\\n\")\n",
    "explore_target(contract, 'EndDate')"
   ]
  },
  {
   "cell_type": "markdown",
   "metadata": {},
   "source": [
    "### Summary on target features\n",
    "\n",
    "The block aboves defines a function to explore and display the value counts of a target column in a given dataset. After, it applies the function to the contract dataset to analyze the EndDate column. Most of the data is marked \"No\" suggesting that most contracts do not have an end date. The other values show specific dates indicating that there is an end date for those contracts. "
   ]
  },
  {
   "cell_type": "markdown",
   "metadata": {},
   "source": [
    "## Merge datasets on customerID"
   ]
  },
  {
   "cell_type": "code",
   "execution_count": 21,
   "metadata": {},
   "outputs": [],
   "source": [
    "merged_data = contract.merge(personal, on='customerID', how='outer')\n",
    "merged_data = merged_data.merge(internet, on='customerID', how='outer')\n",
    "merged_data = merged_data.merge(phone, on='customerID', how='outer')"
   ]
  },
  {
   "cell_type": "markdown",
   "metadata": {},
   "source": [
    "### Check on merged data"
   ]
  },
  {
   "cell_type": "code",
   "execution_count": 22,
   "metadata": {},
   "outputs": [
    {
     "data": {
      "text/plain": [
       "(7043, 20)"
      ]
     },
     "execution_count": 22,
     "metadata": {},
     "output_type": "execute_result"
    }
   ],
   "source": [
    "merged_data.shape"
   ]
  },
  {
   "cell_type": "code",
   "execution_count": 23,
   "metadata": {},
   "outputs": [
    {
     "data": {
      "text/plain": [
       "<bound method NDFrame.head of       customerID   BeginDate              EndDate            Type  \\\n",
       "0     7590-VHVEG  2020-01-01                   No  Month-to-month   \n",
       "1     5575-GNVDE  2017-04-01                   No        One year   \n",
       "2     3668-QPYBK  2019-10-01  2019-12-01 00:00:00  Month-to-month   \n",
       "3     7795-CFOCW  2016-05-01                   No        One year   \n",
       "4     9237-HQITU  2019-09-01  2019-11-01 00:00:00  Month-to-month   \n",
       "...          ...         ...                  ...             ...   \n",
       "7038  6840-RESVB  2018-02-01                   No        One year   \n",
       "7039  2234-XADUH  2014-02-01                   No        One year   \n",
       "7040  4801-JZAZL  2019-03-01                   No  Month-to-month   \n",
       "7041  8361-LTMKD  2019-07-01  2019-11-01 00:00:00  Month-to-month   \n",
       "7042  3186-AJIEK  2014-08-01                   No        Two year   \n",
       "\n",
       "     PaperlessBilling              PaymentMethod  MonthlyCharges TotalCharges  \\\n",
       "0                 Yes           Electronic check           29.85        29.85   \n",
       "1                  No               Mailed check           56.95       1889.5   \n",
       "2                 Yes               Mailed check           53.85       108.15   \n",
       "3                  No  Bank transfer (automatic)           42.30      1840.75   \n",
       "4                 Yes           Electronic check           70.70       151.65   \n",
       "...               ...                        ...             ...          ...   \n",
       "7038              Yes               Mailed check           84.80       1990.5   \n",
       "7039              Yes    Credit card (automatic)          103.20       7362.9   \n",
       "7040              Yes           Electronic check           29.60       346.45   \n",
       "7041              Yes               Mailed check           74.40        306.6   \n",
       "7042              Yes  Bank transfer (automatic)          105.65       6844.5   \n",
       "\n",
       "      gender  SeniorCitizen Partner Dependents InternetService OnlineSecurity  \\\n",
       "0     Female              0     Yes         No             DSL             No   \n",
       "1       Male              0      No         No             DSL            Yes   \n",
       "2       Male              0      No         No             DSL            Yes   \n",
       "3       Male              0      No         No             DSL            Yes   \n",
       "4     Female              0      No         No     Fiber optic             No   \n",
       "...      ...            ...     ...        ...             ...            ...   \n",
       "7038    Male              0     Yes        Yes             DSL            Yes   \n",
       "7039  Female              0     Yes        Yes     Fiber optic             No   \n",
       "7040  Female              0     Yes        Yes             DSL            Yes   \n",
       "7041    Male              1     Yes         No     Fiber optic             No   \n",
       "7042    Male              0      No         No     Fiber optic            Yes   \n",
       "\n",
       "     OnlineBackup DeviceProtection TechSupport StreamingTV StreamingMovies  \\\n",
       "0             Yes               No          No          No              No   \n",
       "1              No              Yes          No          No              No   \n",
       "2             Yes               No          No          No              No   \n",
       "3              No              Yes         Yes          No              No   \n",
       "4              No               No          No          No              No   \n",
       "...           ...              ...         ...         ...             ...   \n",
       "7038           No              Yes         Yes         Yes             Yes   \n",
       "7039          Yes              Yes          No         Yes             Yes   \n",
       "7040           No               No          No          No              No   \n",
       "7041           No               No          No          No              No   \n",
       "7042           No              Yes         Yes         Yes             Yes   \n",
       "\n",
       "     MultipleLines  \n",
       "0              NaN  \n",
       "1               No  \n",
       "2               No  \n",
       "3              NaN  \n",
       "4               No  \n",
       "...            ...  \n",
       "7038           Yes  \n",
       "7039           Yes  \n",
       "7040           NaN  \n",
       "7041           Yes  \n",
       "7042            No  \n",
       "\n",
       "[7043 rows x 20 columns]>"
      ]
     },
     "execution_count": 23,
     "metadata": {},
     "output_type": "execute_result"
    }
   ],
   "source": [
    "merged_data.head"
   ]
  },
  {
   "cell_type": "code",
   "execution_count": 24,
   "metadata": {},
   "outputs": [
    {
     "data": {
      "text/plain": [
       "<bound method NDFrame.describe of       customerID   BeginDate              EndDate            Type  \\\n",
       "0     7590-VHVEG  2020-01-01                   No  Month-to-month   \n",
       "1     5575-GNVDE  2017-04-01                   No        One year   \n",
       "2     3668-QPYBK  2019-10-01  2019-12-01 00:00:00  Month-to-month   \n",
       "3     7795-CFOCW  2016-05-01                   No        One year   \n",
       "4     9237-HQITU  2019-09-01  2019-11-01 00:00:00  Month-to-month   \n",
       "...          ...         ...                  ...             ...   \n",
       "7038  6840-RESVB  2018-02-01                   No        One year   \n",
       "7039  2234-XADUH  2014-02-01                   No        One year   \n",
       "7040  4801-JZAZL  2019-03-01                   No  Month-to-month   \n",
       "7041  8361-LTMKD  2019-07-01  2019-11-01 00:00:00  Month-to-month   \n",
       "7042  3186-AJIEK  2014-08-01                   No        Two year   \n",
       "\n",
       "     PaperlessBilling              PaymentMethod  MonthlyCharges TotalCharges  \\\n",
       "0                 Yes           Electronic check           29.85        29.85   \n",
       "1                  No               Mailed check           56.95       1889.5   \n",
       "2                 Yes               Mailed check           53.85       108.15   \n",
       "3                  No  Bank transfer (automatic)           42.30      1840.75   \n",
       "4                 Yes           Electronic check           70.70       151.65   \n",
       "...               ...                        ...             ...          ...   \n",
       "7038              Yes               Mailed check           84.80       1990.5   \n",
       "7039              Yes    Credit card (automatic)          103.20       7362.9   \n",
       "7040              Yes           Electronic check           29.60       346.45   \n",
       "7041              Yes               Mailed check           74.40        306.6   \n",
       "7042              Yes  Bank transfer (automatic)          105.65       6844.5   \n",
       "\n",
       "      gender  SeniorCitizen Partner Dependents InternetService OnlineSecurity  \\\n",
       "0     Female              0     Yes         No             DSL             No   \n",
       "1       Male              0      No         No             DSL            Yes   \n",
       "2       Male              0      No         No             DSL            Yes   \n",
       "3       Male              0      No         No             DSL            Yes   \n",
       "4     Female              0      No         No     Fiber optic             No   \n",
       "...      ...            ...     ...        ...             ...            ...   \n",
       "7038    Male              0     Yes        Yes             DSL            Yes   \n",
       "7039  Female              0     Yes        Yes     Fiber optic             No   \n",
       "7040  Female              0     Yes        Yes             DSL            Yes   \n",
       "7041    Male              1     Yes         No     Fiber optic             No   \n",
       "7042    Male              0      No         No     Fiber optic            Yes   \n",
       "\n",
       "     OnlineBackup DeviceProtection TechSupport StreamingTV StreamingMovies  \\\n",
       "0             Yes               No          No          No              No   \n",
       "1              No              Yes          No          No              No   \n",
       "2             Yes               No          No          No              No   \n",
       "3              No              Yes         Yes          No              No   \n",
       "4              No               No          No          No              No   \n",
       "...           ...              ...         ...         ...             ...   \n",
       "7038           No              Yes         Yes         Yes             Yes   \n",
       "7039          Yes              Yes          No         Yes             Yes   \n",
       "7040           No               No          No          No              No   \n",
       "7041           No               No          No          No              No   \n",
       "7042           No              Yes         Yes         Yes             Yes   \n",
       "\n",
       "     MultipleLines  \n",
       "0              NaN  \n",
       "1               No  \n",
       "2               No  \n",
       "3              NaN  \n",
       "4               No  \n",
       "...            ...  \n",
       "7038           Yes  \n",
       "7039           Yes  \n",
       "7040           NaN  \n",
       "7041           Yes  \n",
       "7042            No  \n",
       "\n",
       "[7043 rows x 20 columns]>"
      ]
     },
     "execution_count": 24,
     "metadata": {},
     "output_type": "execute_result"
    }
   ],
   "source": [
    "merged_data.describe"
   ]
  },
  {
   "cell_type": "markdown",
   "metadata": {},
   "source": [
    "### Summary on merged data\n",
    "\n",
    "Merging the datasets is essential to consolidating all the information associated to each customer. We merged the datasets on customerID. By doing this, it allows us to analyze relationships across various features and prepare the data for modeling. Displayed is the shape, the first five rows, and the descriptive statistics of the dataset."
   ]
  },
  {
   "cell_type": "markdown",
   "metadata": {},
   "source": [
    "## Visuals"
   ]
  },
  {
   "cell_type": "code",
   "execution_count": 25,
   "metadata": {},
   "outputs": [
    {
     "data": {
      "image/png": "[encoded data removed]",
      "text/plain": [
       "<Figure size 800x400 with 1 Axes>"
      ]
     },
     "metadata": {},
     "output_type": "display_data"
    },
    {
     "data": {
      "image/png": "[encoded data removed]",
      "text/plain": [
       "<Figure size 800x400 with 1 Axes>"
      ]
     },
     "metadata": {},
     "output_type": "display_data"
    }
   ],
   "source": [
    "# distribution of numerical features\n",
    "numerical_features = merged_data.select_dtypes(include=['float64', 'int64']).columns\n",
    "for column in numerical_features:\n",
    "    plt.figure(figsize=(8, 4))\n",
    "    sns.histplot(merged_data[column].dropna(), kde=True)\n",
    "    plt.title(f\"Distribution of {column}\")\n",
    "    plt.show()"
   ]
  },
  {
   "cell_type": "code",
   "execution_count": 26,
   "metadata": {},
   "outputs": [
    {
     "data": {
      "image/png": "[encoded data removed]",
      "text/plain": [
       "<Figure size 800x600 with 1 Axes>"
      ]
     },
     "metadata": {},
     "output_type": "display_data"
    }
   ],
   "source": [
    "# visualize relationships with churn \n",
    "merged_data['churn'] = (merged_data['EndDate'] != 'No').astype(int)\n",
    "\n",
    "# average monthly charge for churned vs non churned customers\n",
    "if 'MonthlyCharges' in merged_data.columns:\n",
    "    plt.figure(figsize=(8,6))\n",
    "    sns.boxplot(data=merged_data, x='churn',y='MonthlyCharges')\n",
    "    plt.title(\"Monthly Charges by Churn\")\n",
    "    plt.show()"
   ]
  },
  {
   "cell_type": "code",
   "execution_count": 27,
   "metadata": {},
   "outputs": [
    {
     "data": {
      "image/png": "[encoded data removed]",
      "text/plain": [
       "<Figure size 1200x800 with 2 Axes>"
      ]
     },
     "metadata": {},
     "output_type": "display_data"
    }
   ],
   "source": [
    "# correlation heatmap\n",
    "plt.figure(figsize=(12, 8))\n",
    "correlation = merged_data.corr()\n",
    "sns.heatmap(correlation, annot=True, cmap='coolwarm', fmt='.2f')\n",
    "plt.title(\"Feature Correlations\")\n",
    "plt.show()"
   ]
  },
  {
   "cell_type": "markdown",
   "metadata": {},
   "source": [
    "### Summary on visuals\n",
    "\n",
    "The first visual is a histogram showing the distribution on numerical features. By examining the KDE in the visual, we are able to identify whether the distribution is symmetric, has a heavy tail, or skewed in one direction. It is helpful in choosing the appropriate model and detecting outliers. \n",
    "\n",
    "The boxplot provides insights into how the MonthlyCharges differ between churned (1) and non churned (0) customers. If churned customers tend to have higher or lower monthly charges, it could be a potential feature to explore when building our models.\n",
    "\n",
    "The heatmap visually illustrates the strength and direction of relationships between numerical features in the dataset. Positive correlation are shown in reds and negative correlations are shown in blues. With the heatmap, we are able to identify potential feature redundancies or dependencies."
   ]
  },
  {
   "cell_type": "markdown",
   "metadata": {},
   "source": [
    "## Clarifying Questions"
   ]
  },
  {
   "cell_type": "markdown",
   "metadata": {},
   "source": [
    "1. Are there any specific columns that require detailed preprocessing?\n",
    "2. Should we consider imputing missing values with domain knowledge or statistical methods?\n",
    "3. How should categorical data be encoded?\n",
    "4. Are there specific thresholds for classifying churn probabilities?"
   ]
  },
  {
   "cell_type": "markdown",
   "metadata": {},
   "source": [
    "## Rough Plan"
   ]
  },
  {
   "cell_type": "markdown",
   "metadata": {},
   "source": [
    "Step 1: Data Preparation - Load all datasets, inspect for missing values, duplicates, and inconsistent data\n",
    "\n",
    "Step 2: Feature Engineering - Create or modify features to enhance predictive power, including encoding and scaling\n",
    "\n",
    "Step 3: EDA - Analyze distributions, correlations, and relationships with the target variable\n",
    "\n",
    "Step 4: Model Training - Split the data, train models using cross validation and evaluate using AUC-ROC\n",
    "\n",
    "Step 5: Refinement and Validation - Optimize model performance through hyperparameter tuning and validate on the test set"
   ]
  },
  {
   "cell_type": "markdown",
   "metadata": {},
   "source": [
    "# PART 2: CODE SOLUTION"
   ]
  },
  {
   "cell_type": "code",
   "execution_count": 28,
   "metadata": {},
   "outputs": [],
   "source": [
    "# libraries\n",
    "from sklearn.model_selection import train_test_split\n",
    "from sklearn.preprocessing import StandardScaler\n",
    "from sklearn.ensemble import RandomForestClassifier\n",
    "from sklearn.linear_model import LogisticRegression\n",
    "from sklearn.metrics import roc_auc_score, accuracy_score\n",
    "from sklearn.model_selection import GridSearchCV"
   ]
  },
  {
   "cell_type": "markdown",
   "metadata": {},
   "source": [
    "## Data preparation"
   ]
  },
  {
   "cell_type": "code",
   "execution_count": 29,
   "metadata": {},
   "outputs": [],
   "source": [
    "# drop columns not needed\n",
    "data = merged_data.drop(['customerID', 'EndDate'], axis=1)\n",
    "\n",
    "# identify columns specifically \n",
    "numerical_columns = data.select_dtypes(include=['int64', 'float64']).columns\n",
    "categorical_columns = data.select_dtypes(include=['object', 'category']).columns\n",
    "\n",
    "# fill numerical columns with mean\n",
    "data[numerical_columns] = data[numerical_columns].fillna(data[numerical_columns].mean())\n",
    "\n",
    "# fill categorical columns with 'unknown'\n",
    "data[categorical_columns] = data[categorical_columns].fillna('unknown')"
   ]
  },
  {
   "cell_type": "code",
   "execution_count": 30,
   "metadata": {},
   "outputs": [],
   "source": [
    "# columns to convert\n",
    "categorical_columns_to_convert = ['PaymentMethod', 'TechSupport', 'StreamingTV']\n",
    "\n",
    "# convert to 'category' type\n",
    "data[categorical_columns_to_convert] = data[categorical_columns_to_convert].astype('category')\n",
    "\n",
    "# encode categorical columns\n",
    "data = pd.get_dummies(data, columns=categorical_columns_to_convert, drop_first=True)"
   ]
  },
  {
   "cell_type": "code",
   "execution_count": 31,
   "metadata": {},
   "outputs": [],
   "source": [
    "# define target and features\n",
    "X = data.drop('churn', axis=1)\n",
    "y = data['churn']"
   ]
  },
  {
   "cell_type": "code",
   "execution_count": 32,
   "metadata": {},
   "outputs": [],
   "source": [
    "# split the data\n",
    "X_train, X_temp, y_train, y_temp = train_test_split(X, y, test_size=0.3, random_state=42)\n",
    "X_val, X_test, y_val, y_test = train_test_split(X_temp, y_temp, test_size=0.5, random_state=42)"
   ]
  },
  {
   "cell_type": "code",
   "execution_count": 33,
   "metadata": {
    "collapsed": true
   },
   "outputs": [
    {
     "name": "stderr",
     "output_type": "stream",
     "text": [
      "/tmp/ipykernel_387/397732532.py:9: SettingWithCopyWarning: \n",
      "A value is trying to be set on a copy of a slice from a DataFrame.\n",
      "Try using .loc[row_indexer,col_indexer] = value instead\n",
      "\n",
      "See the caveats in the documentation: https://pandas.pydata.org/pandas-docs/stable/user_guide/indexing.html#returning-a-view-versus-a-copy\n",
      "  X_train[numerical_columns] = scaler.fit_transform(X_train[numerical_columns])\n",
      "/opt/conda/envs/python3/lib/python3.9/site-packages/pandas/core/indexing.py:1738: SettingWithCopyWarning: \n",
      "A value is trying to be set on a copy of a slice from a DataFrame.\n",
      "Try using .loc[row_indexer,col_indexer] = value instead\n",
      "\n",
      "See the caveats in the documentation: https://pandas.pydata.org/pandas-docs/stable/user_guide/indexing.html#returning-a-view-versus-a-copy\n",
      "  self._setitem_single_column(loc, value[:, i].tolist(), pi)\n",
      "/tmp/ipykernel_387/397732532.py:10: SettingWithCopyWarning: \n",
      "A value is trying to be set on a copy of a slice from a DataFrame.\n",
      "Try using .loc[row_indexer,col_indexer] = value instead\n",
      "\n",
      "See the caveats in the documentation: https://pandas.pydata.org/pandas-docs/stable/user_guide/indexing.html#returning-a-view-versus-a-copy\n",
      "  X_val[numerical_columns] = scaler.transform(X_val[numerical_columns])\n",
      "/opt/conda/envs/python3/lib/python3.9/site-packages/pandas/core/indexing.py:1738: SettingWithCopyWarning: \n",
      "A value is trying to be set on a copy of a slice from a DataFrame.\n",
      "Try using .loc[row_indexer,col_indexer] = value instead\n",
      "\n",
      "See the caveats in the documentation: https://pandas.pydata.org/pandas-docs/stable/user_guide/indexing.html#returning-a-view-versus-a-copy\n",
      "  self._setitem_single_column(loc, value[:, i].tolist(), pi)\n",
      "/tmp/ipykernel_387/397732532.py:11: SettingWithCopyWarning: \n",
      "A value is trying to be set on a copy of a slice from a DataFrame.\n",
      "Try using .loc[row_indexer,col_indexer] = value instead\n",
      "\n",
      "See the caveats in the documentation: https://pandas.pydata.org/pandas-docs/stable/user_guide/indexing.html#returning-a-view-versus-a-copy\n",
      "  X_test[numerical_columns] = scaler.transform(X_test[numerical_columns])\n",
      "/opt/conda/envs/python3/lib/python3.9/site-packages/pandas/core/indexing.py:1738: SettingWithCopyWarning: \n",
      "A value is trying to be set on a copy of a slice from a DataFrame.\n",
      "Try using .loc[row_indexer,col_indexer] = value instead\n",
      "\n",
      "See the caveats in the documentation: https://pandas.pydata.org/pandas-docs/stable/user_guide/indexing.html#returning-a-view-versus-a-copy\n",
      "  self._setitem_single_column(loc, value[:, i].tolist(), pi)\n"
     ]
    }
   ],
   "source": [
    "# putting this here because I needed to double check for myself\n",
    "numerical_columns = list(numerical_columns)\n",
    "\n",
    "if 'churn' in numerical_columns:\n",
    "    numerical_columns.remove('churn')\n",
    "\n",
    "# scale the data\n",
    "scaler = StandardScaler()\n",
    "X_train[numerical_columns] = scaler.fit_transform(X_train[numerical_columns])\n",
    "X_val[numerical_columns] = scaler.transform(X_val[numerical_columns])\n",
    "X_test[numerical_columns] = scaler.transform(X_test[numerical_columns])"
   ]
  },
  {
   "cell_type": "markdown",
   "metadata": {},
   "source": [
    "## Model training"
   ]
  },
  {
   "cell_type": "code",
   "execution_count": 34,
   "metadata": {},
   "outputs": [],
   "source": [
    "# seeing if this fixes my problem for the next code block\n",
    "X_train = pd.get_dummies(X_train, drop_first=True)\n",
    "X_val = pd.get_dummies(X_val, drop_first=True)\n",
    "X_test = pd.get_dummies(X_test, drop_first=True)\n",
    "\n",
    "# align columns \n",
    "X_val = X_val.reindex(columns=X_train.columns, fill_value=0)\n",
    "X_test = X_test.reindex(columns=X_train.columns, fill_value=0)"
   ]
  },
  {
   "cell_type": "code",
   "execution_count": 35,
   "metadata": {},
   "outputs": [
    {
     "name": "stderr",
     "output_type": "stream",
     "text": [
      "/opt/conda/envs/python3/lib/python3.9/site-packages/sklearn/linear_model/_logistic.py:763: ConvergenceWarning: lbfgs failed to converge (status=1):\n",
      "STOP: TOTAL NO. of ITERATIONS REACHED LIMIT.\n",
      "\n",
      "Increase the number of iterations (max_iter) or scale the data as shown in:\n",
      "    https://scikit-learn.org/stable/modules/preprocessing.html\n",
      "Please also refer to the documentation for alternative solver options:\n",
      "    https://scikit-learn.org/stable/modules/linear_model.html#logistic-regression\n",
      "  n_iter_i = _check_optimize_result(\n"
     ]
    }
   ],
   "source": [
    "# logistic regression\n",
    "lr_model = LogisticRegression(random_state=42)\n",
    "lr_model.fit(X_train, y_train)\n",
    "y_val_pred_lr = lr_model.predict_proba(X_val)[:, 1]"
   ]
  },
  {
   "cell_type": "code",
   "execution_count": 36,
   "metadata": {},
   "outputs": [],
   "source": [
    "# random forest\n",
    "rf_model = RandomForestClassifier(random_state=42)\n",
    "rf_model.fit(X_train, y_train)\n",
    "y_val_pred_rf = rf_model.predict_proba(X_val)[:, 1]"
   ]
  },
  {
   "cell_type": "code",
   "execution_count": 37,
   "metadata": {},
   "outputs": [
    {
     "name": "stdout",
     "output_type": "stream",
     "text": [
      "Logistic Regression AUC-ROC: 0.8629672097797341\n",
      "Random Forest AUC-ROC: 0.8562214495755581\n"
     ]
    }
   ],
   "source": [
    "# evaluate models\n",
    "lr_auc = roc_auc_score(y_val, y_val_pred_lr)\n",
    "rf_auc = roc_auc_score(y_val, y_val_pred_rf)\n",
    "print(f\"Logistic Regression AUC-ROC: {lr_auc}\")\n",
    "print(f\"Random Forest AUC-ROC: {rf_auc}\")"
   ]
  },
  {
   "cell_type": "markdown",
   "metadata": {},
   "source": [
    "## Model selection and testing"
   ]
  },
  {
   "cell_type": "code",
   "execution_count": 38,
   "metadata": {},
   "outputs": [],
   "source": [
    "# use model with highest validation AUC-ROC\n",
    "best_model = rf_model if rf_auc > lr_auc else lr_model"
   ]
  },
  {
   "cell_type": "code",
   "execution_count": 39,
   "metadata": {},
   "outputs": [
    {
     "name": "stdout",
     "output_type": "stream",
     "text": [
      "Test AUC-ROC: 0.8584987747274213\n",
      "Test Accuracy: 0.8032166508987701\n"
     ]
    }
   ],
   "source": [
    "# evaluate test set\n",
    "y_test_pred = best_model.predict_proba(X_test)[:, 1]\n",
    "test_auc = roc_auc_score(y_test, y_test_pred)\n",
    "test_accuracy = accuracy_score(y_test, best_model.predict(X_test))\n",
    "\n",
    "print(f\"Test AUC-ROC: {test_auc}\")\n",
    "print(f\"Test Accuracy: {test_accuracy}\")"
   ]
  },
  {
   "cell_type": "markdown",
   "metadata": {},
   "source": [
    "# PART 3: SOLUTION REPORT"
   ]
  },
  {
   "cell_type": "markdown",
   "metadata": {},
   "source": [
    "- What steps of the plan were performed and what steps were skipped (explain why)?\n",
    "\n",
    "ANS: In my rough work plan I listed five steps. The first was to prepare my data. I did that by loading all the datasets, inspect for missing values, duplicates, and inconsistent data. The second was to perform feature engineering. I will create or modify features to enhance predictive power. I did some encoding and scaling. Number three was that I would perform exploratory data analysis (EDA). I showed a histogram, boxplot, and a heatmap. Step four was split the data, train models using cross validation, and evaluate using AUC-ROC. The last was refinement and validation. I did steps one through four, but skipped step five. I wanted to avoid overfitting. "
   ]
  },
  {
   "cell_type": "markdown",
   "metadata": {},
   "source": [
    "- What difficulties did you encounter and how did you manage to solve them?\n",
    "\n",
    "ANS: I encountered a problem with 4 different code blocks. Number one was filling in NaN values with zero. I fixed it by filling them with the mean. The second had to do with defining my columns. I updated my code to ensure that categorical columns are explicitly defined before applying pd.get_dummies. The third thing that I had a problem on was scaling. I fixed my problem by only scaling quantitatvie features. The last was with tuning hyperparameters. Since I had already reached a score I was happy with, I took that part out to avoid overfitting. "
   ]
  },
  {
   "cell_type": "markdown",
   "metadata": {},
   "source": [
    "- What were some of the key steps to solving the task?\n",
    "\n",
    "ANS: There were multiple key steps in solving this task. First, you need to plan and understand the problem. Next, I load my datasets. I explore it thoroughly and find key characteristics. I then clean it to ensure reliable results. After that, I visualize the data to uncover patterns and relationships. Then I look for trends that could guide my model selection or feature engineering. I make sure to choose the appropriate models based on the data and objectives. The last thing that I do is evaluate the models I trained. I review the performance against the target metric and I refine them if I need. I have gotten into the habit of following these steps when working on any project. This process ensures that I deliver a reliable and successful solution. "
   ]
  },
  {
   "cell_type": "markdown",
   "metadata": {},
   "source": [
    "- What is your final model and what quality score does it have?\n",
    "\n",
    "ANS: The task was to predict whether a user will churn or not. Because It was a binary classification problem, I used a logistic regresion model and a random forest model. I started with logistic regression because it was a good baseline. I got an AUC-ROC score of 0.8629. I then ran a random forest model. They can deal with categorical and numerical data effectively. I got an AUC-ROC score of 0.8562. Because logistic regression had a higher score, I then evaluated the test set for the highest AUC-ROC score. I got a test AUC-ROC score of 0.8584 and for test accuracy, I got a 0.8032. I was satisfied with my score and achieved 5.0/ 6.0 SP. "
   ]
  },
  {
   "cell_type": "markdown",
   "metadata": {},
   "source": [
    "# OVERALL CONCLUSION"
   ]
  },
  {
   "cell_type": "markdown",
   "metadata": {},
   "source": [
    "The overall goal of this project was to develop a model to forecast customer churn for the telecom operator Interconnect. By identifying clients who are likely to leave, the company aims to take proactive measures by offering clients promotional deals and special plans to reduce churn rates. When doing so, the company is able to boost loyalty, reduce revenue loss, and strengthen its market position. I ran two models - logistic regression and random forest. The logistic regression model had a better AUC-ROC score of 0.86. "
   ]
  }
 ],
 "metadata": {
  "ExecuteTimeLog": [
   {
    "duration": 2637,
    "start_time": "2025-01-03T00:22:26.682Z"
   },
   {
    "duration": 826,
    "start_time": "2025-01-03T00:23:00.995Z"
   },
   {
    "duration": 3,
    "start_time": "2025-01-03T00:23:01.823Z"
   },
   {
    "duration": 857,
    "start_time": "2025-01-03T00:23:49.763Z"
   },
   {
    "duration": 3,
    "start_time": "2025-01-03T00:23:50.622Z"
   },
   {
    "duration": 74,
    "start_time": "2025-01-03T00:23:50.630Z"
   },
   {
    "duration": 21,
    "start_time": "2025-01-03T00:28:37.734Z"
   },
   {
    "duration": 2,
    "start_time": "2025-01-03T00:29:05.457Z"
   },
   {
    "duration": 835,
    "start_time": "2025-01-03T00:29:31.193Z"
   },
   {
    "duration": 3,
    "start_time": "2025-01-03T00:29:32.030Z"
   },
   {
    "duration": 35,
    "start_time": "2025-01-03T00:29:32.035Z"
   },
   {
    "duration": 20,
    "start_time": "2025-01-03T00:29:32.071Z"
   },
   {
    "duration": 13,
    "start_time": "2025-01-03T00:29:32.094Z"
   },
   {
    "duration": 17,
    "start_time": "2025-01-03T00:29:32.130Z"
   },
   {
    "duration": 11,
    "start_time": "2025-01-03T00:29:32.148Z"
   },
   {
    "duration": 820,
    "start_time": "2025-01-03T00:33:54.813Z"
   },
   {
    "duration": 3,
    "start_time": "2025-01-03T00:33:55.635Z"
   },
   {
    "duration": 34,
    "start_time": "2025-01-03T00:33:55.641Z"
   },
   {
    "duration": 20,
    "start_time": "2025-01-03T00:33:55.677Z"
   },
   {
    "duration": 32,
    "start_time": "2025-01-03T00:33:55.699Z"
   },
   {
    "duration": 16,
    "start_time": "2025-01-03T00:33:55.733Z"
   },
   {
    "duration": 11,
    "start_time": "2025-01-03T00:33:55.751Z"
   },
   {
    "duration": 809,
    "start_time": "2025-01-03T00:35:31.034Z"
   },
   {
    "duration": 3,
    "start_time": "2025-01-03T00:35:31.846Z"
   },
   {
    "duration": 34,
    "start_time": "2025-01-03T00:35:31.851Z"
   },
   {
    "duration": 19,
    "start_time": "2025-01-03T00:35:31.887Z"
   },
   {
    "duration": 31,
    "start_time": "2025-01-03T00:35:31.909Z"
   },
   {
    "duration": 21,
    "start_time": "2025-01-03T00:35:31.941Z"
   },
   {
    "duration": 13,
    "start_time": "2025-01-03T00:35:31.964Z"
   },
   {
    "duration": 154,
    "start_time": "2025-01-03T00:35:31.980Z"
   },
   {
    "duration": 820,
    "start_time": "2025-01-03T00:35:41.304Z"
   },
   {
    "duration": 5,
    "start_time": "2025-01-03T00:35:42.126Z"
   },
   {
    "duration": 35,
    "start_time": "2025-01-03T00:35:42.133Z"
   },
   {
    "duration": 18,
    "start_time": "2025-01-03T00:35:42.170Z"
   },
   {
    "duration": 17,
    "start_time": "2025-01-03T00:35:42.190Z"
   },
   {
    "duration": 31,
    "start_time": "2025-01-03T00:35:42.210Z"
   },
   {
    "duration": 12,
    "start_time": "2025-01-03T00:35:42.243Z"
   },
   {
    "duration": 10,
    "start_time": "2025-01-03T00:35:42.257Z"
   },
   {
    "duration": 9,
    "start_time": "2025-01-03T00:36:15.377Z"
   },
   {
    "duration": 6,
    "start_time": "2025-01-03T00:36:31.937Z"
   },
   {
    "duration": 11,
    "start_time": "2025-01-03T00:36:47.549Z"
   },
   {
    "duration": 7,
    "start_time": "2025-01-03T00:36:55.268Z"
   },
   {
    "duration": 7,
    "start_time": "2025-01-03T00:37:08.720Z"
   },
   {
    "duration": 9,
    "start_time": "2025-01-03T00:37:23.173Z"
   },
   {
    "duration": 5,
    "start_time": "2025-01-03T00:37:50.146Z"
   },
   {
    "duration": 7,
    "start_time": "2025-01-03T00:37:52.268Z"
   },
   {
    "duration": 805,
    "start_time": "2025-01-03T00:39:18.720Z"
   },
   {
    "duration": 5,
    "start_time": "2025-01-03T00:39:19.527Z"
   },
   {
    "duration": 34,
    "start_time": "2025-01-03T00:39:19.533Z"
   },
   {
    "duration": 19,
    "start_time": "2025-01-03T00:39:19.568Z"
   },
   {
    "duration": 12,
    "start_time": "2025-01-03T00:39:19.590Z"
   },
   {
    "duration": 33,
    "start_time": "2025-01-03T00:39:19.606Z"
   },
   {
    "duration": 10,
    "start_time": "2025-01-03T00:39:19.642Z"
   },
   {
    "duration": 7,
    "start_time": "2025-01-03T00:39:19.654Z"
   },
   {
    "duration": 8,
    "start_time": "2025-01-03T00:39:19.663Z"
   },
   {
    "duration": 6,
    "start_time": "2025-01-03T00:39:19.672Z"
   },
   {
    "duration": 7,
    "start_time": "2025-01-03T00:39:19.679Z"
   },
   {
    "duration": 45,
    "start_time": "2025-01-03T00:39:19.687Z"
   },
   {
    "duration": 7,
    "start_time": "2025-01-03T00:39:19.734Z"
   },
   {
    "duration": 5,
    "start_time": "2025-01-03T00:39:19.744Z"
   },
   {
    "duration": 163,
    "start_time": "2025-01-03T00:39:19.750Z"
   },
   {
    "duration": 883,
    "start_time": "2025-01-03T00:39:28.954Z"
   },
   {
    "duration": 3,
    "start_time": "2025-01-03T00:39:29.839Z"
   },
   {
    "duration": 34,
    "start_time": "2025-01-03T00:39:29.843Z"
   },
   {
    "duration": 20,
    "start_time": "2025-01-03T00:39:29.880Z"
   },
   {
    "duration": 35,
    "start_time": "2025-01-03T00:39:29.902Z"
   },
   {
    "duration": 16,
    "start_time": "2025-01-03T00:39:29.939Z"
   },
   {
    "duration": 11,
    "start_time": "2025-01-03T00:39:29.958Z"
   },
   {
    "duration": 7,
    "start_time": "2025-01-03T00:39:29.971Z"
   },
   {
    "duration": 9,
    "start_time": "2025-01-03T00:39:29.980Z"
   },
   {
    "duration": 40,
    "start_time": "2025-01-03T00:39:29.991Z"
   },
   {
    "duration": 7,
    "start_time": "2025-01-03T00:39:30.033Z"
   },
   {
    "duration": 6,
    "start_time": "2025-01-03T00:39:30.041Z"
   },
   {
    "duration": 8,
    "start_time": "2025-01-03T00:39:30.048Z"
   },
   {
    "duration": 5,
    "start_time": "2025-01-03T00:39:30.057Z"
   },
   {
    "duration": 6,
    "start_time": "2025-01-03T00:39:30.063Z"
   },
   {
    "duration": 926,
    "start_time": "2025-01-03T00:45:00.325Z"
   },
   {
    "duration": 3,
    "start_time": "2025-01-03T00:45:01.254Z"
   },
   {
    "duration": 37,
    "start_time": "2025-01-03T00:45:01.259Z"
   },
   {
    "duration": 19,
    "start_time": "2025-01-03T00:45:01.298Z"
   },
   {
    "duration": 14,
    "start_time": "2025-01-03T00:45:01.332Z"
   },
   {
    "duration": 16,
    "start_time": "2025-01-03T00:45:01.348Z"
   },
   {
    "duration": 14,
    "start_time": "2025-01-03T00:45:01.366Z"
   },
   {
    "duration": 7,
    "start_time": "2025-01-03T00:45:01.382Z"
   },
   {
    "duration": 40,
    "start_time": "2025-01-03T00:45:01.392Z"
   },
   {
    "duration": 8,
    "start_time": "2025-01-03T00:45:01.434Z"
   },
   {
    "duration": 8,
    "start_time": "2025-01-03T00:45:01.443Z"
   },
   {
    "duration": 8,
    "start_time": "2025-01-03T00:45:01.454Z"
   },
   {
    "duration": 8,
    "start_time": "2025-01-03T00:45:01.464Z"
   },
   {
    "duration": 9,
    "start_time": "2025-01-03T00:45:01.475Z"
   },
   {
    "duration": 8,
    "start_time": "2025-01-03T00:45:01.486Z"
   },
   {
    "duration": 5,
    "start_time": "2025-01-03T00:45:01.533Z"
   },
   {
    "duration": 853,
    "start_time": "2025-01-03T00:47:27.171Z"
   },
   {
    "duration": 3,
    "start_time": "2025-01-03T00:47:28.031Z"
   },
   {
    "duration": 35,
    "start_time": "2025-01-03T00:47:28.037Z"
   },
   {
    "duration": 18,
    "start_time": "2025-01-03T00:47:28.074Z"
   },
   {
    "duration": 14,
    "start_time": "2025-01-03T00:47:28.096Z"
   },
   {
    "duration": 39,
    "start_time": "2025-01-03T00:47:28.112Z"
   },
   {
    "duration": 12,
    "start_time": "2025-01-03T00:47:28.153Z"
   },
   {
    "duration": 7,
    "start_time": "2025-01-03T00:47:28.167Z"
   },
   {
    "duration": 9,
    "start_time": "2025-01-03T00:47:28.176Z"
   },
   {
    "duration": 6,
    "start_time": "2025-01-03T00:47:28.187Z"
   },
   {
    "duration": 41,
    "start_time": "2025-01-03T00:47:28.195Z"
   },
   {
    "duration": 8,
    "start_time": "2025-01-03T00:47:28.237Z"
   },
   {
    "duration": 7,
    "start_time": "2025-01-03T00:47:28.246Z"
   },
   {
    "duration": 5,
    "start_time": "2025-01-03T00:47:28.256Z"
   },
   {
    "duration": 5,
    "start_time": "2025-01-03T00:47:28.262Z"
   },
   {
    "duration": 4,
    "start_time": "2025-01-03T00:47:28.269Z"
   },
   {
    "duration": 17,
    "start_time": "2025-01-03T00:47:28.276Z"
   },
   {
    "duration": 19,
    "start_time": "2025-01-03T00:47:36.559Z"
   },
   {
    "duration": 3,
    "start_time": "2025-01-03T00:49:45.818Z"
   },
   {
    "duration": 4,
    "start_time": "2025-01-03T00:49:55.254Z"
   },
   {
    "duration": 12,
    "start_time": "2025-01-03T00:50:04.559Z"
   },
   {
    "duration": 11,
    "start_time": "2025-01-03T00:50:14.547Z"
   },
   {
    "duration": 11,
    "start_time": "2025-01-03T00:51:29.604Z"
   },
   {
    "duration": 11,
    "start_time": "2025-01-03T00:51:41.810Z"
   },
   {
    "duration": 2,
    "start_time": "2025-01-03T00:53:08.914Z"
   },
   {
    "duration": 545,
    "start_time": "2025-01-03T01:02:22.566Z"
   },
   {
    "duration": 731,
    "start_time": "2025-01-03T01:13:19.423Z"
   },
   {
    "duration": 872,
    "start_time": "2025-01-03T01:13:28.752Z"
   },
   {
    "duration": 5,
    "start_time": "2025-01-03T01:13:29.626Z"
   },
   {
    "duration": 39,
    "start_time": "2025-01-03T01:13:29.633Z"
   },
   {
    "duration": 19,
    "start_time": "2025-01-03T01:13:29.675Z"
   },
   {
    "duration": 14,
    "start_time": "2025-01-03T01:13:29.695Z"
   },
   {
    "duration": 31,
    "start_time": "2025-01-03T01:13:29.711Z"
   },
   {
    "duration": 11,
    "start_time": "2025-01-03T01:13:29.744Z"
   },
   {
    "duration": 6,
    "start_time": "2025-01-03T01:13:29.757Z"
   },
   {
    "duration": 8,
    "start_time": "2025-01-03T01:13:29.765Z"
   },
   {
    "duration": 7,
    "start_time": "2025-01-03T01:13:29.776Z"
   },
   {
    "duration": 7,
    "start_time": "2025-01-03T01:13:29.785Z"
   },
   {
    "duration": 44,
    "start_time": "2025-01-03T01:13:29.793Z"
   },
   {
    "duration": 7,
    "start_time": "2025-01-03T01:13:29.839Z"
   },
   {
    "duration": 6,
    "start_time": "2025-01-03T01:13:29.848Z"
   },
   {
    "duration": 5,
    "start_time": "2025-01-03T01:13:29.856Z"
   },
   {
    "duration": 4,
    "start_time": "2025-01-03T01:13:29.863Z"
   },
   {
    "duration": 21,
    "start_time": "2025-01-03T01:13:29.868Z"
   },
   {
    "duration": 41,
    "start_time": "2025-01-03T01:13:29.890Z"
   },
   {
    "duration": 12,
    "start_time": "2025-01-03T01:13:29.933Z"
   },
   {
    "duration": 11,
    "start_time": "2025-01-03T01:13:29.947Z"
   },
   {
    "duration": 556,
    "start_time": "2025-01-03T01:13:29.959Z"
   },
   {
    "duration": 940,
    "start_time": "2025-01-03T01:13:30.517Z"
   },
   {
    "duration": 823,
    "start_time": "2025-01-03T01:13:39.708Z"
   },
   {
    "duration": 3,
    "start_time": "2025-01-03T01:13:40.533Z"
   },
   {
    "duration": 31,
    "start_time": "2025-01-03T01:13:40.538Z"
   },
   {
    "duration": 17,
    "start_time": "2025-01-03T01:13:40.571Z"
   },
   {
    "duration": 13,
    "start_time": "2025-01-03T01:13:40.591Z"
   },
   {
    "duration": 37,
    "start_time": "2025-01-03T01:13:40.606Z"
   },
   {
    "duration": 13,
    "start_time": "2025-01-03T01:13:40.646Z"
   },
   {
    "duration": 8,
    "start_time": "2025-01-03T01:13:40.661Z"
   },
   {
    "duration": 10,
    "start_time": "2025-01-03T01:13:40.670Z"
   },
   {
    "duration": 7,
    "start_time": "2025-01-03T01:13:40.681Z"
   },
   {
    "duration": 45,
    "start_time": "2025-01-03T01:13:40.689Z"
   },
   {
    "duration": 6,
    "start_time": "2025-01-03T01:13:40.737Z"
   },
   {
    "duration": 7,
    "start_time": "2025-01-03T01:13:40.745Z"
   },
   {
    "duration": 5,
    "start_time": "2025-01-03T01:13:40.755Z"
   },
   {
    "duration": 6,
    "start_time": "2025-01-03T01:13:40.762Z"
   },
   {
    "duration": 5,
    "start_time": "2025-01-03T01:13:40.769Z"
   },
   {
    "duration": 56,
    "start_time": "2025-01-03T01:13:40.776Z"
   },
   {
    "duration": 4,
    "start_time": "2025-01-03T01:13:40.834Z"
   },
   {
    "duration": 12,
    "start_time": "2025-01-03T01:13:40.839Z"
   },
   {
    "duration": 10,
    "start_time": "2025-01-03T01:13:40.853Z"
   },
   {
    "duration": 548,
    "start_time": "2025-01-03T01:13:40.865Z"
   },
   {
    "duration": 166,
    "start_time": "2025-01-03T01:13:41.415Z"
   },
   {
    "duration": 902,
    "start_time": "2025-01-03T01:16:09.640Z"
   },
   {
    "duration": 2,
    "start_time": "2025-01-03T01:16:10.544Z"
   },
   {
    "duration": 37,
    "start_time": "2025-01-03T01:16:10.548Z"
   },
   {
    "duration": 21,
    "start_time": "2025-01-03T01:16:10.588Z"
   },
   {
    "duration": 33,
    "start_time": "2025-01-03T01:16:10.612Z"
   },
   {
    "duration": 18,
    "start_time": "2025-01-03T01:16:10.647Z"
   },
   {
    "duration": 13,
    "start_time": "2025-01-03T01:16:10.667Z"
   },
   {
    "duration": 7,
    "start_time": "2025-01-03T01:16:10.682Z"
   },
   {
    "duration": 47,
    "start_time": "2025-01-03T01:16:10.690Z"
   },
   {
    "duration": 7,
    "start_time": "2025-01-03T01:16:10.738Z"
   },
   {
    "duration": 7,
    "start_time": "2025-01-03T01:16:10.747Z"
   },
   {
    "duration": 7,
    "start_time": "2025-01-03T01:16:10.757Z"
   },
   {
    "duration": 8,
    "start_time": "2025-01-03T01:16:10.766Z"
   },
   {
    "duration": 6,
    "start_time": "2025-01-03T01:16:10.782Z"
   },
   {
    "duration": 7,
    "start_time": "2025-01-03T01:16:10.790Z"
   },
   {
    "duration": 33,
    "start_time": "2025-01-03T01:16:10.800Z"
   },
   {
    "duration": 24,
    "start_time": "2025-01-03T01:16:10.836Z"
   },
   {
    "duration": 5,
    "start_time": "2025-01-03T01:16:10.863Z"
   },
   {
    "duration": 14,
    "start_time": "2025-01-03T01:16:10.869Z"
   },
   {
    "duration": 14,
    "start_time": "2025-01-03T01:16:10.885Z"
   },
   {
    "duration": 605,
    "start_time": "2025-01-03T01:16:10.901Z"
   },
   {
    "duration": 181,
    "start_time": "2025-01-03T01:16:11.508Z"
   },
   {
    "duration": 276,
    "start_time": "2025-01-03T01:16:11.691Z"
   },
   {
    "duration": 156,
    "start_time": "2025-01-04T00:38:27.735Z"
   },
   {
    "duration": 2596,
    "start_time": "2025-01-04T00:39:13.129Z"
   },
   {
    "duration": 2,
    "start_time": "2025-01-04T00:39:15.727Z"
   },
   {
    "duration": 65,
    "start_time": "2025-01-04T00:39:15.731Z"
   },
   {
    "duration": 19,
    "start_time": "2025-01-04T00:39:15.798Z"
   },
   {
    "duration": 12,
    "start_time": "2025-01-04T00:39:15.820Z"
   },
   {
    "duration": 14,
    "start_time": "2025-01-04T00:39:15.833Z"
   },
   {
    "duration": 10,
    "start_time": "2025-01-04T00:39:15.849Z"
   },
   {
    "duration": 6,
    "start_time": "2025-01-04T00:39:15.860Z"
   },
   {
    "duration": 40,
    "start_time": "2025-01-04T00:39:15.867Z"
   },
   {
    "duration": 8,
    "start_time": "2025-01-04T00:39:15.911Z"
   },
   {
    "duration": 5,
    "start_time": "2025-01-04T00:39:15.921Z"
   },
   {
    "duration": 6,
    "start_time": "2025-01-04T00:39:15.927Z"
   },
   {
    "duration": 6,
    "start_time": "2025-01-04T00:39:15.935Z"
   },
   {
    "duration": 6,
    "start_time": "2025-01-04T00:39:15.942Z"
   },
   {
    "duration": 6,
    "start_time": "2025-01-04T00:39:15.950Z"
   },
   {
    "duration": 6,
    "start_time": "2025-01-04T00:39:15.958Z"
   },
   {
    "duration": 5,
    "start_time": "2025-01-04T00:39:16.006Z"
   },
   {
    "duration": 5,
    "start_time": "2025-01-04T00:39:16.013Z"
   },
   {
    "duration": 6,
    "start_time": "2025-01-04T00:39:16.019Z"
   },
   {
    "duration": 4,
    "start_time": "2025-01-04T00:39:16.027Z"
   },
   {
    "duration": 18,
    "start_time": "2025-01-04T00:39:16.033Z"
   },
   {
    "duration": 3,
    "start_time": "2025-01-04T00:39:16.052Z"
   },
   {
    "duration": 52,
    "start_time": "2025-01-04T00:39:16.057Z"
   },
   {
    "duration": 11,
    "start_time": "2025-01-04T00:39:16.111Z"
   },
   {
    "duration": 547,
    "start_time": "2025-01-04T00:39:16.123Z"
   },
   {
    "duration": 111,
    "start_time": "2025-01-04T00:39:16.671Z"
   },
   {
    "duration": 324,
    "start_time": "2025-01-04T00:39:16.784Z"
   },
   {
    "duration": 855,
    "start_time": "2025-01-04T01:42:54.048Z"
   },
   {
    "duration": 3,
    "start_time": "2025-01-04T01:42:54.906Z"
   },
   {
    "duration": 37,
    "start_time": "2025-01-04T01:42:54.910Z"
   },
   {
    "duration": 19,
    "start_time": "2025-01-04T01:42:54.950Z"
   },
   {
    "duration": 12,
    "start_time": "2025-01-04T01:42:54.971Z"
   },
   {
    "duration": 31,
    "start_time": "2025-01-04T01:42:54.985Z"
   },
   {
    "duration": 10,
    "start_time": "2025-01-04T01:42:55.018Z"
   },
   {
    "duration": 6,
    "start_time": "2025-01-04T01:42:55.030Z"
   },
   {
    "duration": 6,
    "start_time": "2025-01-04T01:42:55.037Z"
   },
   {
    "duration": 8,
    "start_time": "2025-01-04T01:42:55.047Z"
   },
   {
    "duration": 6,
    "start_time": "2025-01-04T01:42:55.057Z"
   },
   {
    "duration": 46,
    "start_time": "2025-01-04T01:42:55.064Z"
   },
   {
    "duration": 7,
    "start_time": "2025-01-04T01:42:55.113Z"
   },
   {
    "duration": 6,
    "start_time": "2025-01-04T01:42:55.121Z"
   },
   {
    "duration": 6,
    "start_time": "2025-01-04T01:42:55.128Z"
   },
   {
    "duration": 6,
    "start_time": "2025-01-04T01:42:55.136Z"
   },
   {
    "duration": 5,
    "start_time": "2025-01-04T01:42:55.144Z"
   },
   {
    "duration": 5,
    "start_time": "2025-01-04T01:42:55.151Z"
   },
   {
    "duration": 49,
    "start_time": "2025-01-04T01:42:55.157Z"
   },
   {
    "duration": 4,
    "start_time": "2025-01-04T01:42:55.208Z"
   },
   {
    "duration": 19,
    "start_time": "2025-01-04T01:42:55.215Z"
   },
   {
    "duration": 3,
    "start_time": "2025-01-04T01:42:55.236Z"
   },
   {
    "duration": 11,
    "start_time": "2025-01-04T01:42:55.242Z"
   },
   {
    "duration": 11,
    "start_time": "2025-01-04T01:42:55.254Z"
   },
   {
    "duration": 564,
    "start_time": "2025-01-04T01:42:55.267Z"
   },
   {
    "duration": 155,
    "start_time": "2025-01-04T01:42:55.833Z"
   },
   {
    "duration": 304,
    "start_time": "2025-01-04T01:42:55.990Z"
   },
   {
    "duration": 2599,
    "start_time": "2025-01-04T18:49:22.799Z"
   },
   {
    "duration": 2,
    "start_time": "2025-01-04T18:49:25.400Z"
   },
   {
    "duration": 62,
    "start_time": "2025-01-04T18:49:25.404Z"
   },
   {
    "duration": 19,
    "start_time": "2025-01-04T18:49:25.468Z"
   },
   {
    "duration": 14,
    "start_time": "2025-01-04T18:49:25.489Z"
   },
   {
    "duration": 15,
    "start_time": "2025-01-04T18:49:25.506Z"
   },
   {
    "duration": 11,
    "start_time": "2025-01-04T18:49:25.532Z"
   },
   {
    "duration": 6,
    "start_time": "2025-01-04T18:49:25.544Z"
   },
   {
    "duration": 7,
    "start_time": "2025-01-04T18:49:25.552Z"
   },
   {
    "duration": 11,
    "start_time": "2025-01-04T18:49:25.564Z"
   },
   {
    "duration": 8,
    "start_time": "2025-01-04T18:49:25.577Z"
   },
   {
    "duration": 7,
    "start_time": "2025-01-04T18:49:25.587Z"
   },
   {
    "duration": 38,
    "start_time": "2025-01-04T18:49:25.595Z"
   },
   {
    "duration": 8,
    "start_time": "2025-01-04T18:49:25.636Z"
   },
   {
    "duration": 6,
    "start_time": "2025-01-04T18:49:25.647Z"
   },
   {
    "duration": 7,
    "start_time": "2025-01-04T18:49:25.655Z"
   },
   {
    "duration": 6,
    "start_time": "2025-01-04T18:49:25.664Z"
   },
   {
    "duration": 6,
    "start_time": "2025-01-04T18:49:25.673Z"
   },
   {
    "duration": 54,
    "start_time": "2025-01-04T18:49:25.681Z"
   },
   {
    "duration": 5,
    "start_time": "2025-01-04T18:49:25.737Z"
   },
   {
    "duration": 18,
    "start_time": "2025-01-04T18:49:25.745Z"
   },
   {
    "duration": 4,
    "start_time": "2025-01-04T18:49:25.766Z"
   },
   {
    "duration": 13,
    "start_time": "2025-01-04T18:49:25.772Z"
   },
   {
    "duration": 48,
    "start_time": "2025-01-04T18:49:25.787Z"
   },
   {
    "duration": 578,
    "start_time": "2025-01-04T18:49:25.837Z"
   },
   {
    "duration": 115,
    "start_time": "2025-01-04T18:49:26.416Z"
   },
   {
    "duration": 313,
    "start_time": "2025-01-04T18:49:26.533Z"
   },
   {
    "duration": 249,
    "start_time": "2025-01-04T18:50:35.773Z"
   },
   {
    "duration": 4,
    "start_time": "2025-01-04T18:50:46.046Z"
   },
   {
    "duration": 4,
    "start_time": "2025-01-04T18:53:25.516Z"
   },
   {
    "duration": 3,
    "start_time": "2025-01-04T18:59:49.971Z"
   },
   {
    "duration": 235,
    "start_time": "2025-01-04T18:59:50.708Z"
   },
   {
    "duration": 1077,
    "start_time": "2025-01-04T19:00:03.453Z"
   },
   {
    "duration": 2,
    "start_time": "2025-01-04T19:00:04.533Z"
   },
   {
    "duration": 51,
    "start_time": "2025-01-04T19:00:04.537Z"
   },
   {
    "duration": 20,
    "start_time": "2025-01-04T19:00:04.591Z"
   },
   {
    "duration": 17,
    "start_time": "2025-01-04T19:00:04.614Z"
   },
   {
    "duration": 18,
    "start_time": "2025-01-04T19:00:04.633Z"
   },
   {
    "duration": 12,
    "start_time": "2025-01-04T19:00:04.653Z"
   },
   {
    "duration": 6,
    "start_time": "2025-01-04T19:00:04.667Z"
   },
   {
    "duration": 7,
    "start_time": "2025-01-04T19:00:04.675Z"
   },
   {
    "duration": 8,
    "start_time": "2025-01-04T19:00:04.683Z"
   },
   {
    "duration": 43,
    "start_time": "2025-01-04T19:00:04.692Z"
   },
   {
    "duration": 5,
    "start_time": "2025-01-04T19:00:04.737Z"
   },
   {
    "duration": 6,
    "start_time": "2025-01-04T19:00:04.744Z"
   },
   {
    "duration": 6,
    "start_time": "2025-01-04T19:00:04.754Z"
   },
   {
    "duration": 6,
    "start_time": "2025-01-04T19:00:04.762Z"
   },
   {
    "duration": 7,
    "start_time": "2025-01-04T19:00:04.769Z"
   },
   {
    "duration": 5,
    "start_time": "2025-01-04T19:00:04.778Z"
   },
   {
    "duration": 50,
    "start_time": "2025-01-04T19:00:04.785Z"
   },
   {
    "duration": 6,
    "start_time": "2025-01-04T19:00:04.837Z"
   },
   {
    "duration": 5,
    "start_time": "2025-01-04T19:00:04.845Z"
   },
   {
    "duration": 19,
    "start_time": "2025-01-04T19:00:04.852Z"
   },
   {
    "duration": 4,
    "start_time": "2025-01-04T19:00:04.873Z"
   },
   {
    "duration": 11,
    "start_time": "2025-01-04T19:00:04.879Z"
   },
   {
    "duration": 41,
    "start_time": "2025-01-04T19:00:04.892Z"
   },
   {
    "duration": 243,
    "start_time": "2025-01-04T19:00:04.935Z"
   },
   {
    "duration": 0,
    "start_time": "2025-01-04T19:00:05.180Z"
   },
   {
    "duration": 0,
    "start_time": "2025-01-04T19:00:05.181Z"
   },
   {
    "duration": 0,
    "start_time": "2025-01-04T19:00:05.182Z"
   },
   {
    "duration": 0,
    "start_time": "2025-01-04T19:00:05.183Z"
   },
   {
    "duration": 1032,
    "start_time": "2025-01-04T19:00:35.900Z"
   },
   {
    "duration": 3,
    "start_time": "2025-01-04T19:00:36.934Z"
   },
   {
    "duration": 33,
    "start_time": "2025-01-04T19:00:36.938Z"
   },
   {
    "duration": 22,
    "start_time": "2025-01-04T19:00:36.972Z"
   },
   {
    "duration": 14,
    "start_time": "2025-01-04T19:00:36.996Z"
   },
   {
    "duration": 17,
    "start_time": "2025-01-04T19:00:37.032Z"
   },
   {
    "duration": 11,
    "start_time": "2025-01-04T19:00:37.051Z"
   },
   {
    "duration": 7,
    "start_time": "2025-01-04T19:00:37.064Z"
   },
   {
    "duration": 7,
    "start_time": "2025-01-04T19:00:37.072Z"
   },
   {
    "duration": 8,
    "start_time": "2025-01-04T19:00:37.081Z"
   },
   {
    "duration": 44,
    "start_time": "2025-01-04T19:00:37.091Z"
   },
   {
    "duration": 6,
    "start_time": "2025-01-04T19:00:37.137Z"
   },
   {
    "duration": 7,
    "start_time": "2025-01-04T19:00:37.145Z"
   },
   {
    "duration": 6,
    "start_time": "2025-01-04T19:00:37.155Z"
   },
   {
    "duration": 6,
    "start_time": "2025-01-04T19:00:37.163Z"
   },
   {
    "duration": 8,
    "start_time": "2025-01-04T19:00:37.172Z"
   },
   {
    "duration": 7,
    "start_time": "2025-01-04T19:00:37.182Z"
   },
   {
    "duration": 46,
    "start_time": "2025-01-04T19:00:37.190Z"
   },
   {
    "duration": 5,
    "start_time": "2025-01-04T19:00:37.238Z"
   },
   {
    "duration": 4,
    "start_time": "2025-01-04T19:00:37.245Z"
   },
   {
    "duration": 18,
    "start_time": "2025-01-04T19:00:37.251Z"
   },
   {
    "duration": 4,
    "start_time": "2025-01-04T19:00:37.270Z"
   },
   {
    "duration": 11,
    "start_time": "2025-01-04T19:00:37.276Z"
   },
   {
    "duration": 3,
    "start_time": "2025-01-04T19:00:37.288Z"
   },
   {
    "duration": 277,
    "start_time": "2025-01-04T19:00:37.292Z"
   },
   {
    "duration": 0,
    "start_time": "2025-01-04T19:00:37.571Z"
   },
   {
    "duration": 0,
    "start_time": "2025-01-04T19:00:37.572Z"
   },
   {
    "duration": 0,
    "start_time": "2025-01-04T19:00:37.573Z"
   },
   {
    "duration": 0,
    "start_time": "2025-01-04T19:00:37.573Z"
   },
   {
    "duration": 1023,
    "start_time": "2025-01-04T19:01:24.808Z"
   },
   {
    "duration": 3,
    "start_time": "2025-01-04T19:01:25.833Z"
   },
   {
    "duration": 33,
    "start_time": "2025-01-04T19:01:25.837Z"
   },
   {
    "duration": 19,
    "start_time": "2025-01-04T19:01:25.872Z"
   },
   {
    "duration": 14,
    "start_time": "2025-01-04T19:01:25.895Z"
   },
   {
    "duration": 33,
    "start_time": "2025-01-04T19:01:25.911Z"
   },
   {
    "duration": 11,
    "start_time": "2025-01-04T19:01:25.946Z"
   },
   {
    "duration": 6,
    "start_time": "2025-01-04T19:01:25.960Z"
   },
   {
    "duration": 7,
    "start_time": "2025-01-04T19:01:25.968Z"
   },
   {
    "duration": 9,
    "start_time": "2025-01-04T19:01:25.978Z"
   },
   {
    "duration": 44,
    "start_time": "2025-01-04T19:01:25.988Z"
   },
   {
    "duration": 6,
    "start_time": "2025-01-04T19:01:26.035Z"
   },
   {
    "duration": 17,
    "start_time": "2025-01-04T19:01:26.042Z"
   },
   {
    "duration": 6,
    "start_time": "2025-01-04T19:01:26.062Z"
   },
   {
    "duration": 7,
    "start_time": "2025-01-04T19:01:26.069Z"
   },
   {
    "duration": 7,
    "start_time": "2025-01-04T19:01:26.078Z"
   },
   {
    "duration": 6,
    "start_time": "2025-01-04T19:01:26.086Z"
   },
   {
    "duration": 38,
    "start_time": "2025-01-04T19:01:26.094Z"
   },
   {
    "duration": 7,
    "start_time": "2025-01-04T19:01:26.134Z"
   },
   {
    "duration": 6,
    "start_time": "2025-01-04T19:01:26.142Z"
   },
   {
    "duration": 20,
    "start_time": "2025-01-04T19:01:26.150Z"
   },
   {
    "duration": 4,
    "start_time": "2025-01-04T19:01:26.172Z"
   },
   {
    "duration": 12,
    "start_time": "2025-01-04T19:01:26.179Z"
   },
   {
    "duration": 38,
    "start_time": "2025-01-04T19:01:26.193Z"
   },
   {
    "duration": 4,
    "start_time": "2025-01-04T19:01:26.233Z"
   },
   {
    "duration": 0,
    "start_time": "2025-01-04T19:01:26.239Z"
   },
   {
    "duration": 0,
    "start_time": "2025-01-04T19:01:26.240Z"
   },
   {
    "duration": 0,
    "start_time": "2025-01-04T19:01:26.242Z"
   },
   {
    "duration": 0,
    "start_time": "2025-01-04T19:01:26.243Z"
   },
   {
    "duration": 1033,
    "start_time": "2025-01-04T19:01:41.805Z"
   },
   {
    "duration": 5,
    "start_time": "2025-01-04T19:01:42.841Z"
   },
   {
    "duration": 33,
    "start_time": "2025-01-04T19:01:42.848Z"
   },
   {
    "duration": 19,
    "start_time": "2025-01-04T19:01:42.883Z"
   },
   {
    "duration": 34,
    "start_time": "2025-01-04T19:01:42.904Z"
   },
   {
    "duration": 15,
    "start_time": "2025-01-04T19:01:42.940Z"
   },
   {
    "duration": 12,
    "start_time": "2025-01-04T19:01:42.957Z"
   },
   {
    "duration": 8,
    "start_time": "2025-01-04T19:01:42.970Z"
   },
   {
    "duration": 6,
    "start_time": "2025-01-04T19:01:42.980Z"
   },
   {
    "duration": 46,
    "start_time": "2025-01-04T19:01:42.988Z"
   },
   {
    "duration": 6,
    "start_time": "2025-01-04T19:01:43.036Z"
   },
   {
    "duration": 5,
    "start_time": "2025-01-04T19:01:43.044Z"
   },
   {
    "duration": 6,
    "start_time": "2025-01-04T19:01:43.051Z"
   },
   {
    "duration": 7,
    "start_time": "2025-01-04T19:01:43.060Z"
   },
   {
    "duration": 7,
    "start_time": "2025-01-04T19:01:43.069Z"
   },
   {
    "duration": 7,
    "start_time": "2025-01-04T19:01:43.078Z"
   },
   {
    "duration": 48,
    "start_time": "2025-01-04T19:01:43.086Z"
   },
   {
    "duration": 5,
    "start_time": "2025-01-04T19:01:43.136Z"
   },
   {
    "duration": 5,
    "start_time": "2025-01-04T19:01:43.143Z"
   },
   {
    "duration": 6,
    "start_time": "2025-01-04T19:01:43.150Z"
   },
   {
    "duration": 20,
    "start_time": "2025-01-04T19:01:43.157Z"
   },
   {
    "duration": 4,
    "start_time": "2025-01-04T19:01:43.178Z"
   },
   {
    "duration": 51,
    "start_time": "2025-01-04T19:01:43.184Z"
   },
   {
    "duration": 3,
    "start_time": "2025-01-04T19:01:43.237Z"
   },
   {
    "duration": 249,
    "start_time": "2025-01-04T19:01:43.242Z"
   },
   {
    "duration": 0,
    "start_time": "2025-01-04T19:01:43.493Z"
   },
   {
    "duration": 0,
    "start_time": "2025-01-04T19:01:43.493Z"
   },
   {
    "duration": 0,
    "start_time": "2025-01-04T19:01:43.495Z"
   },
   {
    "duration": 0,
    "start_time": "2025-01-04T19:01:43.496Z"
   },
   {
    "duration": 1036,
    "start_time": "2025-01-04T19:07:23.980Z"
   },
   {
    "duration": 2,
    "start_time": "2025-01-04T19:07:25.018Z"
   },
   {
    "duration": 34,
    "start_time": "2025-01-04T19:07:25.022Z"
   },
   {
    "duration": 18,
    "start_time": "2025-01-04T19:07:25.058Z"
   },
   {
    "duration": 12,
    "start_time": "2025-01-04T19:07:25.078Z"
   },
   {
    "duration": 16,
    "start_time": "2025-01-04T19:07:25.091Z"
   },
   {
    "duration": 11,
    "start_time": "2025-01-04T19:07:25.132Z"
   },
   {
    "duration": 6,
    "start_time": "2025-01-04T19:07:25.145Z"
   },
   {
    "duration": 7,
    "start_time": "2025-01-04T19:07:25.153Z"
   },
   {
    "duration": 8,
    "start_time": "2025-01-04T19:07:25.164Z"
   },
   {
    "duration": 6,
    "start_time": "2025-01-04T19:07:25.173Z"
   },
   {
    "duration": 5,
    "start_time": "2025-01-04T19:07:25.181Z"
   },
   {
    "duration": 47,
    "start_time": "2025-01-04T19:07:25.188Z"
   },
   {
    "duration": 6,
    "start_time": "2025-01-04T19:07:25.237Z"
   },
   {
    "duration": 7,
    "start_time": "2025-01-04T19:07:25.245Z"
   },
   {
    "duration": 7,
    "start_time": "2025-01-04T19:07:25.254Z"
   },
   {
    "duration": 5,
    "start_time": "2025-01-04T19:07:25.262Z"
   },
   {
    "duration": 4,
    "start_time": "2025-01-04T19:07:25.269Z"
   },
   {
    "duration": 6,
    "start_time": "2025-01-04T19:07:25.275Z"
   },
   {
    "duration": 4,
    "start_time": "2025-01-04T19:07:25.284Z"
   },
   {
    "duration": 59,
    "start_time": "2025-01-04T19:07:25.290Z"
   },
   {
    "duration": 4,
    "start_time": "2025-01-04T19:07:25.351Z"
   },
   {
    "duration": 12,
    "start_time": "2025-01-04T19:07:25.356Z"
   },
   {
    "duration": 4,
    "start_time": "2025-01-04T19:07:25.370Z"
   },
   {
    "duration": 256,
    "start_time": "2025-01-04T19:07:25.376Z"
   },
   {
    "duration": 0,
    "start_time": "2025-01-04T19:07:25.635Z"
   },
   {
    "duration": 0,
    "start_time": "2025-01-04T19:07:25.636Z"
   },
   {
    "duration": 0,
    "start_time": "2025-01-04T19:07:25.637Z"
   },
   {
    "duration": 0,
    "start_time": "2025-01-04T19:07:25.639Z"
   },
   {
    "duration": 0,
    "start_time": "2025-01-04T19:07:25.640Z"
   },
   {
    "duration": 1049,
    "start_time": "2025-01-04T19:07:52.799Z"
   },
   {
    "duration": 3,
    "start_time": "2025-01-04T19:07:53.851Z"
   },
   {
    "duration": 33,
    "start_time": "2025-01-04T19:07:53.855Z"
   },
   {
    "duration": 19,
    "start_time": "2025-01-04T19:07:53.890Z"
   },
   {
    "duration": 26,
    "start_time": "2025-01-04T19:07:53.912Z"
   },
   {
    "duration": 15,
    "start_time": "2025-01-04T19:07:53.941Z"
   },
   {
    "duration": 10,
    "start_time": "2025-01-04T19:07:53.959Z"
   },
   {
    "duration": 6,
    "start_time": "2025-01-04T19:07:53.971Z"
   },
   {
    "duration": 8,
    "start_time": "2025-01-04T19:07:53.979Z"
   },
   {
    "duration": 43,
    "start_time": "2025-01-04T19:07:53.989Z"
   },
   {
    "duration": 6,
    "start_time": "2025-01-04T19:07:54.034Z"
   },
   {
    "duration": 6,
    "start_time": "2025-01-04T19:07:54.042Z"
   },
   {
    "duration": 7,
    "start_time": "2025-01-04T19:07:54.049Z"
   },
   {
    "duration": 5,
    "start_time": "2025-01-04T19:07:54.060Z"
   },
   {
    "duration": 6,
    "start_time": "2025-01-04T19:07:54.067Z"
   },
   {
    "duration": 7,
    "start_time": "2025-01-04T19:07:54.075Z"
   },
   {
    "duration": 5,
    "start_time": "2025-01-04T19:07:54.084Z"
   },
   {
    "duration": 6,
    "start_time": "2025-01-04T19:07:54.132Z"
   },
   {
    "duration": 6,
    "start_time": "2025-01-04T19:07:54.140Z"
   },
   {
    "duration": 5,
    "start_time": "2025-01-04T19:07:54.147Z"
   },
   {
    "duration": 20,
    "start_time": "2025-01-04T19:07:54.154Z"
   },
   {
    "duration": 4,
    "start_time": "2025-01-04T19:07:54.176Z"
   },
   {
    "duration": 12,
    "start_time": "2025-01-04T19:07:54.181Z"
   },
   {
    "duration": 37,
    "start_time": "2025-01-04T19:07:54.195Z"
   },
   {
    "duration": 6,
    "start_time": "2025-01-04T19:07:54.234Z"
   },
   {
    "duration": 27,
    "start_time": "2025-01-04T19:07:54.242Z"
   },
   {
    "duration": 12,
    "start_time": "2025-01-04T19:07:54.271Z"
   },
   {
    "duration": 539,
    "start_time": "2025-01-04T19:07:54.285Z"
   },
   {
    "duration": 116,
    "start_time": "2025-01-04T19:07:54.825Z"
   },
   {
    "duration": 301,
    "start_time": "2025-01-04T19:07:54.943Z"
   },
   {
    "duration": 1039,
    "start_time": "2025-01-04T19:10:12.210Z"
   },
   {
    "duration": 3,
    "start_time": "2025-01-04T19:10:13.251Z"
   },
   {
    "duration": 32,
    "start_time": "2025-01-04T19:10:13.256Z"
   },
   {
    "duration": 19,
    "start_time": "2025-01-04T19:10:13.290Z"
   },
   {
    "duration": 31,
    "start_time": "2025-01-04T19:10:13.312Z"
   },
   {
    "duration": 15,
    "start_time": "2025-01-04T19:10:13.344Z"
   },
   {
    "duration": 10,
    "start_time": "2025-01-04T19:10:13.361Z"
   },
   {
    "duration": 7,
    "start_time": "2025-01-04T19:10:13.373Z"
   },
   {
    "duration": 6,
    "start_time": "2025-01-04T19:10:13.382Z"
   },
   {
    "duration": 42,
    "start_time": "2025-01-04T19:10:13.390Z"
   },
   {
    "duration": 9,
    "start_time": "2025-01-04T19:10:13.434Z"
   },
   {
    "duration": 6,
    "start_time": "2025-01-04T19:10:13.445Z"
   },
   {
    "duration": 7,
    "start_time": "2025-01-04T19:10:13.452Z"
   },
   {
    "duration": 6,
    "start_time": "2025-01-04T19:10:13.463Z"
   },
   {
    "duration": 7,
    "start_time": "2025-01-04T19:10:13.471Z"
   },
   {
    "duration": 8,
    "start_time": "2025-01-04T19:10:13.479Z"
   },
   {
    "duration": 46,
    "start_time": "2025-01-04T19:10:13.489Z"
   },
   {
    "duration": 6,
    "start_time": "2025-01-04T19:10:13.537Z"
   },
   {
    "duration": 7,
    "start_time": "2025-01-04T19:10:13.544Z"
   },
   {
    "duration": 5,
    "start_time": "2025-01-04T19:10:13.552Z"
   },
   {
    "duration": 20,
    "start_time": "2025-01-04T19:10:13.560Z"
   },
   {
    "duration": 4,
    "start_time": "2025-01-04T19:10:13.582Z"
   },
   {
    "duration": 51,
    "start_time": "2025-01-04T19:10:13.588Z"
   },
   {
    "duration": 3,
    "start_time": "2025-01-04T19:10:13.641Z"
   },
   {
    "duration": 7,
    "start_time": "2025-01-04T19:10:13.646Z"
   },
   {
    "duration": 26,
    "start_time": "2025-01-04T19:10:13.655Z"
   },
   {
    "duration": 362,
    "start_time": "2025-01-04T19:10:13.684Z"
   },
   {
    "duration": 0,
    "start_time": "2025-01-04T19:10:14.048Z"
   },
   {
    "duration": 0,
    "start_time": "2025-01-04T19:10:14.049Z"
   },
   {
    "duration": 0,
    "start_time": "2025-01-04T19:10:14.050Z"
   },
   {
    "duration": 0,
    "start_time": "2025-01-04T19:10:14.052Z"
   },
   {
    "duration": 2745,
    "start_time": "2025-01-04T20:46:48.238Z"
   },
   {
    "duration": 3,
    "start_time": "2025-01-04T20:46:50.985Z"
   },
   {
    "duration": 51,
    "start_time": "2025-01-04T20:46:50.990Z"
   },
   {
    "duration": 21,
    "start_time": "2025-01-04T20:46:51.043Z"
   },
   {
    "duration": 12,
    "start_time": "2025-01-04T20:46:51.066Z"
   },
   {
    "duration": 25,
    "start_time": "2025-01-04T20:46:51.080Z"
   },
   {
    "duration": 11,
    "start_time": "2025-01-04T20:46:51.107Z"
   },
   {
    "duration": 6,
    "start_time": "2025-01-04T20:46:51.119Z"
   },
   {
    "duration": 7,
    "start_time": "2025-01-04T20:46:51.127Z"
   },
   {
    "duration": 7,
    "start_time": "2025-01-04T20:46:51.138Z"
   },
   {
    "duration": 5,
    "start_time": "2025-01-04T20:46:51.147Z"
   },
   {
    "duration": 6,
    "start_time": "2025-01-04T20:46:51.154Z"
   },
   {
    "duration": 7,
    "start_time": "2025-01-04T20:46:51.205Z"
   },
   {
    "duration": 7,
    "start_time": "2025-01-04T20:46:51.213Z"
   },
   {
    "duration": 5,
    "start_time": "2025-01-04T20:46:51.222Z"
   },
   {
    "duration": 7,
    "start_time": "2025-01-04T20:46:51.229Z"
   },
   {
    "duration": 4,
    "start_time": "2025-01-04T20:46:51.239Z"
   },
   {
    "duration": 5,
    "start_time": "2025-01-04T20:46:51.245Z"
   },
   {
    "duration": 5,
    "start_time": "2025-01-04T20:46:51.251Z"
   },
   {
    "duration": 5,
    "start_time": "2025-01-04T20:46:51.257Z"
   },
   {
    "duration": 18,
    "start_time": "2025-01-04T20:46:51.304Z"
   },
   {
    "duration": 3,
    "start_time": "2025-01-04T20:46:51.324Z"
   },
   {
    "duration": 12,
    "start_time": "2025-01-04T20:46:51.329Z"
   },
   {
    "duration": 2,
    "start_time": "2025-01-04T20:46:51.342Z"
   },
   {
    "duration": 7,
    "start_time": "2025-01-04T20:46:51.346Z"
   },
   {
    "duration": 57,
    "start_time": "2025-01-04T20:46:51.356Z"
   },
   {
    "duration": 325,
    "start_time": "2025-01-04T20:46:51.415Z"
   },
   {
    "duration": 0,
    "start_time": "2025-01-04T20:46:51.742Z"
   },
   {
    "duration": 0,
    "start_time": "2025-01-04T20:46:51.744Z"
   },
   {
    "duration": 0,
    "start_time": "2025-01-04T20:46:51.744Z"
   },
   {
    "duration": 0,
    "start_time": "2025-01-04T20:46:51.746Z"
   },
   {
    "duration": 1024,
    "start_time": "2025-01-04T20:48:28.742Z"
   },
   {
    "duration": 3,
    "start_time": "2025-01-04T20:48:29.768Z"
   },
   {
    "duration": 41,
    "start_time": "2025-01-04T20:48:29.773Z"
   },
   {
    "duration": 19,
    "start_time": "2025-01-04T20:48:29.817Z"
   },
   {
    "duration": 12,
    "start_time": "2025-01-04T20:48:29.838Z"
   },
   {
    "duration": 17,
    "start_time": "2025-01-04T20:48:29.852Z"
   },
   {
    "duration": 39,
    "start_time": "2025-01-04T20:48:29.871Z"
   },
   {
    "duration": 9,
    "start_time": "2025-01-04T20:48:29.912Z"
   },
   {
    "duration": 6,
    "start_time": "2025-01-04T20:48:29.923Z"
   },
   {
    "duration": 8,
    "start_time": "2025-01-04T20:48:29.934Z"
   },
   {
    "duration": 6,
    "start_time": "2025-01-04T20:48:29.943Z"
   },
   {
    "duration": 5,
    "start_time": "2025-01-04T20:48:29.951Z"
   },
   {
    "duration": 6,
    "start_time": "2025-01-04T20:48:29.958Z"
   },
   {
    "duration": 7,
    "start_time": "2025-01-04T20:48:30.007Z"
   },
   {
    "duration": 5,
    "start_time": "2025-01-04T20:48:30.016Z"
   },
   {
    "duration": 7,
    "start_time": "2025-01-04T20:48:30.024Z"
   },
   {
    "duration": 5,
    "start_time": "2025-01-04T20:48:30.032Z"
   },
   {
    "duration": 5,
    "start_time": "2025-01-04T20:48:30.039Z"
   },
   {
    "duration": 5,
    "start_time": "2025-01-04T20:48:30.046Z"
   },
   {
    "duration": 4,
    "start_time": "2025-01-04T20:48:30.052Z"
   },
   {
    "duration": 65,
    "start_time": "2025-01-04T20:48:30.057Z"
   },
   {
    "duration": 3,
    "start_time": "2025-01-04T20:48:30.124Z"
   },
   {
    "duration": 11,
    "start_time": "2025-01-04T20:48:30.129Z"
   },
   {
    "duration": 3,
    "start_time": "2025-01-04T20:48:30.141Z"
   },
   {
    "duration": 7,
    "start_time": "2025-01-04T20:48:30.146Z"
   },
   {
    "duration": 53,
    "start_time": "2025-01-04T20:48:30.155Z"
   },
   {
    "duration": 346,
    "start_time": "2025-01-04T20:48:30.210Z"
   },
   {
    "duration": 0,
    "start_time": "2025-01-04T20:48:30.558Z"
   },
   {
    "duration": 0,
    "start_time": "2025-01-04T20:48:30.559Z"
   },
   {
    "duration": 0,
    "start_time": "2025-01-04T20:48:30.560Z"
   },
   {
    "duration": 0,
    "start_time": "2025-01-04T20:48:30.562Z"
   },
   {
    "duration": 992,
    "start_time": "2025-01-04T21:07:09.055Z"
   },
   {
    "duration": 4,
    "start_time": "2025-01-04T21:07:10.049Z"
   },
   {
    "duration": 36,
    "start_time": "2025-01-04T21:07:10.054Z"
   },
   {
    "duration": 23,
    "start_time": "2025-01-04T21:07:10.092Z"
   },
   {
    "duration": 13,
    "start_time": "2025-01-04T21:07:10.117Z"
   },
   {
    "duration": 14,
    "start_time": "2025-01-04T21:07:10.131Z"
   },
   {
    "duration": 10,
    "start_time": "2025-01-04T21:07:10.147Z"
   },
   {
    "duration": 7,
    "start_time": "2025-01-04T21:07:10.158Z"
   },
   {
    "duration": 42,
    "start_time": "2025-01-04T21:07:10.166Z"
   },
   {
    "duration": 8,
    "start_time": "2025-01-04T21:07:10.210Z"
   },
   {
    "duration": 6,
    "start_time": "2025-01-04T21:07:10.219Z"
   },
   {
    "duration": 6,
    "start_time": "2025-01-04T21:07:10.226Z"
   },
   {
    "duration": 6,
    "start_time": "2025-01-04T21:07:10.234Z"
   },
   {
    "duration": 7,
    "start_time": "2025-01-04T21:07:10.243Z"
   },
   {
    "duration": 6,
    "start_time": "2025-01-04T21:07:10.251Z"
   },
   {
    "duration": 47,
    "start_time": "2025-01-04T21:07:10.259Z"
   },
   {
    "duration": 6,
    "start_time": "2025-01-04T21:07:10.308Z"
   },
   {
    "duration": 6,
    "start_time": "2025-01-04T21:07:10.316Z"
   },
   {
    "duration": 5,
    "start_time": "2025-01-04T21:07:10.324Z"
   },
   {
    "duration": 4,
    "start_time": "2025-01-04T21:07:10.331Z"
   },
   {
    "duration": 17,
    "start_time": "2025-01-04T21:07:10.337Z"
   },
   {
    "duration": 5,
    "start_time": "2025-01-04T21:07:10.355Z"
   },
   {
    "duration": 52,
    "start_time": "2025-01-04T21:07:10.361Z"
   },
   {
    "duration": 12,
    "start_time": "2025-01-04T21:07:10.415Z"
   },
   {
    "duration": 555,
    "start_time": "2025-01-04T21:07:10.429Z"
   },
   {
    "duration": 111,
    "start_time": "2025-01-04T21:07:10.986Z"
   },
   {
    "duration": 304,
    "start_time": "2025-01-04T21:07:11.098Z"
   },
   {
    "duration": 163,
    "start_time": "2025-01-06T14:24:23.889Z"
   },
   {
    "duration": 2727,
    "start_time": "2025-01-06T14:24:32.385Z"
   },
   {
    "duration": 2,
    "start_time": "2025-01-06T14:24:35.115Z"
   },
   {
    "duration": 65,
    "start_time": "2025-01-06T14:24:35.123Z"
   },
   {
    "duration": 19,
    "start_time": "2025-01-06T14:24:35.189Z"
   },
   {
    "duration": 13,
    "start_time": "2025-01-06T14:24:35.212Z"
   },
   {
    "duration": 16,
    "start_time": "2025-01-06T14:24:35.227Z"
   },
   {
    "duration": 14,
    "start_time": "2025-01-06T14:24:35.245Z"
   },
   {
    "duration": 8,
    "start_time": "2025-01-06T14:24:35.260Z"
   },
   {
    "duration": 6,
    "start_time": "2025-01-06T14:24:35.269Z"
   },
   {
    "duration": 9,
    "start_time": "2025-01-06T14:24:35.277Z"
   },
   {
    "duration": 38,
    "start_time": "2025-01-06T14:24:35.288Z"
   },
   {
    "duration": 7,
    "start_time": "2025-01-06T14:24:35.328Z"
   },
   {
    "duration": 6,
    "start_time": "2025-01-06T14:24:35.336Z"
   },
   {
    "duration": 6,
    "start_time": "2025-01-06T14:24:35.346Z"
   },
   {
    "duration": 6,
    "start_time": "2025-01-06T14:24:35.353Z"
   },
   {
    "duration": 5,
    "start_time": "2025-01-06T14:24:35.362Z"
   },
   {
    "duration": 7,
    "start_time": "2025-01-06T14:24:35.369Z"
   },
   {
    "duration": 48,
    "start_time": "2025-01-06T14:24:35.377Z"
   },
   {
    "duration": 6,
    "start_time": "2025-01-06T14:24:35.426Z"
   },
   {
    "duration": 4,
    "start_time": "2025-01-06T14:24:35.434Z"
   },
   {
    "duration": 4,
    "start_time": "2025-01-06T14:24:35.440Z"
   },
   {
    "duration": 18,
    "start_time": "2025-01-06T14:24:35.445Z"
   },
   {
    "duration": 3,
    "start_time": "2025-01-06T14:24:35.465Z"
   },
   {
    "duration": 11,
    "start_time": "2025-01-06T14:24:35.470Z"
   },
   {
    "duration": 50,
    "start_time": "2025-01-06T14:24:35.483Z"
   },
   {
    "duration": 576,
    "start_time": "2025-01-06T14:24:35.535Z"
   },
   {
    "duration": 116,
    "start_time": "2025-01-06T14:24:36.113Z"
   },
   {
    "duration": 310,
    "start_time": "2025-01-06T14:24:36.230Z"
   },
   {
    "duration": 5,
    "start_time": "2025-01-06T14:24:55.492Z"
   },
   {
    "duration": 1014,
    "start_time": "2025-01-06T14:26:19.030Z"
   },
   {
    "duration": 3,
    "start_time": "2025-01-06T14:26:20.046Z"
   },
   {
    "duration": 37,
    "start_time": "2025-01-06T14:26:20.051Z"
   },
   {
    "duration": 19,
    "start_time": "2025-01-06T14:26:20.089Z"
   },
   {
    "duration": 24,
    "start_time": "2025-01-06T14:26:20.111Z"
   },
   {
    "duration": 13,
    "start_time": "2025-01-06T14:26:20.137Z"
   },
   {
    "duration": 12,
    "start_time": "2025-01-06T14:26:20.152Z"
   },
   {
    "duration": 6,
    "start_time": "2025-01-06T14:26:20.165Z"
   },
   {
    "duration": 8,
    "start_time": "2025-01-06T14:26:20.173Z"
   },
   {
    "duration": 45,
    "start_time": "2025-01-06T14:26:20.183Z"
   },
   {
    "duration": 6,
    "start_time": "2025-01-06T14:26:20.230Z"
   },
   {
    "duration": 6,
    "start_time": "2025-01-06T14:26:20.237Z"
   },
   {
    "duration": 6,
    "start_time": "2025-01-06T14:26:20.245Z"
   },
   {
    "duration": 5,
    "start_time": "2025-01-06T14:26:20.254Z"
   },
   {
    "duration": 6,
    "start_time": "2025-01-06T14:26:20.261Z"
   },
   {
    "duration": 7,
    "start_time": "2025-01-06T14:26:20.269Z"
   },
   {
    "duration": 5,
    "start_time": "2025-01-06T14:26:20.277Z"
   },
   {
    "duration": 5,
    "start_time": "2025-01-06T14:26:20.324Z"
   },
   {
    "duration": 5,
    "start_time": "2025-01-06T14:26:20.331Z"
   },
   {
    "duration": 4,
    "start_time": "2025-01-06T14:26:20.338Z"
   },
   {
    "duration": 18,
    "start_time": "2025-01-06T14:26:20.344Z"
   },
   {
    "duration": 4,
    "start_time": "2025-01-06T14:26:20.363Z"
   },
   {
    "duration": 12,
    "start_time": "2025-01-06T14:26:20.369Z"
   },
   {
    "duration": 51,
    "start_time": "2025-01-06T14:26:20.382Z"
   },
   {
    "duration": 554,
    "start_time": "2025-01-06T14:26:20.434Z"
   },
   {
    "duration": 110,
    "start_time": "2025-01-06T14:26:20.990Z"
   },
   {
    "duration": 283,
    "start_time": "2025-01-06T14:26:21.102Z"
   },
   {
    "duration": 44,
    "start_time": "2025-01-06T14:39:49.192Z"
   },
   {
    "duration": 592,
    "start_time": "2025-01-06T14:43:12.081Z"
   },
   {
    "duration": 2,
    "start_time": "2025-01-06T14:49:10.106Z"
   },
   {
    "duration": 3,
    "start_time": "2025-01-06T14:56:19.530Z"
   },
   {
    "duration": 3,
    "start_time": "2025-01-06T14:57:28.872Z"
   },
   {
    "duration": 2,
    "start_time": "2025-01-06T15:04:46.957Z"
   },
   {
    "duration": 14,
    "start_time": "2025-01-06T15:11:15.174Z"
   },
   {
    "duration": 799,
    "start_time": "2025-01-06T15:11:19.952Z"
   },
   {
    "duration": 3,
    "start_time": "2025-01-06T15:11:20.753Z"
   },
   {
    "duration": 37,
    "start_time": "2025-01-06T15:11:20.758Z"
   },
   {
    "duration": 17,
    "start_time": "2025-01-06T15:11:20.797Z"
   },
   {
    "duration": 13,
    "start_time": "2025-01-06T15:11:20.824Z"
   },
   {
    "duration": 14,
    "start_time": "2025-01-06T15:11:20.838Z"
   },
   {
    "duration": 11,
    "start_time": "2025-01-06T15:11:20.854Z"
   },
   {
    "duration": 6,
    "start_time": "2025-01-06T15:11:20.866Z"
   },
   {
    "duration": 6,
    "start_time": "2025-01-06T15:11:20.874Z"
   },
   {
    "duration": 45,
    "start_time": "2025-01-06T15:11:20.881Z"
   },
   {
    "duration": 6,
    "start_time": "2025-01-06T15:11:20.927Z"
   },
   {
    "duration": 6,
    "start_time": "2025-01-06T15:11:20.934Z"
   },
   {
    "duration": 7,
    "start_time": "2025-01-06T15:11:20.941Z"
   },
   {
    "duration": 5,
    "start_time": "2025-01-06T15:11:20.952Z"
   },
   {
    "duration": 6,
    "start_time": "2025-01-06T15:11:20.959Z"
   },
   {
    "duration": 6,
    "start_time": "2025-01-06T15:11:20.967Z"
   },
   {
    "duration": 5,
    "start_time": "2025-01-06T15:11:20.974Z"
   },
   {
    "duration": 5,
    "start_time": "2025-01-06T15:11:21.025Z"
   },
   {
    "duration": 5,
    "start_time": "2025-01-06T15:11:21.032Z"
   },
   {
    "duration": 4,
    "start_time": "2025-01-06T15:11:21.038Z"
   },
   {
    "duration": 17,
    "start_time": "2025-01-06T15:11:21.044Z"
   },
   {
    "duration": 4,
    "start_time": "2025-01-06T15:11:21.062Z"
   },
   {
    "duration": 11,
    "start_time": "2025-01-06T15:11:21.067Z"
   },
   {
    "duration": 47,
    "start_time": "2025-01-06T15:11:21.079Z"
   },
   {
    "duration": 537,
    "start_time": "2025-01-06T15:11:21.128Z"
   },
   {
    "duration": 157,
    "start_time": "2025-01-06T15:11:21.667Z"
   },
   {
    "duration": 300,
    "start_time": "2025-01-06T15:11:21.826Z"
   },
   {
    "duration": 162,
    "start_time": "2025-01-06T15:11:22.127Z"
   },
   {
    "duration": 4,
    "start_time": "2025-01-06T15:11:22.291Z"
   },
   {
    "duration": 0,
    "start_time": "2025-01-06T15:11:22.297Z"
   },
   {
    "duration": 0,
    "start_time": "2025-01-06T15:11:22.298Z"
   },
   {
    "duration": 0,
    "start_time": "2025-01-06T15:11:22.299Z"
   },
   {
    "duration": 850,
    "start_time": "2025-01-06T15:11:33.247Z"
   },
   {
    "duration": 3,
    "start_time": "2025-01-06T15:11:34.098Z"
   },
   {
    "duration": 40,
    "start_time": "2025-01-06T15:11:34.103Z"
   },
   {
    "duration": 19,
    "start_time": "2025-01-06T15:11:34.144Z"
   },
   {
    "duration": 12,
    "start_time": "2025-01-06T15:11:34.164Z"
   },
   {
    "duration": 14,
    "start_time": "2025-01-06T15:11:34.178Z"
   },
   {
    "duration": 32,
    "start_time": "2025-01-06T15:11:34.193Z"
   },
   {
    "duration": 6,
    "start_time": "2025-01-06T15:11:34.229Z"
   },
   {
    "duration": 7,
    "start_time": "2025-01-06T15:11:34.237Z"
   },
   {
    "duration": 8,
    "start_time": "2025-01-06T15:11:34.245Z"
   },
   {
    "duration": 6,
    "start_time": "2025-01-06T15:11:34.255Z"
   },
   {
    "duration": 6,
    "start_time": "2025-01-06T15:11:34.262Z"
   },
   {
    "duration": 6,
    "start_time": "2025-01-06T15:11:34.270Z"
   },
   {
    "duration": 48,
    "start_time": "2025-01-06T15:11:34.278Z"
   },
   {
    "duration": 6,
    "start_time": "2025-01-06T15:11:34.328Z"
   },
   {
    "duration": 7,
    "start_time": "2025-01-06T15:11:34.335Z"
   },
   {
    "duration": 5,
    "start_time": "2025-01-06T15:11:34.343Z"
   },
   {
    "duration": 4,
    "start_time": "2025-01-06T15:11:34.350Z"
   },
   {
    "duration": 5,
    "start_time": "2025-01-06T15:11:34.356Z"
   },
   {
    "duration": 5,
    "start_time": "2025-01-06T15:11:34.362Z"
   },
   {
    "duration": 58,
    "start_time": "2025-01-06T15:11:34.369Z"
   },
   {
    "duration": 3,
    "start_time": "2025-01-06T15:11:34.429Z"
   },
   {
    "duration": 12,
    "start_time": "2025-01-06T15:11:34.436Z"
   },
   {
    "duration": 10,
    "start_time": "2025-01-06T15:11:34.449Z"
   },
   {
    "duration": 518,
    "start_time": "2025-01-06T15:11:34.461Z"
   },
   {
    "duration": 155,
    "start_time": "2025-01-06T15:11:34.981Z"
   },
   {
    "duration": 294,
    "start_time": "2025-01-06T15:11:35.138Z"
   },
   {
    "duration": 155,
    "start_time": "2025-01-06T15:11:35.433Z"
   },
   {
    "duration": 4,
    "start_time": "2025-01-06T15:11:35.589Z"
   },
   {
    "duration": 4,
    "start_time": "2025-01-06T15:11:35.594Z"
   },
   {
    "duration": 5,
    "start_time": "2025-01-06T15:11:35.600Z"
   },
   {
    "duration": 263,
    "start_time": "2025-01-06T15:11:35.607Z"
   },
   {
    "duration": 837,
    "start_time": "2025-01-06T15:11:45.477Z"
   },
   {
    "duration": 2,
    "start_time": "2025-01-06T15:11:46.316Z"
   },
   {
    "duration": 31,
    "start_time": "2025-01-06T15:11:46.323Z"
   },
   {
    "duration": 18,
    "start_time": "2025-01-06T15:11:46.356Z"
   },
   {
    "duration": 13,
    "start_time": "2025-01-06T15:11:46.376Z"
   },
   {
    "duration": 37,
    "start_time": "2025-01-06T15:11:46.390Z"
   },
   {
    "duration": 11,
    "start_time": "2025-01-06T15:11:46.429Z"
   },
   {
    "duration": 6,
    "start_time": "2025-01-06T15:11:46.441Z"
   },
   {
    "duration": 6,
    "start_time": "2025-01-06T15:11:46.449Z"
   },
   {
    "duration": 7,
    "start_time": "2025-01-06T15:11:46.458Z"
   },
   {
    "duration": 5,
    "start_time": "2025-01-06T15:11:46.467Z"
   },
   {
    "duration": 5,
    "start_time": "2025-01-06T15:11:46.474Z"
   },
   {
    "duration": 46,
    "start_time": "2025-01-06T15:11:46.481Z"
   },
   {
    "duration": 6,
    "start_time": "2025-01-06T15:11:46.531Z"
   },
   {
    "duration": 5,
    "start_time": "2025-01-06T15:11:46.539Z"
   },
   {
    "duration": 7,
    "start_time": "2025-01-06T15:11:46.546Z"
   },
   {
    "duration": 5,
    "start_time": "2025-01-06T15:11:46.554Z"
   },
   {
    "duration": 6,
    "start_time": "2025-01-06T15:11:46.561Z"
   },
   {
    "duration": 5,
    "start_time": "2025-01-06T15:11:46.568Z"
   },
   {
    "duration": 5,
    "start_time": "2025-01-06T15:11:46.574Z"
   },
   {
    "duration": 58,
    "start_time": "2025-01-06T15:11:46.580Z"
   },
   {
    "duration": 3,
    "start_time": "2025-01-06T15:11:46.640Z"
   },
   {
    "duration": 13,
    "start_time": "2025-01-06T15:11:46.644Z"
   },
   {
    "duration": 10,
    "start_time": "2025-01-06T15:11:46.659Z"
   },
   {
    "duration": 529,
    "start_time": "2025-01-06T15:11:46.670Z"
   },
   {
    "duration": 160,
    "start_time": "2025-01-06T15:11:47.201Z"
   },
   {
    "duration": 267,
    "start_time": "2025-01-06T15:11:47.363Z"
   },
   {
    "duration": 159,
    "start_time": "2025-01-06T15:11:47.633Z"
   },
   {
    "duration": 3,
    "start_time": "2025-01-06T15:11:47.795Z"
   },
   {
    "duration": 4,
    "start_time": "2025-01-06T15:11:47.800Z"
   },
   {
    "duration": 5,
    "start_time": "2025-01-06T15:11:47.806Z"
   },
   {
    "duration": 249,
    "start_time": "2025-01-06T15:11:47.825Z"
   },
   {
    "duration": 798,
    "start_time": "2025-01-06T15:12:01.106Z"
   },
   {
    "duration": 4,
    "start_time": "2025-01-06T15:12:01.906Z"
   },
   {
    "duration": 38,
    "start_time": "2025-01-06T15:12:01.912Z"
   },
   {
    "duration": 18,
    "start_time": "2025-01-06T15:12:01.952Z"
   },
   {
    "duration": 13,
    "start_time": "2025-01-06T15:12:01.972Z"
   },
   {
    "duration": 14,
    "start_time": "2025-01-06T15:12:01.986Z"
   },
   {
    "duration": 30,
    "start_time": "2025-01-06T15:12:02.002Z"
   },
   {
    "duration": 6,
    "start_time": "2025-01-06T15:12:02.034Z"
   },
   {
    "duration": 6,
    "start_time": "2025-01-06T15:12:02.041Z"
   },
   {
    "duration": 8,
    "start_time": "2025-01-06T15:12:02.048Z"
   },
   {
    "duration": 5,
    "start_time": "2025-01-06T15:12:02.058Z"
   },
   {
    "duration": 6,
    "start_time": "2025-01-06T15:12:02.064Z"
   },
   {
    "duration": 6,
    "start_time": "2025-01-06T15:12:02.071Z"
   },
   {
    "duration": 6,
    "start_time": "2025-01-06T15:12:02.125Z"
   },
   {
    "duration": 6,
    "start_time": "2025-01-06T15:12:02.132Z"
   },
   {
    "duration": 6,
    "start_time": "2025-01-06T15:12:02.139Z"
   },
   {
    "duration": 4,
    "start_time": "2025-01-06T15:12:02.147Z"
   },
   {
    "duration": 5,
    "start_time": "2025-01-06T15:12:02.153Z"
   },
   {
    "duration": 5,
    "start_time": "2025-01-06T15:12:02.159Z"
   },
   {
    "duration": 4,
    "start_time": "2025-01-06T15:12:02.166Z"
   },
   {
    "duration": 59,
    "start_time": "2025-01-06T15:12:02.171Z"
   },
   {
    "duration": 4,
    "start_time": "2025-01-06T15:12:02.231Z"
   },
   {
    "duration": 10,
    "start_time": "2025-01-06T15:12:02.236Z"
   },
   {
    "duration": 10,
    "start_time": "2025-01-06T15:12:02.248Z"
   },
   {
    "duration": 545,
    "start_time": "2025-01-06T15:12:02.260Z"
   },
   {
    "duration": 153,
    "start_time": "2025-01-06T15:12:02.806Z"
   },
   {
    "duration": 275,
    "start_time": "2025-01-06T15:12:02.961Z"
   },
   {
    "duration": 160,
    "start_time": "2025-01-06T15:12:03.238Z"
   },
   {
    "duration": 3,
    "start_time": "2025-01-06T15:12:03.400Z"
   },
   {
    "duration": 5,
    "start_time": "2025-01-06T15:12:03.405Z"
   },
   {
    "duration": 15,
    "start_time": "2025-01-06T15:12:03.412Z"
   },
   {
    "duration": 11,
    "start_time": "2025-01-06T15:12:03.429Z"
   },
   {
    "duration": 7,
    "start_time": "2025-01-06T15:13:44.258Z"
   },
   {
    "duration": 237,
    "start_time": "2025-01-06T15:15:33.708Z"
   },
   {
    "duration": 872,
    "start_time": "2025-01-06T15:15:47.043Z"
   },
   {
    "duration": 3,
    "start_time": "2025-01-06T15:15:47.917Z"
   },
   {
    "duration": 32,
    "start_time": "2025-01-06T15:15:47.924Z"
   },
   {
    "duration": 18,
    "start_time": "2025-01-06T15:15:47.958Z"
   },
   {
    "duration": 12,
    "start_time": "2025-01-06T15:15:47.978Z"
   },
   {
    "duration": 35,
    "start_time": "2025-01-06T15:15:47.992Z"
   },
   {
    "duration": 14,
    "start_time": "2025-01-06T15:15:48.029Z"
   },
   {
    "duration": 5,
    "start_time": "2025-01-06T15:15:48.045Z"
   },
   {
    "duration": 6,
    "start_time": "2025-01-06T15:15:48.052Z"
   },
   {
    "duration": 7,
    "start_time": "2025-01-06T15:15:48.060Z"
   },
   {
    "duration": 5,
    "start_time": "2025-01-06T15:15:48.069Z"
   },
   {
    "duration": 6,
    "start_time": "2025-01-06T15:15:48.075Z"
   },
   {
    "duration": 43,
    "start_time": "2025-01-06T15:15:48.083Z"
   },
   {
    "duration": 8,
    "start_time": "2025-01-06T15:15:48.129Z"
   },
   {
    "duration": 5,
    "start_time": "2025-01-06T15:15:48.139Z"
   },
   {
    "duration": 8,
    "start_time": "2025-01-06T15:15:48.146Z"
   },
   {
    "duration": 5,
    "start_time": "2025-01-06T15:15:48.156Z"
   },
   {
    "duration": 5,
    "start_time": "2025-01-06T15:15:48.162Z"
   },
   {
    "duration": 5,
    "start_time": "2025-01-06T15:15:48.168Z"
   },
   {
    "duration": 4,
    "start_time": "2025-01-06T15:15:48.175Z"
   },
   {
    "duration": 18,
    "start_time": "2025-01-06T15:15:48.223Z"
   },
   {
    "duration": 3,
    "start_time": "2025-01-06T15:15:48.243Z"
   },
   {
    "duration": 10,
    "start_time": "2025-01-06T15:15:48.248Z"
   },
   {
    "duration": 10,
    "start_time": "2025-01-06T15:15:48.260Z"
   },
   {
    "duration": 534,
    "start_time": "2025-01-06T15:15:48.273Z"
   },
   {
    "duration": 159,
    "start_time": "2025-01-06T15:15:48.809Z"
   },
   {
    "duration": 267,
    "start_time": "2025-01-06T15:15:48.970Z"
   },
   {
    "duration": 158,
    "start_time": "2025-01-06T15:15:49.239Z"
   },
   {
    "duration": 4,
    "start_time": "2025-01-06T15:15:49.398Z"
   },
   {
    "duration": 4,
    "start_time": "2025-01-06T15:15:49.404Z"
   },
   {
    "duration": 17,
    "start_time": "2025-01-06T15:15:49.409Z"
   },
   {
    "duration": 12,
    "start_time": "2025-01-06T15:15:49.428Z"
   },
   {
    "duration": 7,
    "start_time": "2025-01-06T15:15:49.441Z"
   },
   {
    "duration": 2,
    "start_time": "2025-01-06T15:15:49.450Z"
   },
   {
    "duration": 2,
    "start_time": "2025-01-06T15:19:03.841Z"
   },
   {
    "duration": 229,
    "start_time": "2025-01-06T15:35:10.903Z"
   },
   {
    "duration": 857,
    "start_time": "2025-01-06T15:35:16.758Z"
   },
   {
    "duration": 7,
    "start_time": "2025-01-06T15:35:17.617Z"
   },
   {
    "duration": 39,
    "start_time": "2025-01-06T15:35:17.625Z"
   },
   {
    "duration": 19,
    "start_time": "2025-01-06T15:35:17.666Z"
   },
   {
    "duration": 13,
    "start_time": "2025-01-06T15:35:17.688Z"
   },
   {
    "duration": 33,
    "start_time": "2025-01-06T15:35:17.704Z"
   },
   {
    "duration": 12,
    "start_time": "2025-01-06T15:35:17.739Z"
   },
   {
    "duration": 7,
    "start_time": "2025-01-06T15:35:17.753Z"
   },
   {
    "duration": 8,
    "start_time": "2025-01-06T15:35:17.762Z"
   },
   {
    "duration": 8,
    "start_time": "2025-01-06T15:35:17.771Z"
   },
   {
    "duration": 43,
    "start_time": "2025-01-06T15:35:17.781Z"
   },
   {
    "duration": 8,
    "start_time": "2025-01-06T15:35:17.826Z"
   },
   {
    "duration": 7,
    "start_time": "2025-01-06T15:35:17.836Z"
   },
   {
    "duration": 6,
    "start_time": "2025-01-06T15:35:17.847Z"
   },
   {
    "duration": 5,
    "start_time": "2025-01-06T15:35:17.854Z"
   },
   {
    "duration": 7,
    "start_time": "2025-01-06T15:35:17.861Z"
   },
   {
    "duration": 5,
    "start_time": "2025-01-06T15:35:17.870Z"
   },
   {
    "duration": 5,
    "start_time": "2025-01-06T15:35:17.877Z"
   },
   {
    "duration": 8,
    "start_time": "2025-01-06T15:35:17.924Z"
   },
   {
    "duration": 4,
    "start_time": "2025-01-06T15:35:17.935Z"
   },
   {
    "duration": 18,
    "start_time": "2025-01-06T15:35:17.941Z"
   },
   {
    "duration": 3,
    "start_time": "2025-01-06T15:35:17.961Z"
   },
   {
    "duration": 12,
    "start_time": "2025-01-06T15:35:17.966Z"
   },
   {
    "duration": 47,
    "start_time": "2025-01-06T15:35:17.979Z"
   },
   {
    "duration": 484,
    "start_time": "2025-01-06T15:35:18.027Z"
   },
   {
    "duration": 159,
    "start_time": "2025-01-06T15:35:18.512Z"
   },
   {
    "duration": 261,
    "start_time": "2025-01-06T15:35:18.673Z"
   },
   {
    "duration": 159,
    "start_time": "2025-01-06T15:35:18.936Z"
   },
   {
    "duration": 3,
    "start_time": "2025-01-06T15:35:19.097Z"
   },
   {
    "duration": 4,
    "start_time": "2025-01-06T15:35:19.102Z"
   },
   {
    "duration": 17,
    "start_time": "2025-01-06T15:35:19.108Z"
   },
   {
    "duration": 12,
    "start_time": "2025-01-06T15:35:19.127Z"
   },
   {
    "duration": 7,
    "start_time": "2025-01-06T15:35:19.140Z"
   },
   {
    "duration": 2,
    "start_time": "2025-01-06T15:35:19.148Z"
   },
   {
    "duration": 2,
    "start_time": "2025-01-06T15:35:19.152Z"
   },
   {
    "duration": 651,
    "start_time": "2025-01-06T15:35:19.156Z"
   },
   {
    "duration": 0,
    "start_time": "2025-01-06T15:35:19.809Z"
   },
   {
    "duration": 800,
    "start_time": "2025-01-06T15:38:50.553Z"
   },
   {
    "duration": 4,
    "start_time": "2025-01-06T15:38:51.356Z"
   },
   {
    "duration": 32,
    "start_time": "2025-01-06T15:38:51.361Z"
   },
   {
    "duration": 17,
    "start_time": "2025-01-06T15:38:51.395Z"
   },
   {
    "duration": 14,
    "start_time": "2025-01-06T15:38:51.424Z"
   },
   {
    "duration": 14,
    "start_time": "2025-01-06T15:38:51.440Z"
   },
   {
    "duration": 11,
    "start_time": "2025-01-06T15:38:51.455Z"
   },
   {
    "duration": 7,
    "start_time": "2025-01-06T15:38:51.467Z"
   },
   {
    "duration": 7,
    "start_time": "2025-01-06T15:38:51.475Z"
   },
   {
    "duration": 47,
    "start_time": "2025-01-06T15:38:51.483Z"
   },
   {
    "duration": 6,
    "start_time": "2025-01-06T15:38:51.531Z"
   },
   {
    "duration": 6,
    "start_time": "2025-01-06T15:38:51.539Z"
   },
   {
    "duration": 7,
    "start_time": "2025-01-06T15:38:51.546Z"
   },
   {
    "duration": 6,
    "start_time": "2025-01-06T15:38:51.557Z"
   },
   {
    "duration": 6,
    "start_time": "2025-01-06T15:38:51.565Z"
   },
   {
    "duration": 6,
    "start_time": "2025-01-06T15:38:51.575Z"
   },
   {
    "duration": 45,
    "start_time": "2025-01-06T15:38:51.583Z"
   },
   {
    "duration": 5,
    "start_time": "2025-01-06T15:38:51.629Z"
   },
   {
    "duration": 5,
    "start_time": "2025-01-06T15:38:51.635Z"
   },
   {
    "duration": 3,
    "start_time": "2025-01-06T15:38:51.643Z"
   },
   {
    "duration": 17,
    "start_time": "2025-01-06T15:38:51.648Z"
   },
   {
    "duration": 4,
    "start_time": "2025-01-06T15:38:51.666Z"
   },
   {
    "duration": 11,
    "start_time": "2025-01-06T15:38:51.671Z"
   },
   {
    "duration": 49,
    "start_time": "2025-01-06T15:38:51.683Z"
   },
   {
    "duration": 565,
    "start_time": "2025-01-06T15:38:51.733Z"
   },
   {
    "duration": 155,
    "start_time": "2025-01-06T15:38:52.299Z"
   },
   {
    "duration": 278,
    "start_time": "2025-01-06T15:38:52.455Z"
   },
   {
    "duration": 153,
    "start_time": "2025-01-06T15:38:52.735Z"
   },
   {
    "duration": 4,
    "start_time": "2025-01-06T15:38:52.889Z"
   },
   {
    "duration": 4,
    "start_time": "2025-01-06T15:38:52.894Z"
   },
   {
    "duration": 6,
    "start_time": "2025-01-06T15:38:52.899Z"
   },
   {
    "duration": 27,
    "start_time": "2025-01-06T15:38:52.906Z"
   },
   {
    "duration": 7,
    "start_time": "2025-01-06T15:38:52.934Z"
   },
   {
    "duration": 3,
    "start_time": "2025-01-06T15:38:52.942Z"
   },
   {
    "duration": 3,
    "start_time": "2025-01-06T15:38:52.947Z"
   },
   {
    "duration": 637,
    "start_time": "2025-01-06T15:38:52.952Z"
   },
   {
    "duration": 0,
    "start_time": "2025-01-06T15:38:53.591Z"
   },
   {
    "duration": 783,
    "start_time": "2025-01-06T15:39:58.132Z"
   },
   {
    "duration": 7,
    "start_time": "2025-01-06T15:39:58.918Z"
   },
   {
    "duration": 33,
    "start_time": "2025-01-06T15:39:58.926Z"
   },
   {
    "duration": 19,
    "start_time": "2025-01-06T15:39:58.961Z"
   },
   {
    "duration": 12,
    "start_time": "2025-01-06T15:39:58.982Z"
   },
   {
    "duration": 31,
    "start_time": "2025-01-06T15:39:58.996Z"
   },
   {
    "duration": 10,
    "start_time": "2025-01-06T15:39:59.029Z"
   },
   {
    "duration": 6,
    "start_time": "2025-01-06T15:39:59.041Z"
   },
   {
    "duration": 6,
    "start_time": "2025-01-06T15:39:59.048Z"
   },
   {
    "duration": 8,
    "start_time": "2025-01-06T15:39:59.056Z"
   },
   {
    "duration": 6,
    "start_time": "2025-01-06T15:39:59.065Z"
   },
   {
    "duration": 5,
    "start_time": "2025-01-06T15:39:59.072Z"
   },
   {
    "duration": 46,
    "start_time": "2025-01-06T15:39:59.079Z"
   },
   {
    "duration": 6,
    "start_time": "2025-01-06T15:39:59.129Z"
   },
   {
    "duration": 6,
    "start_time": "2025-01-06T15:39:59.136Z"
   },
   {
    "duration": 7,
    "start_time": "2025-01-06T15:39:59.144Z"
   },
   {
    "duration": 5,
    "start_time": "2025-01-06T15:39:59.152Z"
   },
   {
    "duration": 4,
    "start_time": "2025-01-06T15:39:59.159Z"
   },
   {
    "duration": 5,
    "start_time": "2025-01-06T15:39:59.165Z"
   },
   {
    "duration": 4,
    "start_time": "2025-01-06T15:39:59.171Z"
   },
   {
    "duration": 18,
    "start_time": "2025-01-06T15:39:59.225Z"
   },
   {
    "duration": 3,
    "start_time": "2025-01-06T15:39:59.245Z"
   },
   {
    "duration": 11,
    "start_time": "2025-01-06T15:39:59.250Z"
   },
   {
    "duration": 12,
    "start_time": "2025-01-06T15:39:59.263Z"
   },
   {
    "duration": 531,
    "start_time": "2025-01-06T15:39:59.276Z"
   },
   {
    "duration": 156,
    "start_time": "2025-01-06T15:39:59.809Z"
   },
   {
    "duration": 266,
    "start_time": "2025-01-06T15:39:59.967Z"
   },
   {
    "duration": 154,
    "start_time": "2025-01-06T15:40:00.236Z"
   },
   {
    "duration": 3,
    "start_time": "2025-01-06T15:40:00.392Z"
   },
   {
    "duration": 5,
    "start_time": "2025-01-06T15:40:00.397Z"
   },
   {
    "duration": 6,
    "start_time": "2025-01-06T15:40:00.404Z"
   },
   {
    "duration": 12,
    "start_time": "2025-01-06T15:40:00.425Z"
   },
   {
    "duration": 7,
    "start_time": "2025-01-06T15:40:00.438Z"
   },
   {
    "duration": 3,
    "start_time": "2025-01-06T15:40:00.446Z"
   },
   {
    "duration": 3,
    "start_time": "2025-01-06T15:40:00.451Z"
   },
   {
    "duration": 662,
    "start_time": "2025-01-06T15:40:00.456Z"
   },
   {
    "duration": 0,
    "start_time": "2025-01-06T15:40:01.119Z"
   },
   {
    "duration": 2617,
    "start_time": "2025-01-07T01:37:15.734Z"
   },
   {
    "duration": 2,
    "start_time": "2025-01-07T01:37:18.354Z"
   },
   {
    "duration": 55,
    "start_time": "2025-01-07T01:37:18.358Z"
   },
   {
    "duration": 19,
    "start_time": "2025-01-07T01:37:18.416Z"
   },
   {
    "duration": 13,
    "start_time": "2025-01-07T01:37:18.437Z"
   },
   {
    "duration": 15,
    "start_time": "2025-01-07T01:37:18.451Z"
   },
   {
    "duration": 11,
    "start_time": "2025-01-07T01:37:18.467Z"
   },
   {
    "duration": 34,
    "start_time": "2025-01-07T01:37:18.480Z"
   },
   {
    "duration": 8,
    "start_time": "2025-01-07T01:37:18.516Z"
   },
   {
    "duration": 9,
    "start_time": "2025-01-07T01:37:18.528Z"
   },
   {
    "duration": 5,
    "start_time": "2025-01-07T01:37:18.539Z"
   },
   {
    "duration": 6,
    "start_time": "2025-01-07T01:37:18.546Z"
   },
   {
    "duration": 7,
    "start_time": "2025-01-07T01:37:18.554Z"
   },
   {
    "duration": 47,
    "start_time": "2025-01-07T01:37:18.562Z"
   },
   {
    "duration": 7,
    "start_time": "2025-01-07T01:37:18.611Z"
   },
   {
    "duration": 6,
    "start_time": "2025-01-07T01:37:18.620Z"
   },
   {
    "duration": 5,
    "start_time": "2025-01-07T01:37:18.628Z"
   },
   {
    "duration": 5,
    "start_time": "2025-01-07T01:37:18.635Z"
   },
   {
    "duration": 5,
    "start_time": "2025-01-07T01:37:18.641Z"
   },
   {
    "duration": 4,
    "start_time": "2025-01-07T01:37:18.648Z"
   },
   {
    "duration": 63,
    "start_time": "2025-01-07T01:37:18.654Z"
   },
   {
    "duration": 4,
    "start_time": "2025-01-07T01:37:18.719Z"
   },
   {
    "duration": 12,
    "start_time": "2025-01-07T01:37:18.724Z"
   },
   {
    "duration": 11,
    "start_time": "2025-01-07T01:37:18.737Z"
   },
   {
    "duration": 535,
    "start_time": "2025-01-07T01:37:18.749Z"
   },
   {
    "duration": 111,
    "start_time": "2025-01-07T01:37:19.286Z"
   },
   {
    "duration": 326,
    "start_time": "2025-01-07T01:37:19.398Z"
   },
   {
    "duration": 233,
    "start_time": "2025-01-07T01:37:19.728Z"
   },
   {
    "duration": 4,
    "start_time": "2025-01-07T01:37:19.962Z"
   },
   {
    "duration": 4,
    "start_time": "2025-01-07T01:37:19.968Z"
   },
   {
    "duration": 5,
    "start_time": "2025-01-07T01:37:19.974Z"
   },
   {
    "duration": 28,
    "start_time": "2025-01-07T01:37:19.982Z"
   },
   {
    "duration": 7,
    "start_time": "2025-01-07T01:37:20.011Z"
   },
   {
    "duration": 4,
    "start_time": "2025-01-07T01:37:20.019Z"
   },
   {
    "duration": 3,
    "start_time": "2025-01-07T01:37:20.025Z"
   },
   {
    "duration": 669,
    "start_time": "2025-01-07T01:37:20.030Z"
   },
   {
    "duration": 0,
    "start_time": "2025-01-07T01:37:20.701Z"
   },
   {
    "duration": 831,
    "start_time": "2025-01-07T01:41:42.072Z"
   },
   {
    "duration": 3,
    "start_time": "2025-01-07T01:41:42.906Z"
   },
   {
    "duration": 33,
    "start_time": "2025-01-07T01:41:42.910Z"
   },
   {
    "duration": 19,
    "start_time": "2025-01-07T01:41:42.945Z"
   },
   {
    "duration": 13,
    "start_time": "2025-01-07T01:41:42.967Z"
   },
   {
    "duration": 35,
    "start_time": "2025-01-07T01:41:42.981Z"
   },
   {
    "duration": 12,
    "start_time": "2025-01-07T01:41:43.018Z"
   },
   {
    "duration": 7,
    "start_time": "2025-01-07T01:41:43.031Z"
   },
   {
    "duration": 7,
    "start_time": "2025-01-07T01:41:43.039Z"
   },
   {
    "duration": 8,
    "start_time": "2025-01-07T01:41:43.048Z"
   },
   {
    "duration": 6,
    "start_time": "2025-01-07T01:41:43.058Z"
   },
   {
    "duration": 45,
    "start_time": "2025-01-07T01:41:43.066Z"
   },
   {
    "duration": 7,
    "start_time": "2025-01-07T01:41:43.113Z"
   },
   {
    "duration": 6,
    "start_time": "2025-01-07T01:41:43.123Z"
   },
   {
    "duration": 6,
    "start_time": "2025-01-07T01:41:43.131Z"
   },
   {
    "duration": 7,
    "start_time": "2025-01-07T01:41:43.139Z"
   },
   {
    "duration": 5,
    "start_time": "2025-01-07T01:41:43.147Z"
   },
   {
    "duration": 6,
    "start_time": "2025-01-07T01:41:43.154Z"
   },
   {
    "duration": 50,
    "start_time": "2025-01-07T01:41:43.161Z"
   },
   {
    "duration": 5,
    "start_time": "2025-01-07T01:41:43.213Z"
   },
   {
    "duration": 19,
    "start_time": "2025-01-07T01:41:43.219Z"
   },
   {
    "duration": 3,
    "start_time": "2025-01-07T01:41:43.240Z"
   },
   {
    "duration": 11,
    "start_time": "2025-01-07T01:41:43.246Z"
   },
   {
    "duration": 12,
    "start_time": "2025-01-07T01:41:43.259Z"
   },
   {
    "duration": 558,
    "start_time": "2025-01-07T01:41:43.272Z"
   },
   {
    "duration": 168,
    "start_time": "2025-01-07T01:41:43.832Z"
   },
   {
    "duration": 303,
    "start_time": "2025-01-07T01:41:44.002Z"
   },
   {
    "duration": 162,
    "start_time": "2025-01-07T01:41:44.309Z"
   },
   {
    "duration": 5,
    "start_time": "2025-01-07T01:41:44.473Z"
   },
   {
    "duration": 4,
    "start_time": "2025-01-07T01:41:44.479Z"
   },
   {
    "duration": 5,
    "start_time": "2025-01-07T01:41:44.485Z"
   },
   {
    "duration": 26,
    "start_time": "2025-01-07T01:41:44.492Z"
   },
   {
    "duration": 7,
    "start_time": "2025-01-07T01:41:44.520Z"
   },
   {
    "duration": 3,
    "start_time": "2025-01-07T01:41:44.529Z"
   },
   {
    "duration": 4,
    "start_time": "2025-01-07T01:41:44.533Z"
   },
   {
    "duration": 684,
    "start_time": "2025-01-07T01:41:44.538Z"
   },
   {
    "duration": 0,
    "start_time": "2025-01-07T01:41:45.224Z"
   },
   {
    "duration": 828,
    "start_time": "2025-01-07T01:53:43.765Z"
   },
   {
    "duration": 3,
    "start_time": "2025-01-07T01:53:44.595Z"
   },
   {
    "duration": 51,
    "start_time": "2025-01-07T01:53:44.599Z"
   },
   {
    "duration": 19,
    "start_time": "2025-01-07T01:53:44.652Z"
   },
   {
    "duration": 12,
    "start_time": "2025-01-07T01:53:44.673Z"
   },
   {
    "duration": 22,
    "start_time": "2025-01-07T01:53:44.687Z"
   },
   {
    "duration": 11,
    "start_time": "2025-01-07T01:53:44.711Z"
   },
   {
    "duration": 6,
    "start_time": "2025-01-07T01:53:44.725Z"
   },
   {
    "duration": 6,
    "start_time": "2025-01-07T01:53:44.733Z"
   },
   {
    "duration": 8,
    "start_time": "2025-01-07T01:53:44.741Z"
   },
   {
    "duration": 6,
    "start_time": "2025-01-07T01:53:44.750Z"
   },
   {
    "duration": 6,
    "start_time": "2025-01-07T01:53:44.757Z"
   },
   {
    "duration": 7,
    "start_time": "2025-01-07T01:53:44.764Z"
   },
   {
    "duration": 39,
    "start_time": "2025-01-07T01:53:44.774Z"
   },
   {
    "duration": 6,
    "start_time": "2025-01-07T01:53:44.815Z"
   },
   {
    "duration": 7,
    "start_time": "2025-01-07T01:53:44.823Z"
   },
   {
    "duration": 5,
    "start_time": "2025-01-07T01:53:44.831Z"
   },
   {
    "duration": 4,
    "start_time": "2025-01-07T01:53:44.838Z"
   },
   {
    "duration": 5,
    "start_time": "2025-01-07T01:53:44.844Z"
   },
   {
    "duration": 4,
    "start_time": "2025-01-07T01:53:44.850Z"
   },
   {
    "duration": 67,
    "start_time": "2025-01-07T01:53:44.856Z"
   },
   {
    "duration": 4,
    "start_time": "2025-01-07T01:53:44.925Z"
   },
   {
    "duration": 10,
    "start_time": "2025-01-07T01:53:44.931Z"
   },
   {
    "duration": 11,
    "start_time": "2025-01-07T01:53:44.944Z"
   },
   {
    "duration": 534,
    "start_time": "2025-01-07T01:53:44.956Z"
   },
   {
    "duration": 167,
    "start_time": "2025-01-07T01:53:45.492Z"
   },
   {
    "duration": 258,
    "start_time": "2025-01-07T01:53:45.661Z"
   },
   {
    "duration": 160,
    "start_time": "2025-01-07T01:53:45.921Z"
   },
   {
    "duration": 4,
    "start_time": "2025-01-07T01:53:46.084Z"
   },
   {
    "duration": 4,
    "start_time": "2025-01-07T01:53:46.090Z"
   },
   {
    "duration": 6,
    "start_time": "2025-01-07T01:53:46.108Z"
   },
   {
    "duration": 12,
    "start_time": "2025-01-07T01:53:46.116Z"
   },
   {
    "duration": 7,
    "start_time": "2025-01-07T01:53:46.129Z"
   },
   {
    "duration": 3,
    "start_time": "2025-01-07T01:53:46.138Z"
   },
   {
    "duration": 3,
    "start_time": "2025-01-07T01:53:46.143Z"
   },
   {
    "duration": 5,
    "start_time": "2025-01-07T01:53:46.147Z"
   },
   {
    "duration": 854,
    "start_time": "2025-01-07T01:57:31.441Z"
   },
   {
    "duration": 3,
    "start_time": "2025-01-07T01:57:32.298Z"
   },
   {
    "duration": 33,
    "start_time": "2025-01-07T01:57:32.309Z"
   },
   {
    "duration": 20,
    "start_time": "2025-01-07T01:57:32.344Z"
   },
   {
    "duration": 13,
    "start_time": "2025-01-07T01:57:32.367Z"
   },
   {
    "duration": 35,
    "start_time": "2025-01-07T01:57:32.382Z"
   },
   {
    "duration": 12,
    "start_time": "2025-01-07T01:57:32.418Z"
   },
   {
    "duration": 7,
    "start_time": "2025-01-07T01:57:32.431Z"
   },
   {
    "duration": 6,
    "start_time": "2025-01-07T01:57:32.439Z"
   },
   {
    "duration": 7,
    "start_time": "2025-01-07T01:57:32.447Z"
   },
   {
    "duration": 5,
    "start_time": "2025-01-07T01:57:32.456Z"
   },
   {
    "duration": 46,
    "start_time": "2025-01-07T01:57:32.464Z"
   },
   {
    "duration": 7,
    "start_time": "2025-01-07T01:57:32.512Z"
   },
   {
    "duration": 6,
    "start_time": "2025-01-07T01:57:32.523Z"
   },
   {
    "duration": 6,
    "start_time": "2025-01-07T01:57:32.531Z"
   },
   {
    "duration": 7,
    "start_time": "2025-01-07T01:57:32.539Z"
   },
   {
    "duration": 5,
    "start_time": "2025-01-07T01:57:32.547Z"
   },
   {
    "duration": 5,
    "start_time": "2025-01-07T01:57:32.554Z"
   },
   {
    "duration": 49,
    "start_time": "2025-01-07T01:57:32.561Z"
   },
   {
    "duration": 5,
    "start_time": "2025-01-07T01:57:32.612Z"
   },
   {
    "duration": 26,
    "start_time": "2025-01-07T01:57:32.618Z"
   },
   {
    "duration": 4,
    "start_time": "2025-01-07T01:57:32.646Z"
   },
   {
    "duration": 13,
    "start_time": "2025-01-07T01:57:32.652Z"
   },
   {
    "duration": 11,
    "start_time": "2025-01-07T01:57:32.667Z"
   },
   {
    "duration": 582,
    "start_time": "2025-01-07T01:57:32.709Z"
   },
   {
    "duration": 166,
    "start_time": "2025-01-07T01:57:33.292Z"
   },
   {
    "duration": 271,
    "start_time": "2025-01-07T01:57:33.460Z"
   },
   {
    "duration": 162,
    "start_time": "2025-01-07T01:57:33.733Z"
   },
   {
    "duration": 4,
    "start_time": "2025-01-07T01:57:33.896Z"
   },
   {
    "duration": 4,
    "start_time": "2025-01-07T01:57:33.909Z"
   },
   {
    "duration": 7,
    "start_time": "2025-01-07T01:57:33.915Z"
   },
   {
    "duration": 12,
    "start_time": "2025-01-07T01:57:33.924Z"
   },
   {
    "duration": 7,
    "start_time": "2025-01-07T01:57:33.938Z"
   },
   {
    "duration": 3,
    "start_time": "2025-01-07T01:57:33.946Z"
   },
   {
    "duration": 3,
    "start_time": "2025-01-07T01:57:33.951Z"
   },
   {
    "duration": 5,
    "start_time": "2025-01-07T01:57:33.955Z"
   },
   {
    "duration": 6,
    "start_time": "2025-01-07T01:57:33.961Z"
   },
   {
    "duration": 38,
    "start_time": "2025-01-07T01:57:33.970Z"
   },
   {
    "duration": 880,
    "start_time": "2025-01-07T01:59:16.216Z"
   },
   {
    "duration": 5,
    "start_time": "2025-01-07T01:59:17.098Z"
   },
   {
    "duration": 33,
    "start_time": "2025-01-07T01:59:17.109Z"
   },
   {
    "duration": 20,
    "start_time": "2025-01-07T01:59:17.143Z"
   },
   {
    "duration": 14,
    "start_time": "2025-01-07T01:59:17.165Z"
   },
   {
    "duration": 37,
    "start_time": "2025-01-07T01:59:17.181Z"
   },
   {
    "duration": 18,
    "start_time": "2025-01-07T01:59:17.220Z"
   },
   {
    "duration": 8,
    "start_time": "2025-01-07T01:59:17.240Z"
   },
   {
    "duration": 7,
    "start_time": "2025-01-07T01:59:17.251Z"
   },
   {
    "duration": 12,
    "start_time": "2025-01-07T01:59:17.259Z"
   },
   {
    "duration": 37,
    "start_time": "2025-01-07T01:59:17.273Z"
   },
   {
    "duration": 8,
    "start_time": "2025-01-07T01:59:17.312Z"
   },
   {
    "duration": 8,
    "start_time": "2025-01-07T01:59:17.322Z"
   },
   {
    "duration": 7,
    "start_time": "2025-01-07T01:59:17.334Z"
   },
   {
    "duration": 6,
    "start_time": "2025-01-07T01:59:17.342Z"
   },
   {
    "duration": 7,
    "start_time": "2025-01-07T01:59:17.350Z"
   },
   {
    "duration": 5,
    "start_time": "2025-01-07T01:59:17.359Z"
   },
   {
    "duration": 48,
    "start_time": "2025-01-07T01:59:17.366Z"
   },
   {
    "duration": 6,
    "start_time": "2025-01-07T01:59:17.417Z"
   },
   {
    "duration": 5,
    "start_time": "2025-01-07T01:59:17.425Z"
   },
   {
    "duration": 20,
    "start_time": "2025-01-07T01:59:17.432Z"
   },
   {
    "duration": 4,
    "start_time": "2025-01-07T01:59:17.454Z"
   },
   {
    "duration": 13,
    "start_time": "2025-01-07T01:59:17.460Z"
   },
   {
    "duration": 47,
    "start_time": "2025-01-07T01:59:17.475Z"
   },
   {
    "duration": 568,
    "start_time": "2025-01-07T01:59:17.524Z"
   },
   {
    "duration": 164,
    "start_time": "2025-01-07T01:59:18.094Z"
   },
   {
    "duration": 270,
    "start_time": "2025-01-07T01:59:18.260Z"
   },
   {
    "duration": 156,
    "start_time": "2025-01-07T01:59:18.532Z"
   },
   {
    "duration": 3,
    "start_time": "2025-01-07T01:59:18.690Z"
   },
   {
    "duration": 15,
    "start_time": "2025-01-07T01:59:18.695Z"
   },
   {
    "duration": 6,
    "start_time": "2025-01-07T01:59:18.711Z"
   },
   {
    "duration": 12,
    "start_time": "2025-01-07T01:59:18.719Z"
   },
   {
    "duration": 7,
    "start_time": "2025-01-07T01:59:18.733Z"
   },
   {
    "duration": 2,
    "start_time": "2025-01-07T01:59:18.742Z"
   },
   {
    "duration": 3,
    "start_time": "2025-01-07T01:59:18.746Z"
   },
   {
    "duration": 6,
    "start_time": "2025-01-07T01:59:18.750Z"
   },
   {
    "duration": 5,
    "start_time": "2025-01-07T01:59:18.757Z"
   },
   {
    "duration": 3,
    "start_time": "2025-01-07T01:59:18.764Z"
   },
   {
    "duration": 284,
    "start_time": "2025-01-07T01:59:18.769Z"
   },
   {
    "duration": 877,
    "start_time": "2025-01-07T01:59:30.621Z"
   },
   {
    "duration": 2,
    "start_time": "2025-01-07T01:59:31.501Z"
   },
   {
    "duration": 34,
    "start_time": "2025-01-07T01:59:31.509Z"
   },
   {
    "duration": 19,
    "start_time": "2025-01-07T01:59:31.545Z"
   },
   {
    "duration": 14,
    "start_time": "2025-01-07T01:59:31.566Z"
   },
   {
    "duration": 35,
    "start_time": "2025-01-07T01:59:31.581Z"
   },
   {
    "duration": 11,
    "start_time": "2025-01-07T01:59:31.618Z"
   },
   {
    "duration": 7,
    "start_time": "2025-01-07T01:59:31.630Z"
   },
   {
    "duration": 6,
    "start_time": "2025-01-07T01:59:31.638Z"
   },
   {
    "duration": 9,
    "start_time": "2025-01-07T01:59:31.646Z"
   },
   {
    "duration": 5,
    "start_time": "2025-01-07T01:59:31.657Z"
   },
   {
    "duration": 47,
    "start_time": "2025-01-07T01:59:31.664Z"
   },
   {
    "duration": 7,
    "start_time": "2025-01-07T01:59:31.713Z"
   },
   {
    "duration": 7,
    "start_time": "2025-01-07T01:59:31.724Z"
   },
   {
    "duration": 6,
    "start_time": "2025-01-07T01:59:31.732Z"
   },
   {
    "duration": 8,
    "start_time": "2025-01-07T01:59:31.741Z"
   },
   {
    "duration": 6,
    "start_time": "2025-01-07T01:59:31.750Z"
   },
   {
    "duration": 6,
    "start_time": "2025-01-07T01:59:31.758Z"
   },
   {
    "duration": 47,
    "start_time": "2025-01-07T01:59:31.766Z"
   },
   {
    "duration": 4,
    "start_time": "2025-01-07T01:59:31.814Z"
   },
   {
    "duration": 19,
    "start_time": "2025-01-07T01:59:31.820Z"
   },
   {
    "duration": 3,
    "start_time": "2025-01-07T01:59:31.841Z"
   },
   {
    "duration": 11,
    "start_time": "2025-01-07T01:59:31.846Z"
   },
   {
    "duration": 12,
    "start_time": "2025-01-07T01:59:31.858Z"
   },
   {
    "duration": 581,
    "start_time": "2025-01-07T01:59:31.871Z"
   },
   {
    "duration": 165,
    "start_time": "2025-01-07T01:59:32.455Z"
   },
   {
    "duration": 296,
    "start_time": "2025-01-07T01:59:32.621Z"
   },
   {
    "duration": 160,
    "start_time": "2025-01-07T01:59:32.918Z"
   },
   {
    "duration": 4,
    "start_time": "2025-01-07T01:59:33.080Z"
   },
   {
    "duration": 4,
    "start_time": "2025-01-07T01:59:33.086Z"
   },
   {
    "duration": 18,
    "start_time": "2025-01-07T01:59:33.092Z"
   },
   {
    "duration": 12,
    "start_time": "2025-01-07T01:59:33.112Z"
   },
   {
    "duration": 8,
    "start_time": "2025-01-07T01:59:33.126Z"
   },
   {
    "duration": 2,
    "start_time": "2025-01-07T01:59:33.137Z"
   },
   {
    "duration": 3,
    "start_time": "2025-01-07T01:59:33.141Z"
   },
   {
    "duration": 5,
    "start_time": "2025-01-07T01:59:33.145Z"
   },
   {
    "duration": 4,
    "start_time": "2025-01-07T01:59:33.152Z"
   },
   {
    "duration": 3,
    "start_time": "2025-01-07T01:59:33.159Z"
   },
   {
    "duration": 53,
    "start_time": "2025-01-07T01:59:33.164Z"
   },
   {
    "duration": 2,
    "start_time": "2025-01-07T02:00:02.838Z"
   },
   {
    "duration": 870,
    "start_time": "2025-01-07T02:00:25.316Z"
   },
   {
    "duration": 3,
    "start_time": "2025-01-07T02:00:26.188Z"
   },
   {
    "duration": 41,
    "start_time": "2025-01-07T02:00:26.193Z"
   },
   {
    "duration": 18,
    "start_time": "2025-01-07T02:00:26.236Z"
   },
   {
    "duration": 12,
    "start_time": "2025-01-07T02:00:26.256Z"
   },
   {
    "duration": 14,
    "start_time": "2025-01-07T02:00:26.270Z"
   },
   {
    "duration": 32,
    "start_time": "2025-01-07T02:00:26.286Z"
   },
   {
    "duration": 7,
    "start_time": "2025-01-07T02:00:26.320Z"
   },
   {
    "duration": 6,
    "start_time": "2025-01-07T02:00:26.329Z"
   },
   {
    "duration": 8,
    "start_time": "2025-01-07T02:00:26.338Z"
   },
   {
    "duration": 6,
    "start_time": "2025-01-07T02:00:26.347Z"
   },
   {
    "duration": 5,
    "start_time": "2025-01-07T02:00:26.355Z"
   },
   {
    "duration": 9,
    "start_time": "2025-01-07T02:00:26.362Z"
   },
   {
    "duration": 7,
    "start_time": "2025-01-07T02:00:26.409Z"
   },
   {
    "duration": 6,
    "start_time": "2025-01-07T02:00:26.418Z"
   },
   {
    "duration": 7,
    "start_time": "2025-01-07T02:00:26.425Z"
   },
   {
    "duration": 4,
    "start_time": "2025-01-07T02:00:26.434Z"
   },
   {
    "duration": 5,
    "start_time": "2025-01-07T02:00:26.440Z"
   },
   {
    "duration": 5,
    "start_time": "2025-01-07T02:00:26.446Z"
   },
   {
    "duration": 4,
    "start_time": "2025-01-07T02:00:26.453Z"
   },
   {
    "duration": 63,
    "start_time": "2025-01-07T02:00:26.459Z"
   },
   {
    "duration": 5,
    "start_time": "2025-01-07T02:00:26.524Z"
   },
   {
    "duration": 12,
    "start_time": "2025-01-07T02:00:26.531Z"
   },
   {
    "duration": 11,
    "start_time": "2025-01-07T02:00:26.544Z"
   },
   {
    "duration": 536,
    "start_time": "2025-01-07T02:00:26.556Z"
   },
   {
    "duration": 177,
    "start_time": "2025-01-07T02:00:27.094Z"
   },
   {
    "duration": 280,
    "start_time": "2025-01-07T02:00:27.274Z"
   },
   {
    "duration": 3,
    "start_time": "2025-01-07T02:00:27.558Z"
   },
   {
    "duration": 5,
    "start_time": "2025-01-07T02:00:27.562Z"
   },
   {
    "duration": 4,
    "start_time": "2025-01-07T02:00:27.568Z"
   },
   {
    "duration": 6,
    "start_time": "2025-01-07T02:00:27.573Z"
   },
   {
    "duration": 36,
    "start_time": "2025-01-07T02:00:27.581Z"
   },
   {
    "duration": 900,
    "start_time": "2025-01-07T02:12:21.511Z"
   },
   {
    "duration": 3,
    "start_time": "2025-01-07T02:12:22.413Z"
   },
   {
    "duration": 41,
    "start_time": "2025-01-07T02:12:22.418Z"
   },
   {
    "duration": 20,
    "start_time": "2025-01-07T02:12:22.462Z"
   },
   {
    "duration": 30,
    "start_time": "2025-01-07T02:12:22.485Z"
   },
   {
    "duration": 16,
    "start_time": "2025-01-07T02:12:22.517Z"
   },
   {
    "duration": 11,
    "start_time": "2025-01-07T02:12:22.535Z"
   },
   {
    "duration": 7,
    "start_time": "2025-01-07T02:12:22.548Z"
   },
   {
    "duration": 8,
    "start_time": "2025-01-07T02:12:22.556Z"
   },
   {
    "duration": 44,
    "start_time": "2025-01-07T02:12:22.565Z"
   },
   {
    "duration": 7,
    "start_time": "2025-01-07T02:12:22.611Z"
   },
   {
    "duration": 7,
    "start_time": "2025-01-07T02:12:22.619Z"
   },
   {
    "duration": 6,
    "start_time": "2025-01-07T02:12:22.627Z"
   },
   {
    "duration": 6,
    "start_time": "2025-01-07T02:12:22.637Z"
   },
   {
    "duration": 7,
    "start_time": "2025-01-07T02:12:22.645Z"
   },
   {
    "duration": 6,
    "start_time": "2025-01-07T02:12:22.654Z"
   },
   {
    "duration": 48,
    "start_time": "2025-01-07T02:12:22.662Z"
   },
   {
    "duration": 6,
    "start_time": "2025-01-07T02:12:22.713Z"
   },
   {
    "duration": 6,
    "start_time": "2025-01-07T02:12:22.721Z"
   },
   {
    "duration": 5,
    "start_time": "2025-01-07T02:12:22.728Z"
   },
   {
    "duration": 19,
    "start_time": "2025-01-07T02:12:22.735Z"
   },
   {
    "duration": 5,
    "start_time": "2025-01-07T02:12:22.756Z"
   },
   {
    "duration": 50,
    "start_time": "2025-01-07T02:12:22.763Z"
   },
   {
    "duration": 12,
    "start_time": "2025-01-07T02:12:22.815Z"
   },
   {
    "duration": 567,
    "start_time": "2025-01-07T02:12:22.829Z"
   },
   {
    "duration": 181,
    "start_time": "2025-01-07T02:12:23.398Z"
   },
   {
    "duration": 288,
    "start_time": "2025-01-07T02:12:23.581Z"
   },
   {
    "duration": 167,
    "start_time": "2025-01-07T02:12:23.871Z"
   },
   {
    "duration": 4,
    "start_time": "2025-01-07T02:12:24.040Z"
   },
   {
    "duration": 5,
    "start_time": "2025-01-07T02:12:24.046Z"
   },
   {
    "duration": 7,
    "start_time": "2025-01-07T02:12:24.053Z"
   },
   {
    "duration": 15,
    "start_time": "2025-01-07T02:12:24.062Z"
   },
   {
    "duration": 833,
    "start_time": "2025-01-07T02:17:55.767Z"
   },
   {
    "duration": 6,
    "start_time": "2025-01-07T02:17:56.602Z"
   },
   {
    "duration": 33,
    "start_time": "2025-01-07T02:17:56.609Z"
   },
   {
    "duration": 19,
    "start_time": "2025-01-07T02:17:56.643Z"
   },
   {
    "duration": 13,
    "start_time": "2025-01-07T02:17:56.666Z"
   },
   {
    "duration": 37,
    "start_time": "2025-01-07T02:17:56.680Z"
   },
   {
    "duration": 10,
    "start_time": "2025-01-07T02:17:56.719Z"
   },
   {
    "duration": 7,
    "start_time": "2025-01-07T02:17:56.731Z"
   },
   {
    "duration": 6,
    "start_time": "2025-01-07T02:17:56.740Z"
   },
   {
    "duration": 9,
    "start_time": "2025-01-07T02:17:56.747Z"
   },
   {
    "duration": 6,
    "start_time": "2025-01-07T02:17:56.757Z"
   },
   {
    "duration": 47,
    "start_time": "2025-01-07T02:17:56.764Z"
   },
   {
    "duration": 9,
    "start_time": "2025-01-07T02:17:56.813Z"
   },
   {
    "duration": 6,
    "start_time": "2025-01-07T02:17:56.825Z"
   },
   {
    "duration": 6,
    "start_time": "2025-01-07T02:17:56.833Z"
   },
   {
    "duration": 7,
    "start_time": "2025-01-07T02:17:56.841Z"
   },
   {
    "duration": 5,
    "start_time": "2025-01-07T02:17:56.849Z"
   },
   {
    "duration": 5,
    "start_time": "2025-01-07T02:17:56.856Z"
   },
   {
    "duration": 5,
    "start_time": "2025-01-07T02:17:56.863Z"
   },
   {
    "duration": 41,
    "start_time": "2025-01-07T02:17:56.869Z"
   },
   {
    "duration": 24,
    "start_time": "2025-01-07T02:17:56.912Z"
   },
   {
    "duration": 4,
    "start_time": "2025-01-07T02:17:56.938Z"
   },
   {
    "duration": 13,
    "start_time": "2025-01-07T02:17:56.944Z"
   },
   {
    "duration": 11,
    "start_time": "2025-01-07T02:17:56.959Z"
   },
   {
    "duration": 610,
    "start_time": "2025-01-07T02:17:56.972Z"
   },
   {
    "duration": 161,
    "start_time": "2025-01-07T02:17:57.585Z"
   },
   {
    "duration": 301,
    "start_time": "2025-01-07T02:17:57.748Z"
   },
   {
    "duration": 159,
    "start_time": "2025-01-07T02:17:58.051Z"
   },
   {
    "duration": 10,
    "start_time": "2025-01-07T02:17:58.212Z"
   },
   {
    "duration": 247,
    "start_time": "2025-01-07T02:17:58.224Z"
   },
   {
    "duration": 0,
    "start_time": "2025-01-07T02:17:58.473Z"
   },
   {
    "duration": 0,
    "start_time": "2025-01-07T02:17:58.474Z"
   },
   {
    "duration": 0,
    "start_time": "2025-01-07T02:17:58.475Z"
   },
   {
    "duration": 885,
    "start_time": "2025-01-07T02:18:17.008Z"
   },
   {
    "duration": 4,
    "start_time": "2025-01-07T02:18:17.895Z"
   },
   {
    "duration": 32,
    "start_time": "2025-01-07T02:18:17.909Z"
   },
   {
    "duration": 18,
    "start_time": "2025-01-07T02:18:17.943Z"
   },
   {
    "duration": 12,
    "start_time": "2025-01-07T02:18:17.965Z"
   },
   {
    "duration": 37,
    "start_time": "2025-01-07T02:18:17.979Z"
   },
   {
    "duration": 10,
    "start_time": "2025-01-07T02:18:18.019Z"
   },
   {
    "duration": 7,
    "start_time": "2025-01-07T02:18:18.031Z"
   },
   {
    "duration": 7,
    "start_time": "2025-01-07T02:18:18.040Z"
   },
   {
    "duration": 8,
    "start_time": "2025-01-07T02:18:18.048Z"
   },
   {
    "duration": 6,
    "start_time": "2025-01-07T02:18:18.058Z"
   },
   {
    "duration": 45,
    "start_time": "2025-01-07T02:18:18.065Z"
   },
   {
    "duration": 18,
    "start_time": "2025-01-07T02:18:18.113Z"
   },
   {
    "duration": 9,
    "start_time": "2025-01-07T02:18:18.136Z"
   },
   {
    "duration": 6,
    "start_time": "2025-01-07T02:18:18.147Z"
   },
   {
    "duration": 8,
    "start_time": "2025-01-07T02:18:18.155Z"
   },
   {
    "duration": 6,
    "start_time": "2025-01-07T02:18:18.166Z"
   },
   {
    "duration": 5,
    "start_time": "2025-01-07T02:18:18.174Z"
   },
   {
    "duration": 31,
    "start_time": "2025-01-07T02:18:18.181Z"
   },
   {
    "duration": 4,
    "start_time": "2025-01-07T02:18:18.214Z"
   },
   {
    "duration": 19,
    "start_time": "2025-01-07T02:18:18.219Z"
   },
   {
    "duration": 3,
    "start_time": "2025-01-07T02:18:18.239Z"
   },
   {
    "duration": 11,
    "start_time": "2025-01-07T02:18:18.244Z"
   },
   {
    "duration": 11,
    "start_time": "2025-01-07T02:18:18.258Z"
   },
   {
    "duration": 549,
    "start_time": "2025-01-07T02:18:18.270Z"
   },
   {
    "duration": 161,
    "start_time": "2025-01-07T02:18:18.821Z"
   },
   {
    "duration": 295,
    "start_time": "2025-01-07T02:18:18.983Z"
   },
   {
    "duration": 154,
    "start_time": "2025-01-07T02:18:19.280Z"
   },
   {
    "duration": 9,
    "start_time": "2025-01-07T02:18:19.436Z"
   },
   {
    "duration": 118,
    "start_time": "2025-01-07T02:18:19.447Z"
   },
   {
    "duration": 942,
    "start_time": "2025-01-07T02:18:19.568Z"
   },
   {
    "duration": 1,
    "start_time": "2025-01-07T02:18:20.511Z"
   },
   {
    "duration": 0,
    "start_time": "2025-01-07T02:18:20.513Z"
   },
   {
    "duration": 874,
    "start_time": "2025-01-07T02:21:02.918Z"
   },
   {
    "duration": 3,
    "start_time": "2025-01-07T02:21:03.794Z"
   },
   {
    "duration": 39,
    "start_time": "2025-01-07T02:21:03.799Z"
   },
   {
    "duration": 19,
    "start_time": "2025-01-07T02:21:03.840Z"
   },
   {
    "duration": 13,
    "start_time": "2025-01-07T02:21:03.861Z"
   },
   {
    "duration": 34,
    "start_time": "2025-01-07T02:21:03.875Z"
   },
   {
    "duration": 11,
    "start_time": "2025-01-07T02:21:03.910Z"
   },
   {
    "duration": 7,
    "start_time": "2025-01-07T02:21:03.922Z"
   },
   {
    "duration": 6,
    "start_time": "2025-01-07T02:21:03.930Z"
   },
   {
    "duration": 7,
    "start_time": "2025-01-07T02:21:03.938Z"
   },
   {
    "duration": 5,
    "start_time": "2025-01-07T02:21:03.947Z"
   },
   {
    "duration": 5,
    "start_time": "2025-01-07T02:21:03.953Z"
   },
   {
    "duration": 5,
    "start_time": "2025-01-07T02:21:03.961Z"
   },
   {
    "duration": 6,
    "start_time": "2025-01-07T02:21:04.009Z"
   },
   {
    "duration": 6,
    "start_time": "2025-01-07T02:21:04.017Z"
   },
   {
    "duration": 7,
    "start_time": "2025-01-07T02:21:04.024Z"
   },
   {
    "duration": 5,
    "start_time": "2025-01-07T02:21:04.033Z"
   },
   {
    "duration": 5,
    "start_time": "2025-01-07T02:21:04.039Z"
   },
   {
    "duration": 5,
    "start_time": "2025-01-07T02:21:04.046Z"
   },
   {
    "duration": 4,
    "start_time": "2025-01-07T02:21:04.053Z"
   },
   {
    "duration": 63,
    "start_time": "2025-01-07T02:21:04.059Z"
   },
   {
    "duration": 5,
    "start_time": "2025-01-07T02:21:04.124Z"
   },
   {
    "duration": 11,
    "start_time": "2025-01-07T02:21:04.131Z"
   },
   {
    "duration": 11,
    "start_time": "2025-01-07T02:21:04.144Z"
   },
   {
    "duration": 520,
    "start_time": "2025-01-07T02:21:04.159Z"
   },
   {
    "duration": 165,
    "start_time": "2025-01-07T02:21:04.681Z"
   },
   {
    "duration": 271,
    "start_time": "2025-01-07T02:21:04.848Z"
   },
   {
    "duration": 177,
    "start_time": "2025-01-07T02:21:05.121Z"
   },
   {
    "duration": 13,
    "start_time": "2025-01-07T02:21:05.300Z"
   },
   {
    "duration": 111,
    "start_time": "2025-01-07T02:21:05.315Z"
   },
   {
    "duration": 4,
    "start_time": "2025-01-07T02:21:05.428Z"
   },
   {
    "duration": 940,
    "start_time": "2025-01-07T02:21:05.434Z"
   },
   {
    "duration": 0,
    "start_time": "2025-01-07T02:21:06.376Z"
   },
   {
    "duration": 0,
    "start_time": "2025-01-07T02:21:06.377Z"
   },
   {
    "duration": 819,
    "start_time": "2025-01-07T02:21:29.271Z"
   },
   {
    "duration": 6,
    "start_time": "2025-01-07T02:21:30.092Z"
   },
   {
    "duration": 37,
    "start_time": "2025-01-07T02:21:30.099Z"
   },
   {
    "duration": 17,
    "start_time": "2025-01-07T02:21:30.138Z"
   },
   {
    "duration": 15,
    "start_time": "2025-01-07T02:21:30.157Z"
   },
   {
    "duration": 14,
    "start_time": "2025-01-07T02:21:30.174Z"
   },
   {
    "duration": 12,
    "start_time": "2025-01-07T02:21:30.209Z"
   },
   {
    "duration": 6,
    "start_time": "2025-01-07T02:21:30.223Z"
   },
   {
    "duration": 6,
    "start_time": "2025-01-07T02:21:30.231Z"
   },
   {
    "duration": 9,
    "start_time": "2025-01-07T02:21:30.238Z"
   },
   {
    "duration": 6,
    "start_time": "2025-01-07T02:21:30.248Z"
   },
   {
    "duration": 5,
    "start_time": "2025-01-07T02:21:30.256Z"
   },
   {
    "duration": 48,
    "start_time": "2025-01-07T02:21:30.262Z"
   },
   {
    "duration": 6,
    "start_time": "2025-01-07T02:21:30.313Z"
   },
   {
    "duration": 5,
    "start_time": "2025-01-07T02:21:30.321Z"
   },
   {
    "duration": 6,
    "start_time": "2025-01-07T02:21:30.328Z"
   },
   {
    "duration": 5,
    "start_time": "2025-01-07T02:21:30.336Z"
   },
   {
    "duration": 4,
    "start_time": "2025-01-07T02:21:30.343Z"
   },
   {
    "duration": 5,
    "start_time": "2025-01-07T02:21:30.349Z"
   },
   {
    "duration": 5,
    "start_time": "2025-01-07T02:21:30.355Z"
   },
   {
    "duration": 59,
    "start_time": "2025-01-07T02:21:30.361Z"
   },
   {
    "duration": 3,
    "start_time": "2025-01-07T02:21:30.422Z"
   },
   {
    "duration": 10,
    "start_time": "2025-01-07T02:21:30.427Z"
   },
   {
    "duration": 10,
    "start_time": "2025-01-07T02:21:30.439Z"
   },
   {
    "duration": 541,
    "start_time": "2025-01-07T02:21:30.451Z"
   },
   {
    "duration": 159,
    "start_time": "2025-01-07T02:21:30.994Z"
   },
   {
    "duration": 272,
    "start_time": "2025-01-07T02:21:31.155Z"
   },
   {
    "duration": 155,
    "start_time": "2025-01-07T02:21:31.429Z"
   },
   {
    "duration": 10,
    "start_time": "2025-01-07T02:21:31.586Z"
   },
   {
    "duration": 118,
    "start_time": "2025-01-07T02:21:31.597Z"
   },
   {
    "duration": 57,
    "start_time": "2025-01-07T02:21:31.717Z"
   },
   {
    "duration": 281,
    "start_time": "2025-01-07T02:21:31.776Z"
   },
   {
    "duration": 524,
    "start_time": "2025-01-07T02:21:32.059Z"
   },
   {
    "duration": 838,
    "start_time": "2025-01-07T02:30:00.458Z"
   },
   {
    "duration": 3,
    "start_time": "2025-01-07T02:30:01.298Z"
   },
   {
    "duration": 36,
    "start_time": "2025-01-07T02:30:01.303Z"
   },
   {
    "duration": 18,
    "start_time": "2025-01-07T02:30:01.342Z"
   },
   {
    "duration": 15,
    "start_time": "2025-01-07T02:30:01.361Z"
   },
   {
    "duration": 32,
    "start_time": "2025-01-07T02:30:01.378Z"
   },
   {
    "duration": 11,
    "start_time": "2025-01-07T02:30:01.411Z"
   },
   {
    "duration": 7,
    "start_time": "2025-01-07T02:30:01.423Z"
   },
   {
    "duration": 6,
    "start_time": "2025-01-07T02:30:01.431Z"
   },
   {
    "duration": 8,
    "start_time": "2025-01-07T02:30:01.441Z"
   },
   {
    "duration": 5,
    "start_time": "2025-01-07T02:30:01.451Z"
   },
   {
    "duration": 6,
    "start_time": "2025-01-07T02:30:01.457Z"
   },
   {
    "duration": 48,
    "start_time": "2025-01-07T02:30:01.465Z"
   },
   {
    "duration": 5,
    "start_time": "2025-01-07T02:30:01.515Z"
   },
   {
    "duration": 6,
    "start_time": "2025-01-07T02:30:01.522Z"
   },
   {
    "duration": 7,
    "start_time": "2025-01-07T02:30:01.529Z"
   },
   {
    "duration": 5,
    "start_time": "2025-01-07T02:30:01.537Z"
   },
   {
    "duration": 5,
    "start_time": "2025-01-07T02:30:01.543Z"
   },
   {
    "duration": 6,
    "start_time": "2025-01-07T02:30:01.549Z"
   },
   {
    "duration": 4,
    "start_time": "2025-01-07T02:30:01.556Z"
   },
   {
    "duration": 60,
    "start_time": "2025-01-07T02:30:01.562Z"
   },
   {
    "duration": 3,
    "start_time": "2025-01-07T02:30:01.624Z"
   },
   {
    "duration": 11,
    "start_time": "2025-01-07T02:30:01.628Z"
   },
   {
    "duration": 11,
    "start_time": "2025-01-07T02:30:01.641Z"
   },
   {
    "duration": 545,
    "start_time": "2025-01-07T02:30:01.654Z"
   },
   {
    "duration": 157,
    "start_time": "2025-01-07T02:30:02.208Z"
   },
   {
    "duration": 261,
    "start_time": "2025-01-07T02:30:02.367Z"
   },
   {
    "duration": 156,
    "start_time": "2025-01-07T02:30:02.632Z"
   },
   {
    "duration": 9,
    "start_time": "2025-01-07T02:30:02.789Z"
   },
   {
    "duration": 124,
    "start_time": "2025-01-07T02:30:02.799Z"
   },
   {
    "duration": 57,
    "start_time": "2025-01-07T02:30:02.925Z"
   },
   {
    "duration": 287,
    "start_time": "2025-01-07T02:30:02.984Z"
   },
   {
    "duration": 523,
    "start_time": "2025-01-07T02:30:03.272Z"
   },
   {
    "duration": 244,
    "start_time": "2025-01-07T02:30:03.796Z"
   },
   {
    "duration": 0,
    "start_time": "2025-01-07T02:30:04.042Z"
   },
   {
    "duration": 0,
    "start_time": "2025-01-07T02:30:04.044Z"
   },
   {
    "duration": 852,
    "start_time": "2025-01-07T02:30:13.966Z"
   },
   {
    "duration": 2,
    "start_time": "2025-01-07T02:30:14.821Z"
   },
   {
    "duration": 36,
    "start_time": "2025-01-07T02:30:14.825Z"
   },
   {
    "duration": 20,
    "start_time": "2025-01-07T02:30:14.863Z"
   },
   {
    "duration": 29,
    "start_time": "2025-01-07T02:30:14.886Z"
   },
   {
    "duration": 14,
    "start_time": "2025-01-07T02:30:14.917Z"
   },
   {
    "duration": 10,
    "start_time": "2025-01-07T02:30:14.933Z"
   },
   {
    "duration": 7,
    "start_time": "2025-01-07T02:30:14.944Z"
   },
   {
    "duration": 6,
    "start_time": "2025-01-07T02:30:14.952Z"
   },
   {
    "duration": 8,
    "start_time": "2025-01-07T02:30:14.960Z"
   },
   {
    "duration": 41,
    "start_time": "2025-01-07T02:30:14.969Z"
   },
   {
    "duration": 5,
    "start_time": "2025-01-07T02:30:15.012Z"
   },
   {
    "duration": 6,
    "start_time": "2025-01-07T02:30:15.019Z"
   },
   {
    "duration": 6,
    "start_time": "2025-01-07T02:30:15.029Z"
   },
   {
    "duration": 6,
    "start_time": "2025-01-07T02:30:15.036Z"
   },
   {
    "duration": 7,
    "start_time": "2025-01-07T02:30:15.043Z"
   },
   {
    "duration": 4,
    "start_time": "2025-01-07T02:30:15.052Z"
   },
   {
    "duration": 5,
    "start_time": "2025-01-07T02:30:15.058Z"
   },
   {
    "duration": 48,
    "start_time": "2025-01-07T02:30:15.065Z"
   },
   {
    "duration": 5,
    "start_time": "2025-01-07T02:30:15.114Z"
   },
   {
    "duration": 18,
    "start_time": "2025-01-07T02:30:15.120Z"
   },
   {
    "duration": 4,
    "start_time": "2025-01-07T02:30:15.139Z"
   },
   {
    "duration": 11,
    "start_time": "2025-01-07T02:30:15.145Z"
   },
   {
    "duration": 12,
    "start_time": "2025-01-07T02:30:15.157Z"
   },
   {
    "duration": 546,
    "start_time": "2025-01-07T02:30:15.170Z"
   },
   {
    "duration": 160,
    "start_time": "2025-01-07T02:30:15.717Z"
   },
   {
    "duration": 296,
    "start_time": "2025-01-07T02:30:15.879Z"
   },
   {
    "duration": 163,
    "start_time": "2025-01-07T02:30:16.178Z"
   },
   {
    "duration": 10,
    "start_time": "2025-01-07T02:30:16.343Z"
   },
   {
    "duration": 117,
    "start_time": "2025-01-07T02:30:16.354Z"
   },
   {
    "duration": 63,
    "start_time": "2025-01-07T02:30:16.473Z"
   },
   {
    "duration": 271,
    "start_time": "2025-01-07T02:30:16.538Z"
   },
   {
    "duration": 579,
    "start_time": "2025-01-07T02:30:16.810Z"
   },
   {
    "duration": 6727,
    "start_time": "2025-01-07T02:30:17.391Z"
   },
   {
    "duration": 866,
    "start_time": "2025-01-07T02:30:28.530Z"
   },
   {
    "duration": 3,
    "start_time": "2025-01-07T02:30:29.398Z"
   },
   {
    "duration": 37,
    "start_time": "2025-01-07T02:30:29.402Z"
   },
   {
    "duration": 18,
    "start_time": "2025-01-07T02:30:29.441Z"
   },
   {
    "duration": 12,
    "start_time": "2025-01-07T02:30:29.462Z"
   },
   {
    "duration": 33,
    "start_time": "2025-01-07T02:30:29.477Z"
   },
   {
    "duration": 11,
    "start_time": "2025-01-07T02:30:29.511Z"
   },
   {
    "duration": 6,
    "start_time": "2025-01-07T02:30:29.524Z"
   },
   {
    "duration": 6,
    "start_time": "2025-01-07T02:30:29.532Z"
   },
   {
    "duration": 8,
    "start_time": "2025-01-07T02:30:29.539Z"
   },
   {
    "duration": 6,
    "start_time": "2025-01-07T02:30:29.549Z"
   },
   {
    "duration": 5,
    "start_time": "2025-01-07T02:30:29.557Z"
   },
   {
    "duration": 47,
    "start_time": "2025-01-07T02:30:29.564Z"
   },
   {
    "duration": 6,
    "start_time": "2025-01-07T02:30:29.615Z"
   },
   {
    "duration": 6,
    "start_time": "2025-01-07T02:30:29.622Z"
   },
   {
    "duration": 6,
    "start_time": "2025-01-07T02:30:29.629Z"
   },
   {
    "duration": 5,
    "start_time": "2025-01-07T02:30:29.637Z"
   },
   {
    "duration": 5,
    "start_time": "2025-01-07T02:30:29.644Z"
   },
   {
    "duration": 6,
    "start_time": "2025-01-07T02:30:29.650Z"
   },
   {
    "duration": 5,
    "start_time": "2025-01-07T02:30:29.657Z"
   },
   {
    "duration": 61,
    "start_time": "2025-01-07T02:30:29.664Z"
   },
   {
    "duration": 4,
    "start_time": "2025-01-07T02:30:29.726Z"
   },
   {
    "duration": 11,
    "start_time": "2025-01-07T02:30:29.732Z"
   },
   {
    "duration": 11,
    "start_time": "2025-01-07T02:30:29.744Z"
   },
   {
    "duration": 534,
    "start_time": "2025-01-07T02:30:29.757Z"
   },
   {
    "duration": 162,
    "start_time": "2025-01-07T02:30:30.293Z"
   },
   {
    "duration": 261,
    "start_time": "2025-01-07T02:30:30.457Z"
   },
   {
    "duration": 156,
    "start_time": "2025-01-07T02:30:30.720Z"
   },
   {
    "duration": 10,
    "start_time": "2025-01-07T02:30:30.880Z"
   },
   {
    "duration": 119,
    "start_time": "2025-01-07T02:30:30.892Z"
   },
   {
    "duration": 56,
    "start_time": "2025-01-07T02:30:31.013Z"
   },
   {
    "duration": 292,
    "start_time": "2025-01-07T02:30:31.071Z"
   },
   {
    "duration": 520,
    "start_time": "2025-01-07T02:30:31.365Z"
   },
   {
    "duration": 6824,
    "start_time": "2025-01-07T02:30:31.887Z"
   },
   {
    "duration": 7428,
    "start_time": "2025-01-07T02:30:38.713Z"
   },
   {
    "duration": 6,
    "start_time": "2025-01-07T02:30:46.143Z"
   },
   {
    "duration": 841,
    "start_time": "2025-01-07T02:36:58.152Z"
   },
   {
    "duration": 3,
    "start_time": "2025-01-07T02:36:58.996Z"
   },
   {
    "duration": 32,
    "start_time": "2025-01-07T02:36:59.009Z"
   },
   {
    "duration": 19,
    "start_time": "2025-01-07T02:36:59.043Z"
   },
   {
    "duration": 12,
    "start_time": "2025-01-07T02:36:59.066Z"
   },
   {
    "duration": 31,
    "start_time": "2025-01-07T02:36:59.080Z"
   },
   {
    "duration": 11,
    "start_time": "2025-01-07T02:36:59.114Z"
   },
   {
    "duration": 6,
    "start_time": "2025-01-07T02:36:59.127Z"
   },
   {
    "duration": 6,
    "start_time": "2025-01-07T02:36:59.134Z"
   },
   {
    "duration": 7,
    "start_time": "2025-01-07T02:36:59.142Z"
   },
   {
    "duration": 5,
    "start_time": "2025-01-07T02:36:59.151Z"
   },
   {
    "duration": 5,
    "start_time": "2025-01-07T02:36:59.158Z"
   },
   {
    "duration": 49,
    "start_time": "2025-01-07T02:36:59.165Z"
   },
   {
    "duration": 6,
    "start_time": "2025-01-07T02:36:59.217Z"
   },
   {
    "duration": 6,
    "start_time": "2025-01-07T02:36:59.224Z"
   },
   {
    "duration": 7,
    "start_time": "2025-01-07T02:36:59.231Z"
   },
   {
    "duration": 5,
    "start_time": "2025-01-07T02:36:59.239Z"
   },
   {
    "duration": 5,
    "start_time": "2025-01-07T02:36:59.245Z"
   },
   {
    "duration": 8,
    "start_time": "2025-01-07T02:36:59.252Z"
   },
   {
    "duration": 4,
    "start_time": "2025-01-07T02:36:59.262Z"
   },
   {
    "duration": 58,
    "start_time": "2025-01-07T02:36:59.268Z"
   },
   {
    "duration": 4,
    "start_time": "2025-01-07T02:36:59.328Z"
   },
   {
    "duration": 11,
    "start_time": "2025-01-07T02:36:59.333Z"
   },
   {
    "duration": 10,
    "start_time": "2025-01-07T02:36:59.346Z"
   },
   {
    "duration": 537,
    "start_time": "2025-01-07T02:36:59.358Z"
   },
   {
    "duration": 160,
    "start_time": "2025-01-07T02:36:59.897Z"
   },
   {
    "duration": 271,
    "start_time": "2025-01-07T02:37:00.060Z"
   },
   {
    "duration": 150,
    "start_time": "2025-01-07T02:37:00.335Z"
   },
   {
    "duration": 10,
    "start_time": "2025-01-07T02:37:00.487Z"
   },
   {
    "duration": 117,
    "start_time": "2025-01-07T02:37:00.498Z"
   },
   {
    "duration": 57,
    "start_time": "2025-01-07T02:37:00.617Z"
   },
   {
    "duration": 290,
    "start_time": "2025-01-07T02:37:00.675Z"
   },
   {
    "duration": 544,
    "start_time": "2025-01-07T02:37:00.967Z"
   },
   {
    "duration": 7304,
    "start_time": "2025-01-07T02:37:01.513Z"
   },
   {
    "duration": 7715,
    "start_time": "2025-01-07T02:37:08.819Z"
   },
   {
    "duration": 6,
    "start_time": "2025-01-07T02:37:16.536Z"
   },
   {
    "duration": 2,
    "start_time": "2025-01-07T02:37:16.544Z"
   },
   {
    "duration": 114,
    "start_time": "2025-01-07T02:37:16.548Z"
   },
   {
    "duration": 809,
    "start_time": "2025-01-07T02:48:10.693Z"
   },
   {
    "duration": 3,
    "start_time": "2025-01-07T02:48:11.508Z"
   },
   {
    "duration": 39,
    "start_time": "2025-01-07T02:48:11.513Z"
   },
   {
    "duration": 19,
    "start_time": "2025-01-07T02:48:11.554Z"
   },
   {
    "duration": 14,
    "start_time": "2025-01-07T02:48:11.575Z"
   },
   {
    "duration": 32,
    "start_time": "2025-01-07T02:48:11.591Z"
   },
   {
    "duration": 12,
    "start_time": "2025-01-07T02:48:11.624Z"
   },
   {
    "duration": 6,
    "start_time": "2025-01-07T02:48:11.637Z"
   },
   {
    "duration": 6,
    "start_time": "2025-01-07T02:48:11.645Z"
   },
   {
    "duration": 8,
    "start_time": "2025-01-07T02:48:11.653Z"
   },
   {
    "duration": 6,
    "start_time": "2025-01-07T02:48:11.663Z"
   },
   {
    "duration": 43,
    "start_time": "2025-01-07T02:48:11.671Z"
   },
   {
    "duration": 6,
    "start_time": "2025-01-07T02:48:11.716Z"
   },
   {
    "duration": 5,
    "start_time": "2025-01-07T02:48:11.727Z"
   },
   {
    "duration": 6,
    "start_time": "2025-01-07T02:48:11.734Z"
   },
   {
    "duration": 7,
    "start_time": "2025-01-07T02:48:11.741Z"
   },
   {
    "duration": 6,
    "start_time": "2025-01-07T02:48:11.749Z"
   },
   {
    "duration": 6,
    "start_time": "2025-01-07T02:48:11.757Z"
   },
   {
    "duration": 46,
    "start_time": "2025-01-07T02:48:11.765Z"
   },
   {
    "duration": 4,
    "start_time": "2025-01-07T02:48:11.814Z"
   },
   {
    "duration": 19,
    "start_time": "2025-01-07T02:48:11.820Z"
   },
   {
    "duration": 3,
    "start_time": "2025-01-07T02:48:11.841Z"
   },
   {
    "duration": 11,
    "start_time": "2025-01-07T02:48:11.846Z"
   },
   {
    "duration": 11,
    "start_time": "2025-01-07T02:48:11.859Z"
   },
   {
    "duration": 594,
    "start_time": "2025-01-07T02:48:11.871Z"
   },
   {
    "duration": 171,
    "start_time": "2025-01-07T02:48:12.467Z"
   },
   {
    "duration": 284,
    "start_time": "2025-01-07T02:48:12.640Z"
   },
   {
    "duration": 180,
    "start_time": "2025-01-07T02:48:12.926Z"
   },
   {
    "duration": 236,
    "start_time": "2025-01-07T02:48:13.109Z"
   },
   {
    "duration": 0,
    "start_time": "2025-01-07T02:48:13.347Z"
   },
   {
    "duration": 0,
    "start_time": "2025-01-07T02:48:13.348Z"
   },
   {
    "duration": 0,
    "start_time": "2025-01-07T02:48:13.349Z"
   },
   {
    "duration": 0,
    "start_time": "2025-01-07T02:48:13.351Z"
   },
   {
    "duration": 1,
    "start_time": "2025-01-07T02:48:13.351Z"
   },
   {
    "duration": 0,
    "start_time": "2025-01-07T02:48:13.353Z"
   },
   {
    "duration": 0,
    "start_time": "2025-01-07T02:48:13.354Z"
   },
   {
    "duration": 0,
    "start_time": "2025-01-07T02:48:13.356Z"
   },
   {
    "duration": 866,
    "start_time": "2025-01-07T02:48:48.447Z"
   },
   {
    "duration": 3,
    "start_time": "2025-01-07T02:48:49.315Z"
   },
   {
    "duration": 34,
    "start_time": "2025-01-07T02:48:49.319Z"
   },
   {
    "duration": 21,
    "start_time": "2025-01-07T02:48:49.355Z"
   },
   {
    "duration": 13,
    "start_time": "2025-01-07T02:48:49.379Z"
   },
   {
    "duration": 15,
    "start_time": "2025-01-07T02:48:49.409Z"
   },
   {
    "duration": 11,
    "start_time": "2025-01-07T02:48:49.426Z"
   },
   {
    "duration": 6,
    "start_time": "2025-01-07T02:48:49.439Z"
   },
   {
    "duration": 7,
    "start_time": "2025-01-07T02:48:49.446Z"
   },
   {
    "duration": 9,
    "start_time": "2025-01-07T02:48:49.454Z"
   },
   {
    "duration": 45,
    "start_time": "2025-01-07T02:48:49.465Z"
   },
   {
    "duration": 7,
    "start_time": "2025-01-07T02:48:49.511Z"
   },
   {
    "duration": 7,
    "start_time": "2025-01-07T02:48:49.519Z"
   },
   {
    "duration": 7,
    "start_time": "2025-01-07T02:48:49.530Z"
   },
   {
    "duration": 6,
    "start_time": "2025-01-07T02:48:49.538Z"
   },
   {
    "duration": 7,
    "start_time": "2025-01-07T02:48:49.545Z"
   },
   {
    "duration": 5,
    "start_time": "2025-01-07T02:48:49.554Z"
   },
   {
    "duration": 6,
    "start_time": "2025-01-07T02:48:49.560Z"
   },
   {
    "duration": 6,
    "start_time": "2025-01-07T02:48:49.610Z"
   },
   {
    "duration": 5,
    "start_time": "2025-01-07T02:48:49.617Z"
   },
   {
    "duration": 18,
    "start_time": "2025-01-07T02:48:49.624Z"
   },
   {
    "duration": 4,
    "start_time": "2025-01-07T02:48:49.644Z"
   },
   {
    "duration": 11,
    "start_time": "2025-01-07T02:48:49.650Z"
   },
   {
    "duration": 48,
    "start_time": "2025-01-07T02:48:49.662Z"
   },
   {
    "duration": 575,
    "start_time": "2025-01-07T02:48:49.712Z"
   },
   {
    "duration": 171,
    "start_time": "2025-01-07T02:48:50.289Z"
   },
   {
    "duration": 271,
    "start_time": "2025-01-07T02:48:50.462Z"
   },
   {
    "duration": 158,
    "start_time": "2025-01-07T02:48:50.734Z"
   },
   {
    "duration": 210,
    "start_time": "2025-01-07T02:48:50.894Z"
   },
   {
    "duration": 963,
    "start_time": "2025-01-07T02:48:51.106Z"
   },
   {
    "duration": 0,
    "start_time": "2025-01-07T02:48:52.070Z"
   },
   {
    "duration": 0,
    "start_time": "2025-01-07T02:48:52.072Z"
   },
   {
    "duration": 0,
    "start_time": "2025-01-07T02:48:52.074Z"
   },
   {
    "duration": 0,
    "start_time": "2025-01-07T02:48:52.075Z"
   },
   {
    "duration": 0,
    "start_time": "2025-01-07T02:48:52.076Z"
   },
   {
    "duration": 0,
    "start_time": "2025-01-07T02:48:52.077Z"
   },
   {
    "duration": 0,
    "start_time": "2025-01-07T02:48:52.078Z"
   },
   {
    "duration": 818,
    "start_time": "2025-01-07T02:51:20.798Z"
   },
   {
    "duration": 3,
    "start_time": "2025-01-07T02:51:21.619Z"
   },
   {
    "duration": 34,
    "start_time": "2025-01-07T02:51:21.624Z"
   },
   {
    "duration": 19,
    "start_time": "2025-01-07T02:51:21.660Z"
   },
   {
    "duration": 33,
    "start_time": "2025-01-07T02:51:21.682Z"
   },
   {
    "duration": 16,
    "start_time": "2025-01-07T02:51:21.717Z"
   },
   {
    "duration": 11,
    "start_time": "2025-01-07T02:51:21.735Z"
   },
   {
    "duration": 6,
    "start_time": "2025-01-07T02:51:21.748Z"
   },
   {
    "duration": 7,
    "start_time": "2025-01-07T02:51:21.755Z"
   },
   {
    "duration": 46,
    "start_time": "2025-01-07T02:51:21.764Z"
   },
   {
    "duration": 7,
    "start_time": "2025-01-07T02:51:21.812Z"
   },
   {
    "duration": 6,
    "start_time": "2025-01-07T02:51:21.820Z"
   },
   {
    "duration": 6,
    "start_time": "2025-01-07T02:51:21.828Z"
   },
   {
    "duration": 6,
    "start_time": "2025-01-07T02:51:21.838Z"
   },
   {
    "duration": 6,
    "start_time": "2025-01-07T02:51:21.846Z"
   },
   {
    "duration": 7,
    "start_time": "2025-01-07T02:51:21.854Z"
   },
   {
    "duration": 47,
    "start_time": "2025-01-07T02:51:21.863Z"
   },
   {
    "duration": 6,
    "start_time": "2025-01-07T02:51:21.912Z"
   },
   {
    "duration": 5,
    "start_time": "2025-01-07T02:51:21.919Z"
   },
   {
    "duration": 4,
    "start_time": "2025-01-07T02:51:21.926Z"
   },
   {
    "duration": 20,
    "start_time": "2025-01-07T02:51:21.931Z"
   },
   {
    "duration": 4,
    "start_time": "2025-01-07T02:51:21.952Z"
   },
   {
    "duration": 51,
    "start_time": "2025-01-07T02:51:21.958Z"
   },
   {
    "duration": 12,
    "start_time": "2025-01-07T02:51:22.011Z"
   },
   {
    "duration": 559,
    "start_time": "2025-01-07T02:51:22.026Z"
   },
   {
    "duration": 174,
    "start_time": "2025-01-07T02:51:22.587Z"
   },
   {
    "duration": 266,
    "start_time": "2025-01-07T02:51:22.763Z"
   },
   {
    "duration": 164,
    "start_time": "2025-01-07T02:51:23.031Z"
   },
   {
    "duration": 202,
    "start_time": "2025-01-07T02:51:23.197Z"
   },
   {
    "duration": 119,
    "start_time": "2025-01-07T02:51:23.403Z"
   },
   {
    "duration": 561,
    "start_time": "2025-01-07T02:51:23.523Z"
   },
   {
    "duration": 1042,
    "start_time": "2025-01-07T02:51:24.085Z"
   },
   {
    "duration": 5780,
    "start_time": "2025-01-07T02:51:25.129Z"
   },
   {
    "duration": 7809,
    "start_time": "2025-01-07T02:51:30.911Z"
   },
   {
    "duration": 6,
    "start_time": "2025-01-07T02:51:38.722Z"
   },
   {
    "duration": 2,
    "start_time": "2025-01-07T02:51:38.730Z"
   },
   {
    "duration": 131,
    "start_time": "2025-01-07T02:51:38.734Z"
   },
   {
    "duration": 861,
    "start_time": "2025-01-07T02:53:39.338Z"
   },
   {
    "duration": 3,
    "start_time": "2025-01-07T02:53:40.201Z"
   },
   {
    "duration": 32,
    "start_time": "2025-01-07T02:53:40.209Z"
   },
   {
    "duration": 18,
    "start_time": "2025-01-07T02:53:40.243Z"
   },
   {
    "duration": 13,
    "start_time": "2025-01-07T02:53:40.264Z"
   },
   {
    "duration": 35,
    "start_time": "2025-01-07T02:53:40.278Z"
   },
   {
    "duration": 10,
    "start_time": "2025-01-07T02:53:40.315Z"
   },
   {
    "duration": 6,
    "start_time": "2025-01-07T02:53:40.327Z"
   },
   {
    "duration": 6,
    "start_time": "2025-01-07T02:53:40.335Z"
   },
   {
    "duration": 8,
    "start_time": "2025-01-07T02:53:40.343Z"
   },
   {
    "duration": 6,
    "start_time": "2025-01-07T02:53:40.353Z"
   },
   {
    "duration": 6,
    "start_time": "2025-01-07T02:53:40.361Z"
   },
   {
    "duration": 7,
    "start_time": "2025-01-07T02:53:40.409Z"
   },
   {
    "duration": 6,
    "start_time": "2025-01-07T02:53:40.420Z"
   },
   {
    "duration": 6,
    "start_time": "2025-01-07T02:53:40.427Z"
   },
   {
    "duration": 7,
    "start_time": "2025-01-07T02:53:40.434Z"
   },
   {
    "duration": 5,
    "start_time": "2025-01-07T02:53:40.442Z"
   },
   {
    "duration": 5,
    "start_time": "2025-01-07T02:53:40.449Z"
   },
   {
    "duration": 5,
    "start_time": "2025-01-07T02:53:40.455Z"
   },
   {
    "duration": 47,
    "start_time": "2025-01-07T02:53:40.462Z"
   },
   {
    "duration": 19,
    "start_time": "2025-01-07T02:53:40.511Z"
   },
   {
    "duration": 4,
    "start_time": "2025-01-07T02:53:40.532Z"
   },
   {
    "duration": 11,
    "start_time": "2025-01-07T02:53:40.537Z"
   },
   {
    "duration": 10,
    "start_time": "2025-01-07T02:53:40.550Z"
   },
   {
    "duration": 534,
    "start_time": "2025-01-07T02:53:40.562Z"
   },
   {
    "duration": 174,
    "start_time": "2025-01-07T02:53:41.098Z"
   },
   {
    "duration": 266,
    "start_time": "2025-01-07T02:53:41.274Z"
   },
   {
    "duration": 156,
    "start_time": "2025-01-07T02:53:41.542Z"
   },
   {
    "duration": 15,
    "start_time": "2025-01-07T02:53:41.700Z"
   },
   {
    "duration": 113,
    "start_time": "2025-01-07T02:53:41.716Z"
   },
   {
    "duration": 56,
    "start_time": "2025-01-07T02:53:41.831Z"
   },
   {
    "duration": 281,
    "start_time": "2025-01-07T02:53:41.889Z"
   },
   {
    "duration": 515,
    "start_time": "2025-01-07T02:53:42.172Z"
   },
   {
    "duration": 7224,
    "start_time": "2025-01-07T02:53:42.689Z"
   },
   {
    "duration": 7785,
    "start_time": "2025-01-07T02:53:49.915Z"
   },
   {
    "duration": 11,
    "start_time": "2025-01-07T02:53:57.702Z"
   },
   {
    "duration": 4,
    "start_time": "2025-01-07T02:53:57.714Z"
   },
   {
    "duration": 119,
    "start_time": "2025-01-07T02:53:57.721Z"
   },
   {
    "duration": 811,
    "start_time": "2025-01-07T02:59:41.085Z"
   },
   {
    "duration": 4,
    "start_time": "2025-01-07T02:59:41.899Z"
   },
   {
    "duration": 33,
    "start_time": "2025-01-07T02:59:41.908Z"
   },
   {
    "duration": 20,
    "start_time": "2025-01-07T02:59:41.943Z"
   },
   {
    "duration": 14,
    "start_time": "2025-01-07T02:59:41.966Z"
   },
   {
    "duration": 37,
    "start_time": "2025-01-07T02:59:41.982Z"
   },
   {
    "duration": 12,
    "start_time": "2025-01-07T02:59:42.021Z"
   },
   {
    "duration": 7,
    "start_time": "2025-01-07T02:59:42.034Z"
   },
   {
    "duration": 6,
    "start_time": "2025-01-07T02:59:42.043Z"
   },
   {
    "duration": 9,
    "start_time": "2025-01-07T02:59:42.050Z"
   },
   {
    "duration": 6,
    "start_time": "2025-01-07T02:59:42.061Z"
   },
   {
    "duration": 7,
    "start_time": "2025-01-07T02:59:42.109Z"
   },
   {
    "duration": 7,
    "start_time": "2025-01-07T02:59:42.118Z"
   },
   {
    "duration": 6,
    "start_time": "2025-01-07T02:59:42.128Z"
   },
   {
    "duration": 6,
    "start_time": "2025-01-07T02:59:42.136Z"
   },
   {
    "duration": 7,
    "start_time": "2025-01-07T02:59:42.143Z"
   },
   {
    "duration": 5,
    "start_time": "2025-01-07T02:59:42.152Z"
   },
   {
    "duration": 5,
    "start_time": "2025-01-07T02:59:42.159Z"
   },
   {
    "duration": 47,
    "start_time": "2025-01-07T02:59:42.166Z"
   },
   {
    "duration": 5,
    "start_time": "2025-01-07T02:59:42.215Z"
   },
   {
    "duration": 20,
    "start_time": "2025-01-07T02:59:42.222Z"
   },
   {
    "duration": 6,
    "start_time": "2025-01-07T02:59:42.243Z"
   },
   {
    "duration": 11,
    "start_time": "2025-01-07T02:59:42.250Z"
   },
   {
    "duration": 12,
    "start_time": "2025-01-07T02:59:42.264Z"
   },
   {
    "duration": 573,
    "start_time": "2025-01-07T02:59:42.310Z"
   },
   {
    "duration": 173,
    "start_time": "2025-01-07T02:59:42.886Z"
   },
   {
    "duration": 270,
    "start_time": "2025-01-07T02:59:43.061Z"
   },
   {
    "duration": 169,
    "start_time": "2025-01-07T02:59:43.333Z"
   },
   {
    "duration": 13,
    "start_time": "2025-01-07T02:59:43.504Z"
   },
   {
    "duration": 117,
    "start_time": "2025-01-07T02:59:43.519Z"
   },
   {
    "duration": 59,
    "start_time": "2025-01-07T02:59:43.638Z"
   },
   {
    "duration": 304,
    "start_time": "2025-01-07T02:59:43.709Z"
   },
   {
    "duration": 614,
    "start_time": "2025-01-07T02:59:44.016Z"
   },
   {
    "duration": 7295,
    "start_time": "2025-01-07T02:59:44.632Z"
   },
   {
    "duration": 7789,
    "start_time": "2025-01-07T02:59:51.929Z"
   },
   {
    "duration": 6,
    "start_time": "2025-01-07T02:59:59.719Z"
   },
   {
    "duration": 3,
    "start_time": "2025-01-07T02:59:59.727Z"
   },
   {
    "duration": 125,
    "start_time": "2025-01-07T02:59:59.732Z"
   },
   {
    "duration": 594,
    "start_time": "2025-01-07T02:59:59.859Z"
   },
   {
    "duration": 831,
    "start_time": "2025-01-07T03:01:10.577Z"
   },
   {
    "duration": 3,
    "start_time": "2025-01-07T03:01:11.410Z"
   },
   {
    "duration": 34,
    "start_time": "2025-01-07T03:01:11.414Z"
   },
   {
    "duration": 19,
    "start_time": "2025-01-07T03:01:11.450Z"
   },
   {
    "duration": 37,
    "start_time": "2025-01-07T03:01:11.471Z"
   },
   {
    "duration": 16,
    "start_time": "2025-01-07T03:01:11.510Z"
   },
   {
    "duration": 11,
    "start_time": "2025-01-07T03:01:11.528Z"
   },
   {
    "duration": 6,
    "start_time": "2025-01-07T03:01:11.541Z"
   },
   {
    "duration": 6,
    "start_time": "2025-01-07T03:01:11.549Z"
   },
   {
    "duration": 8,
    "start_time": "2025-01-07T03:01:11.559Z"
   },
   {
    "duration": 41,
    "start_time": "2025-01-07T03:01:11.569Z"
   },
   {
    "duration": 7,
    "start_time": "2025-01-07T03:01:11.614Z"
   },
   {
    "duration": 7,
    "start_time": "2025-01-07T03:01:11.623Z"
   },
   {
    "duration": 6,
    "start_time": "2025-01-07T03:01:11.631Z"
   },
   {
    "duration": 6,
    "start_time": "2025-01-07T03:01:11.639Z"
   },
   {
    "duration": 7,
    "start_time": "2025-01-07T03:01:11.647Z"
   },
   {
    "duration": 5,
    "start_time": "2025-01-07T03:01:11.655Z"
   },
   {
    "duration": 48,
    "start_time": "2025-01-07T03:01:11.662Z"
   },
   {
    "duration": 8,
    "start_time": "2025-01-07T03:01:11.712Z"
   },
   {
    "duration": 4,
    "start_time": "2025-01-07T03:01:11.722Z"
   },
   {
    "duration": 19,
    "start_time": "2025-01-07T03:01:11.728Z"
   },
   {
    "duration": 4,
    "start_time": "2025-01-07T03:01:11.749Z"
   },
   {
    "duration": 14,
    "start_time": "2025-01-07T03:01:11.755Z"
   },
   {
    "duration": 46,
    "start_time": "2025-01-07T03:01:11.771Z"
   },
   {
    "duration": 588,
    "start_time": "2025-01-07T03:01:11.820Z"
   },
   {
    "duration": 169,
    "start_time": "2025-01-07T03:01:12.410Z"
   },
   {
    "duration": 338,
    "start_time": "2025-01-07T03:01:12.581Z"
   },
   {
    "duration": 168,
    "start_time": "2025-01-07T03:01:12.923Z"
   },
   {
    "duration": 16,
    "start_time": "2025-01-07T03:01:13.093Z"
   },
   {
    "duration": 109,
    "start_time": "2025-01-07T03:01:13.110Z"
   },
   {
    "duration": 57,
    "start_time": "2025-01-07T03:01:13.221Z"
   },
   {
    "duration": 295,
    "start_time": "2025-01-07T03:01:13.280Z"
   },
   {
    "duration": 541,
    "start_time": "2025-01-07T03:01:13.577Z"
   },
   {
    "duration": 6906,
    "start_time": "2025-01-07T03:01:14.120Z"
   },
   {
    "duration": 7648,
    "start_time": "2025-01-07T03:01:21.028Z"
   },
   {
    "duration": 6,
    "start_time": "2025-01-07T03:01:28.678Z"
   },
   {
    "duration": 2,
    "start_time": "2025-01-07T03:01:28.685Z"
   },
   {
    "duration": 119,
    "start_time": "2025-01-07T03:01:28.690Z"
   },
   {
    "duration": 60226,
    "start_time": "2025-01-07T03:01:28.810Z"
   },
   {
    "duration": 868,
    "start_time": "2025-01-07T03:03:05.927Z"
   },
   {
    "duration": 3,
    "start_time": "2025-01-07T03:03:06.798Z"
   },
   {
    "duration": 38,
    "start_time": "2025-01-07T03:03:06.802Z"
   },
   {
    "duration": 18,
    "start_time": "2025-01-07T03:03:06.842Z"
   },
   {
    "duration": 13,
    "start_time": "2025-01-07T03:03:06.863Z"
   },
   {
    "duration": 33,
    "start_time": "2025-01-07T03:03:06.877Z"
   },
   {
    "duration": 11,
    "start_time": "2025-01-07T03:03:06.912Z"
   },
   {
    "duration": 7,
    "start_time": "2025-01-07T03:03:06.924Z"
   },
   {
    "duration": 7,
    "start_time": "2025-01-07T03:03:06.932Z"
   },
   {
    "duration": 8,
    "start_time": "2025-01-07T03:03:06.941Z"
   },
   {
    "duration": 5,
    "start_time": "2025-01-07T03:03:06.951Z"
   },
   {
    "duration": 6,
    "start_time": "2025-01-07T03:03:06.958Z"
   },
   {
    "duration": 48,
    "start_time": "2025-01-07T03:03:06.965Z"
   },
   {
    "duration": 6,
    "start_time": "2025-01-07T03:03:07.018Z"
   },
   {
    "duration": 5,
    "start_time": "2025-01-07T03:03:07.026Z"
   },
   {
    "duration": 7,
    "start_time": "2025-01-07T03:03:07.033Z"
   },
   {
    "duration": 5,
    "start_time": "2025-01-07T03:03:07.042Z"
   },
   {
    "duration": 5,
    "start_time": "2025-01-07T03:03:07.048Z"
   },
   {
    "duration": 4,
    "start_time": "2025-01-07T03:03:07.055Z"
   },
   {
    "duration": 49,
    "start_time": "2025-01-07T03:03:07.061Z"
   },
   {
    "duration": 19,
    "start_time": "2025-01-07T03:03:07.111Z"
   },
   {
    "duration": 4,
    "start_time": "2025-01-07T03:03:07.132Z"
   },
   {
    "duration": 14,
    "start_time": "2025-01-07T03:03:07.137Z"
   },
   {
    "duration": 11,
    "start_time": "2025-01-07T03:03:07.153Z"
   },
   {
    "duration": 545,
    "start_time": "2025-01-07T03:03:07.166Z"
   },
   {
    "duration": 163,
    "start_time": "2025-01-07T03:03:07.713Z"
   },
   {
    "duration": 279,
    "start_time": "2025-01-07T03:03:07.878Z"
   },
   {
    "duration": 163,
    "start_time": "2025-01-07T03:03:08.159Z"
   },
   {
    "duration": 10,
    "start_time": "2025-01-07T03:03:08.324Z"
   },
   {
    "duration": 123,
    "start_time": "2025-01-07T03:03:08.335Z"
   },
   {
    "duration": 61,
    "start_time": "2025-01-07T03:03:08.459Z"
   },
   {
    "duration": 278,
    "start_time": "2025-01-07T03:03:08.521Z"
   },
   {
    "duration": 524,
    "start_time": "2025-01-07T03:03:08.801Z"
   },
   {
    "duration": 7189,
    "start_time": "2025-01-07T03:03:09.328Z"
   },
   {
    "duration": 7706,
    "start_time": "2025-01-07T03:03:16.520Z"
   },
   {
    "duration": 7,
    "start_time": "2025-01-07T03:03:24.228Z"
   },
   {
    "duration": 3,
    "start_time": "2025-01-07T03:03:24.237Z"
   },
   {
    "duration": 116,
    "start_time": "2025-01-07T03:03:24.242Z"
   },
   {
    "duration": 58500,
    "start_time": "2025-01-07T03:03:24.360Z"
   },
   {
    "duration": 2547,
    "start_time": "2025-01-07T22:50:46.092Z"
   },
   {
    "duration": 3,
    "start_time": "2025-01-07T22:50:48.641Z"
   },
   {
    "duration": 65,
    "start_time": "2025-01-07T22:50:48.646Z"
   },
   {
    "duration": 19,
    "start_time": "2025-01-07T22:50:48.713Z"
   },
   {
    "duration": 12,
    "start_time": "2025-01-07T22:50:48.735Z"
   },
   {
    "duration": 14,
    "start_time": "2025-01-07T22:50:48.749Z"
   },
   {
    "duration": 11,
    "start_time": "2025-01-07T22:50:48.765Z"
   },
   {
    "duration": 6,
    "start_time": "2025-01-07T22:50:48.777Z"
   },
   {
    "duration": 41,
    "start_time": "2025-01-07T22:50:48.785Z"
   },
   {
    "duration": 8,
    "start_time": "2025-01-07T22:50:48.828Z"
   },
   {
    "duration": 5,
    "start_time": "2025-01-07T22:50:48.838Z"
   },
   {
    "duration": 6,
    "start_time": "2025-01-07T22:50:48.845Z"
   },
   {
    "duration": 7,
    "start_time": "2025-01-07T22:50:48.852Z"
   },
   {
    "duration": 6,
    "start_time": "2025-01-07T22:50:48.863Z"
   },
   {
    "duration": 5,
    "start_time": "2025-01-07T22:50:48.871Z"
   },
   {
    "duration": 47,
    "start_time": "2025-01-07T22:50:48.878Z"
   },
   {
    "duration": 6,
    "start_time": "2025-01-07T22:50:48.926Z"
   },
   {
    "duration": 5,
    "start_time": "2025-01-07T22:50:48.934Z"
   },
   {
    "duration": 5,
    "start_time": "2025-01-07T22:50:48.941Z"
   },
   {
    "duration": 4,
    "start_time": "2025-01-07T22:50:48.947Z"
   },
   {
    "duration": 18,
    "start_time": "2025-01-07T22:50:48.953Z"
   },
   {
    "duration": 3,
    "start_time": "2025-01-07T22:50:48.972Z"
   },
   {
    "duration": 51,
    "start_time": "2025-01-07T22:50:48.979Z"
   },
   {
    "duration": 11,
    "start_time": "2025-01-07T22:50:49.032Z"
   },
   {
    "duration": 557,
    "start_time": "2025-01-07T22:50:49.044Z"
   },
   {
    "duration": 109,
    "start_time": "2025-01-07T22:50:49.602Z"
   },
   {
    "duration": 324,
    "start_time": "2025-01-07T22:50:49.712Z"
   },
   {
    "duration": 231,
    "start_time": "2025-01-07T22:50:50.038Z"
   },
   {
    "duration": 234,
    "start_time": "2025-01-07T22:50:50.272Z"
   },
   {
    "duration": 0,
    "start_time": "2025-01-07T22:50:50.508Z"
   },
   {
    "duration": 0,
    "start_time": "2025-01-07T22:50:50.509Z"
   },
   {
    "duration": 0,
    "start_time": "2025-01-07T22:50:50.510Z"
   },
   {
    "duration": 0,
    "start_time": "2025-01-07T22:50:50.511Z"
   },
   {
    "duration": 0,
    "start_time": "2025-01-07T22:50:50.512Z"
   },
   {
    "duration": 0,
    "start_time": "2025-01-07T22:50:50.513Z"
   },
   {
    "duration": 0,
    "start_time": "2025-01-07T22:50:50.514Z"
   },
   {
    "duration": 0,
    "start_time": "2025-01-07T22:50:50.515Z"
   },
   {
    "duration": 0,
    "start_time": "2025-01-07T22:50:50.524Z"
   },
   {
    "duration": 0,
    "start_time": "2025-01-07T22:50:50.526Z"
   },
   {
    "duration": 789,
    "start_time": "2025-01-07T22:51:19.626Z"
   },
   {
    "duration": 6,
    "start_time": "2025-01-07T22:51:20.418Z"
   },
   {
    "duration": 32,
    "start_time": "2025-01-07T22:51:20.425Z"
   },
   {
    "duration": 18,
    "start_time": "2025-01-07T22:51:20.458Z"
   },
   {
    "duration": 12,
    "start_time": "2025-01-07T22:51:20.480Z"
   },
   {
    "duration": 31,
    "start_time": "2025-01-07T22:51:20.494Z"
   },
   {
    "duration": 10,
    "start_time": "2025-01-07T22:51:20.527Z"
   },
   {
    "duration": 7,
    "start_time": "2025-01-07T22:51:20.538Z"
   },
   {
    "duration": 6,
    "start_time": "2025-01-07T22:51:20.546Z"
   },
   {
    "duration": 7,
    "start_time": "2025-01-07T22:51:20.554Z"
   },
   {
    "duration": 5,
    "start_time": "2025-01-07T22:51:20.564Z"
   },
   {
    "duration": 6,
    "start_time": "2025-01-07T22:51:20.570Z"
   },
   {
    "duration": 47,
    "start_time": "2025-01-07T22:51:20.578Z"
   },
   {
    "duration": 6,
    "start_time": "2025-01-07T22:51:20.629Z"
   },
   {
    "duration": 5,
    "start_time": "2025-01-07T22:51:20.637Z"
   },
   {
    "duration": 6,
    "start_time": "2025-01-07T22:51:20.644Z"
   },
   {
    "duration": 5,
    "start_time": "2025-01-07T22:51:20.651Z"
   },
   {
    "duration": 4,
    "start_time": "2025-01-07T22:51:20.659Z"
   },
   {
    "duration": 6,
    "start_time": "2025-01-07T22:51:20.665Z"
   },
   {
    "duration": 4,
    "start_time": "2025-01-07T22:51:20.672Z"
   },
   {
    "duration": 18,
    "start_time": "2025-01-07T22:51:20.723Z"
   },
   {
    "duration": 4,
    "start_time": "2025-01-07T22:51:20.742Z"
   },
   {
    "duration": 10,
    "start_time": "2025-01-07T22:51:20.748Z"
   },
   {
    "duration": 10,
    "start_time": "2025-01-07T22:51:20.760Z"
   },
   {
    "duration": 540,
    "start_time": "2025-01-07T22:51:20.772Z"
   },
   {
    "duration": 161,
    "start_time": "2025-01-07T22:51:21.314Z"
   },
   {
    "duration": 257,
    "start_time": "2025-01-07T22:51:21.479Z"
   },
   {
    "duration": 154,
    "start_time": "2025-01-07T22:51:21.738Z"
   },
   {
    "duration": 23,
    "start_time": "2025-01-07T22:51:21.895Z"
   },
   {
    "duration": 102,
    "start_time": "2025-01-07T22:51:21.925Z"
   },
   {
    "duration": 52,
    "start_time": "2025-01-07T22:51:22.029Z"
   },
   {
    "duration": 331,
    "start_time": "2025-01-07T22:51:22.082Z"
   },
   {
    "duration": 509,
    "start_time": "2025-01-07T22:51:22.415Z"
   },
   {
    "duration": 6612,
    "start_time": "2025-01-07T22:51:22.926Z"
   },
   {
    "duration": 7509,
    "start_time": "2025-01-07T22:51:29.540Z"
   },
   {
    "duration": 6,
    "start_time": "2025-01-07T22:51:37.051Z"
   },
   {
    "duration": 2,
    "start_time": "2025-01-07T22:51:37.058Z"
   },
   {
    "duration": 111,
    "start_time": "2025-01-07T22:51:37.062Z"
   },
   {
    "duration": 67049,
    "start_time": "2025-01-07T22:51:37.175Z"
   },
   {
    "duration": 16,
    "start_time": "2025-01-07T22:57:41.024Z"
   },
   {
    "duration": 811,
    "start_time": "2025-01-07T23:02:55.388Z"
   },
   {
    "duration": 2,
    "start_time": "2025-01-07T23:02:56.202Z"
   },
   {
    "duration": 49,
    "start_time": "2025-01-07T23:02:56.206Z"
   },
   {
    "duration": 22,
    "start_time": "2025-01-07T23:02:56.257Z"
   },
   {
    "duration": 14,
    "start_time": "2025-01-07T23:02:56.282Z"
   },
   {
    "duration": 27,
    "start_time": "2025-01-07T23:02:56.298Z"
   },
   {
    "duration": 11,
    "start_time": "2025-01-07T23:02:56.327Z"
   },
   {
    "duration": 6,
    "start_time": "2025-01-07T23:02:56.339Z"
   },
   {
    "duration": 6,
    "start_time": "2025-01-07T23:02:56.347Z"
   },
   {
    "duration": 8,
    "start_time": "2025-01-07T23:02:56.354Z"
   },
   {
    "duration": 5,
    "start_time": "2025-01-07T23:02:56.364Z"
   },
   {
    "duration": 6,
    "start_time": "2025-01-07T23:02:56.370Z"
   },
   {
    "duration": 48,
    "start_time": "2025-01-07T23:02:56.377Z"
   },
   {
    "duration": 5,
    "start_time": "2025-01-07T23:02:56.428Z"
   },
   {
    "duration": 6,
    "start_time": "2025-01-07T23:02:56.435Z"
   },
   {
    "duration": 7,
    "start_time": "2025-01-07T23:02:56.442Z"
   },
   {
    "duration": 4,
    "start_time": "2025-01-07T23:02:56.451Z"
   },
   {
    "duration": 5,
    "start_time": "2025-01-07T23:02:56.457Z"
   },
   {
    "duration": 5,
    "start_time": "2025-01-07T23:02:56.464Z"
   },
   {
    "duration": 4,
    "start_time": "2025-01-07T23:02:56.471Z"
   },
   {
    "duration": 58,
    "start_time": "2025-01-07T23:02:56.476Z"
   },
   {
    "duration": 3,
    "start_time": "2025-01-07T23:02:56.536Z"
   },
   {
    "duration": 12,
    "start_time": "2025-01-07T23:02:56.542Z"
   },
   {
    "duration": 10,
    "start_time": "2025-01-07T23:02:56.556Z"
   },
   {
    "duration": 532,
    "start_time": "2025-01-07T23:02:56.568Z"
   },
   {
    "duration": 154,
    "start_time": "2025-01-07T23:02:57.102Z"
   },
   {
    "duration": 297,
    "start_time": "2025-01-07T23:02:57.258Z"
   },
   {
    "duration": 157,
    "start_time": "2025-01-07T23:02:57.557Z"
   },
   {
    "duration": 16,
    "start_time": "2025-01-07T23:02:57.716Z"
   },
   {
    "duration": 556,
    "start_time": "2025-01-07T23:02:57.734Z"
   },
   {
    "duration": 0,
    "start_time": "2025-01-07T23:02:58.292Z"
   },
   {
    "duration": 0,
    "start_time": "2025-01-07T23:02:58.293Z"
   },
   {
    "duration": 0,
    "start_time": "2025-01-07T23:02:58.294Z"
   },
   {
    "duration": 0,
    "start_time": "2025-01-07T23:02:58.295Z"
   },
   {
    "duration": 0,
    "start_time": "2025-01-07T23:02:58.296Z"
   },
   {
    "duration": 0,
    "start_time": "2025-01-07T23:02:58.297Z"
   },
   {
    "duration": 0,
    "start_time": "2025-01-07T23:02:58.298Z"
   },
   {
    "duration": 0,
    "start_time": "2025-01-07T23:02:58.298Z"
   },
   {
    "duration": 0,
    "start_time": "2025-01-07T23:02:58.300Z"
   },
   {
    "duration": 4,
    "start_time": "2025-01-07T23:03:53.032Z"
   },
   {
    "duration": 805,
    "start_time": "2025-01-07T23:05:44.096Z"
   },
   {
    "duration": 3,
    "start_time": "2025-01-07T23:05:44.903Z"
   },
   {
    "duration": 40,
    "start_time": "2025-01-07T23:05:44.907Z"
   },
   {
    "duration": 18,
    "start_time": "2025-01-07T23:05:44.949Z"
   },
   {
    "duration": 13,
    "start_time": "2025-01-07T23:05:44.968Z"
   },
   {
    "duration": 15,
    "start_time": "2025-01-07T23:05:44.983Z"
   },
   {
    "duration": 31,
    "start_time": "2025-01-07T23:05:44.999Z"
   },
   {
    "duration": 6,
    "start_time": "2025-01-07T23:05:45.031Z"
   },
   {
    "duration": 6,
    "start_time": "2025-01-07T23:05:45.039Z"
   },
   {
    "duration": 7,
    "start_time": "2025-01-07T23:05:45.048Z"
   },
   {
    "duration": 5,
    "start_time": "2025-01-07T23:05:45.057Z"
   },
   {
    "duration": 7,
    "start_time": "2025-01-07T23:05:45.063Z"
   },
   {
    "duration": 7,
    "start_time": "2025-01-07T23:05:45.072Z"
   },
   {
    "duration": 43,
    "start_time": "2025-01-07T23:05:45.081Z"
   },
   {
    "duration": 5,
    "start_time": "2025-01-07T23:05:45.126Z"
   },
   {
    "duration": 7,
    "start_time": "2025-01-07T23:05:45.133Z"
   },
   {
    "duration": 5,
    "start_time": "2025-01-07T23:05:45.141Z"
   },
   {
    "duration": 6,
    "start_time": "2025-01-07T23:05:45.147Z"
   },
   {
    "duration": 5,
    "start_time": "2025-01-07T23:05:45.154Z"
   },
   {
    "duration": 4,
    "start_time": "2025-01-07T23:05:45.161Z"
   },
   {
    "duration": 58,
    "start_time": "2025-01-07T23:05:45.167Z"
   },
   {
    "duration": 4,
    "start_time": "2025-01-07T23:05:45.226Z"
   },
   {
    "duration": 11,
    "start_time": "2025-01-07T23:05:45.232Z"
   },
   {
    "duration": 10,
    "start_time": "2025-01-07T23:05:45.245Z"
   },
   {
    "duration": 548,
    "start_time": "2025-01-07T23:05:45.256Z"
   },
   {
    "duration": 156,
    "start_time": "2025-01-07T23:05:45.805Z"
   },
   {
    "duration": 271,
    "start_time": "2025-01-07T23:05:45.962Z"
   },
   {
    "duration": 168,
    "start_time": "2025-01-07T23:05:46.237Z"
   },
   {
    "duration": 22,
    "start_time": "2025-01-07T23:05:46.407Z"
   },
   {
    "duration": 253,
    "start_time": "2025-01-07T23:05:46.431Z"
   },
   {
    "duration": 0,
    "start_time": "2025-01-07T23:05:46.686Z"
   },
   {
    "duration": 0,
    "start_time": "2025-01-07T23:05:46.687Z"
   },
   {
    "duration": 0,
    "start_time": "2025-01-07T23:05:46.688Z"
   },
   {
    "duration": 0,
    "start_time": "2025-01-07T23:05:46.690Z"
   },
   {
    "duration": 0,
    "start_time": "2025-01-07T23:05:46.690Z"
   },
   {
    "duration": 0,
    "start_time": "2025-01-07T23:05:46.691Z"
   },
   {
    "duration": 0,
    "start_time": "2025-01-07T23:05:46.692Z"
   },
   {
    "duration": 0,
    "start_time": "2025-01-07T23:05:46.693Z"
   },
   {
    "duration": 0,
    "start_time": "2025-01-07T23:05:46.695Z"
   },
   {
    "duration": 810,
    "start_time": "2025-01-07T23:05:58.094Z"
   },
   {
    "duration": 2,
    "start_time": "2025-01-07T23:05:58.906Z"
   },
   {
    "duration": 39,
    "start_time": "2025-01-07T23:05:58.910Z"
   },
   {
    "duration": 18,
    "start_time": "2025-01-07T23:05:58.951Z"
   },
   {
    "duration": 12,
    "start_time": "2025-01-07T23:05:58.971Z"
   },
   {
    "duration": 14,
    "start_time": "2025-01-07T23:05:58.985Z"
   },
   {
    "duration": 31,
    "start_time": "2025-01-07T23:05:59.001Z"
   },
   {
    "duration": 5,
    "start_time": "2025-01-07T23:05:59.034Z"
   },
   {
    "duration": 6,
    "start_time": "2025-01-07T23:05:59.041Z"
   },
   {
    "duration": 8,
    "start_time": "2025-01-07T23:05:59.048Z"
   },
   {
    "duration": 5,
    "start_time": "2025-01-07T23:05:59.058Z"
   },
   {
    "duration": 6,
    "start_time": "2025-01-07T23:05:59.065Z"
   },
   {
    "duration": 7,
    "start_time": "2025-01-07T23:05:59.072Z"
   },
   {
    "duration": 44,
    "start_time": "2025-01-07T23:05:59.083Z"
   },
   {
    "duration": 6,
    "start_time": "2025-01-07T23:05:59.129Z"
   },
   {
    "duration": 6,
    "start_time": "2025-01-07T23:05:59.137Z"
   },
   {
    "duration": 5,
    "start_time": "2025-01-07T23:05:59.144Z"
   },
   {
    "duration": 5,
    "start_time": "2025-01-07T23:05:59.150Z"
   },
   {
    "duration": 5,
    "start_time": "2025-01-07T23:05:59.157Z"
   },
   {
    "duration": 5,
    "start_time": "2025-01-07T23:05:59.163Z"
   },
   {
    "duration": 60,
    "start_time": "2025-01-07T23:05:59.169Z"
   },
   {
    "duration": 4,
    "start_time": "2025-01-07T23:05:59.231Z"
   },
   {
    "duration": 11,
    "start_time": "2025-01-07T23:05:59.237Z"
   },
   {
    "duration": 11,
    "start_time": "2025-01-07T23:05:59.250Z"
   },
   {
    "duration": 542,
    "start_time": "2025-01-07T23:05:59.262Z"
   },
   {
    "duration": 162,
    "start_time": "2025-01-07T23:05:59.806Z"
   },
   {
    "duration": 265,
    "start_time": "2025-01-07T23:05:59.970Z"
   },
   {
    "duration": 151,
    "start_time": "2025-01-07T23:06:00.236Z"
   },
   {
    "duration": 16,
    "start_time": "2025-01-07T23:06:00.390Z"
   },
   {
    "duration": 19,
    "start_time": "2025-01-07T23:06:00.408Z"
   },
   {
    "duration": 5,
    "start_time": "2025-01-07T23:06:00.429Z"
   },
   {
    "duration": 6,
    "start_time": "2025-01-07T23:06:00.436Z"
   },
   {
    "duration": 169,
    "start_time": "2025-01-07T23:06:00.444Z"
   },
   {
    "duration": 0,
    "start_time": "2025-01-07T23:06:00.624Z"
   },
   {
    "duration": 0,
    "start_time": "2025-01-07T23:06:00.626Z"
   },
   {
    "duration": 0,
    "start_time": "2025-01-07T23:06:00.627Z"
   },
   {
    "duration": 0,
    "start_time": "2025-01-07T23:06:00.630Z"
   },
   {
    "duration": 0,
    "start_time": "2025-01-07T23:06:00.631Z"
   },
   {
    "duration": 0,
    "start_time": "2025-01-07T23:06:00.633Z"
   },
   {
    "duration": 25,
    "start_time": "2025-01-07T23:07:22.580Z"
   },
   {
    "duration": 798,
    "start_time": "2025-01-07T23:12:15.479Z"
   },
   {
    "duration": 3,
    "start_time": "2025-01-07T23:12:16.279Z"
   },
   {
    "duration": 31,
    "start_time": "2025-01-07T23:12:16.284Z"
   },
   {
    "duration": 23,
    "start_time": "2025-01-07T23:12:16.316Z"
   },
   {
    "duration": 12,
    "start_time": "2025-01-07T23:12:16.342Z"
   },
   {
    "duration": 14,
    "start_time": "2025-01-07T23:12:16.356Z"
   },
   {
    "duration": 11,
    "start_time": "2025-01-07T23:12:16.371Z"
   },
   {
    "duration": 41,
    "start_time": "2025-01-07T23:12:16.384Z"
   },
   {
    "duration": 7,
    "start_time": "2025-01-07T23:12:16.427Z"
   },
   {
    "duration": 8,
    "start_time": "2025-01-07T23:12:16.435Z"
   },
   {
    "duration": 6,
    "start_time": "2025-01-07T23:12:16.444Z"
   },
   {
    "duration": 5,
    "start_time": "2025-01-07T23:12:16.452Z"
   },
   {
    "duration": 6,
    "start_time": "2025-01-07T23:12:16.458Z"
   },
   {
    "duration": 6,
    "start_time": "2025-01-07T23:12:16.468Z"
   },
   {
    "duration": 49,
    "start_time": "2025-01-07T23:12:16.476Z"
   },
   {
    "duration": 6,
    "start_time": "2025-01-07T23:12:16.526Z"
   },
   {
    "duration": 5,
    "start_time": "2025-01-07T23:12:16.533Z"
   },
   {
    "duration": 5,
    "start_time": "2025-01-07T23:12:16.540Z"
   },
   {
    "duration": 5,
    "start_time": "2025-01-07T23:12:16.546Z"
   },
   {
    "duration": 4,
    "start_time": "2025-01-07T23:12:16.552Z"
   },
   {
    "duration": 17,
    "start_time": "2025-01-07T23:12:16.558Z"
   },
   {
    "duration": 3,
    "start_time": "2025-01-07T23:12:16.577Z"
   },
   {
    "duration": 13,
    "start_time": "2025-01-07T23:12:16.625Z"
   },
   {
    "duration": 11,
    "start_time": "2025-01-07T23:12:16.640Z"
   },
   {
    "duration": 544,
    "start_time": "2025-01-07T23:12:16.653Z"
   },
   {
    "duration": 160,
    "start_time": "2025-01-07T23:12:17.199Z"
   },
   {
    "duration": 280,
    "start_time": "2025-01-07T23:12:17.361Z"
   },
   {
    "duration": 169,
    "start_time": "2025-01-07T23:12:17.642Z"
   },
   {
    "duration": 20,
    "start_time": "2025-01-07T23:12:17.814Z"
   },
   {
    "duration": 14,
    "start_time": "2025-01-07T23:12:17.837Z"
   },
   {
    "duration": 4,
    "start_time": "2025-01-07T23:12:17.852Z"
   },
   {
    "duration": 7,
    "start_time": "2025-01-07T23:12:17.858Z"
   },
   {
    "duration": 579,
    "start_time": "2025-01-07T23:12:17.866Z"
   },
   {
    "duration": 0,
    "start_time": "2025-01-07T23:12:18.447Z"
   },
   {
    "duration": 0,
    "start_time": "2025-01-07T23:12:18.448Z"
   },
   {
    "duration": 0,
    "start_time": "2025-01-07T23:12:18.450Z"
   },
   {
    "duration": 0,
    "start_time": "2025-01-07T23:12:18.451Z"
   },
   {
    "duration": 0,
    "start_time": "2025-01-07T23:12:18.452Z"
   },
   {
    "duration": 0,
    "start_time": "2025-01-07T23:12:18.453Z"
   },
   {
    "duration": 877,
    "start_time": "2025-01-07T23:14:16.270Z"
   },
   {
    "duration": 5,
    "start_time": "2025-01-07T23:14:17.149Z"
   },
   {
    "duration": 34,
    "start_time": "2025-01-07T23:14:17.155Z"
   },
   {
    "duration": 20,
    "start_time": "2025-01-07T23:14:17.190Z"
   },
   {
    "duration": 19,
    "start_time": "2025-01-07T23:14:17.223Z"
   },
   {
    "duration": 15,
    "start_time": "2025-01-07T23:14:17.245Z"
   },
   {
    "duration": 14,
    "start_time": "2025-01-07T23:14:17.261Z"
   },
   {
    "duration": 7,
    "start_time": "2025-01-07T23:14:17.276Z"
   },
   {
    "duration": 44,
    "start_time": "2025-01-07T23:14:17.284Z"
   },
   {
    "duration": 9,
    "start_time": "2025-01-07T23:14:17.330Z"
   },
   {
    "duration": 5,
    "start_time": "2025-01-07T23:14:17.341Z"
   },
   {
    "duration": 7,
    "start_time": "2025-01-07T23:14:17.348Z"
   },
   {
    "duration": 7,
    "start_time": "2025-01-07T23:14:17.357Z"
   },
   {
    "duration": 7,
    "start_time": "2025-01-07T23:14:17.368Z"
   },
   {
    "duration": 49,
    "start_time": "2025-01-07T23:14:17.376Z"
   },
   {
    "duration": 7,
    "start_time": "2025-01-07T23:14:17.427Z"
   },
   {
    "duration": 6,
    "start_time": "2025-01-07T23:14:17.436Z"
   },
   {
    "duration": 6,
    "start_time": "2025-01-07T23:14:17.443Z"
   },
   {
    "duration": 5,
    "start_time": "2025-01-07T23:14:17.452Z"
   },
   {
    "duration": 5,
    "start_time": "2025-01-07T23:14:17.460Z"
   },
   {
    "duration": 18,
    "start_time": "2025-01-07T23:14:17.467Z"
   },
   {
    "duration": 39,
    "start_time": "2025-01-07T23:14:17.487Z"
   },
   {
    "duration": 17,
    "start_time": "2025-01-07T23:14:17.528Z"
   },
   {
    "duration": 10,
    "start_time": "2025-01-07T23:14:17.547Z"
   },
   {
    "duration": 568,
    "start_time": "2025-01-07T23:14:17.559Z"
   },
   {
    "duration": 158,
    "start_time": "2025-01-07T23:14:18.130Z"
   },
   {
    "duration": 269,
    "start_time": "2025-01-07T23:14:18.290Z"
   },
   {
    "duration": 154,
    "start_time": "2025-01-07T23:14:18.561Z"
   },
   {
    "duration": 17,
    "start_time": "2025-01-07T23:14:18.717Z"
   },
   {
    "duration": 11,
    "start_time": "2025-01-07T23:14:18.736Z"
   },
   {
    "duration": 5,
    "start_time": "2025-01-07T23:14:18.748Z"
   },
   {
    "duration": 8,
    "start_time": "2025-01-07T23:14:18.754Z"
   },
   {
    "duration": 185,
    "start_time": "2025-01-07T23:14:18.764Z"
   },
   {
    "duration": 0,
    "start_time": "2025-01-07T23:14:18.952Z"
   },
   {
    "duration": 0,
    "start_time": "2025-01-07T23:14:18.953Z"
   },
   {
    "duration": 0,
    "start_time": "2025-01-07T23:14:18.954Z"
   },
   {
    "duration": 0,
    "start_time": "2025-01-07T23:14:18.956Z"
   },
   {
    "duration": 0,
    "start_time": "2025-01-07T23:14:18.957Z"
   },
   {
    "duration": 0,
    "start_time": "2025-01-07T23:14:18.958Z"
   },
   {
    "duration": 774,
    "start_time": "2025-01-07T23:16:36.674Z"
   },
   {
    "duration": 3,
    "start_time": "2025-01-07T23:16:37.450Z"
   },
   {
    "duration": 31,
    "start_time": "2025-01-07T23:16:37.454Z"
   },
   {
    "duration": 18,
    "start_time": "2025-01-07T23:16:37.486Z"
   },
   {
    "duration": 30,
    "start_time": "2025-01-07T23:16:37.507Z"
   },
   {
    "duration": 15,
    "start_time": "2025-01-07T23:16:37.539Z"
   },
   {
    "duration": 10,
    "start_time": "2025-01-07T23:16:37.556Z"
   },
   {
    "duration": 6,
    "start_time": "2025-01-07T23:16:37.568Z"
   },
   {
    "duration": 5,
    "start_time": "2025-01-07T23:16:37.576Z"
   },
   {
    "duration": 41,
    "start_time": "2025-01-07T23:16:37.584Z"
   },
   {
    "duration": 8,
    "start_time": "2025-01-07T23:16:37.626Z"
   },
   {
    "duration": 5,
    "start_time": "2025-01-07T23:16:37.636Z"
   },
   {
    "duration": 6,
    "start_time": "2025-01-07T23:16:37.644Z"
   },
   {
    "duration": 6,
    "start_time": "2025-01-07T23:16:37.653Z"
   },
   {
    "duration": 6,
    "start_time": "2025-01-07T23:16:37.661Z"
   },
   {
    "duration": 6,
    "start_time": "2025-01-07T23:16:37.669Z"
   },
   {
    "duration": 52,
    "start_time": "2025-01-07T23:16:37.676Z"
   },
   {
    "duration": 7,
    "start_time": "2025-01-07T23:16:37.730Z"
   },
   {
    "duration": 6,
    "start_time": "2025-01-07T23:16:37.738Z"
   },
   {
    "duration": 4,
    "start_time": "2025-01-07T23:16:37.746Z"
   },
   {
    "duration": 18,
    "start_time": "2025-01-07T23:16:37.752Z"
   },
   {
    "duration": 3,
    "start_time": "2025-01-07T23:16:37.772Z"
   },
   {
    "duration": 11,
    "start_time": "2025-01-07T23:16:37.777Z"
   },
   {
    "duration": 13,
    "start_time": "2025-01-07T23:16:37.824Z"
   },
   {
    "duration": 556,
    "start_time": "2025-01-07T23:16:37.838Z"
   },
   {
    "duration": 158,
    "start_time": "2025-01-07T23:16:38.396Z"
   },
   {
    "duration": 272,
    "start_time": "2025-01-07T23:16:38.556Z"
   },
   {
    "duration": 153,
    "start_time": "2025-01-07T23:16:38.830Z"
   },
   {
    "duration": 18,
    "start_time": "2025-01-07T23:16:38.985Z"
   },
   {
    "duration": 23,
    "start_time": "2025-01-07T23:16:39.004Z"
   },
   {
    "duration": 5,
    "start_time": "2025-01-07T23:16:39.028Z"
   },
   {
    "duration": 7,
    "start_time": "2025-01-07T23:16:39.034Z"
   },
   {
    "duration": 578,
    "start_time": "2025-01-07T23:16:39.042Z"
   },
   {
    "duration": 0,
    "start_time": "2025-01-07T23:16:39.624Z"
   },
   {
    "duration": 0,
    "start_time": "2025-01-07T23:16:39.626Z"
   },
   {
    "duration": 0,
    "start_time": "2025-01-07T23:16:39.627Z"
   },
   {
    "duration": 0,
    "start_time": "2025-01-07T23:16:39.629Z"
   },
   {
    "duration": 0,
    "start_time": "2025-01-07T23:16:39.630Z"
   },
   {
    "duration": 0,
    "start_time": "2025-01-07T23:16:39.632Z"
   },
   {
    "duration": 804,
    "start_time": "2025-01-07T23:17:14.759Z"
   },
   {
    "duration": 3,
    "start_time": "2025-01-07T23:17:15.566Z"
   },
   {
    "duration": 32,
    "start_time": "2025-01-07T23:17:15.571Z"
   },
   {
    "duration": 23,
    "start_time": "2025-01-07T23:17:15.605Z"
   },
   {
    "duration": 13,
    "start_time": "2025-01-07T23:17:15.631Z"
   },
   {
    "duration": 15,
    "start_time": "2025-01-07T23:17:15.645Z"
   },
   {
    "duration": 12,
    "start_time": "2025-01-07T23:17:15.661Z"
   },
   {
    "duration": 7,
    "start_time": "2025-01-07T23:17:15.674Z"
   },
   {
    "duration": 43,
    "start_time": "2025-01-07T23:17:15.682Z"
   },
   {
    "duration": 9,
    "start_time": "2025-01-07T23:17:15.727Z"
   },
   {
    "duration": 5,
    "start_time": "2025-01-07T23:17:15.737Z"
   },
   {
    "duration": 7,
    "start_time": "2025-01-07T23:17:15.744Z"
   },
   {
    "duration": 7,
    "start_time": "2025-01-07T23:17:15.753Z"
   },
   {
    "duration": 6,
    "start_time": "2025-01-07T23:17:15.764Z"
   },
   {
    "duration": 7,
    "start_time": "2025-01-07T23:17:15.772Z"
   },
   {
    "duration": 45,
    "start_time": "2025-01-07T23:17:15.780Z"
   },
   {
    "duration": 5,
    "start_time": "2025-01-07T23:17:15.827Z"
   },
   {
    "duration": 5,
    "start_time": "2025-01-07T23:17:15.833Z"
   },
   {
    "duration": 5,
    "start_time": "2025-01-07T23:17:15.840Z"
   },
   {
    "duration": 4,
    "start_time": "2025-01-07T23:17:15.847Z"
   },
   {
    "duration": 17,
    "start_time": "2025-01-07T23:17:15.853Z"
   },
   {
    "duration": 3,
    "start_time": "2025-01-07T23:17:15.872Z"
   },
   {
    "duration": 53,
    "start_time": "2025-01-07T23:17:15.877Z"
   },
   {
    "duration": 11,
    "start_time": "2025-01-07T23:17:15.932Z"
   },
   {
    "duration": 546,
    "start_time": "2025-01-07T23:17:15.944Z"
   },
   {
    "duration": 152,
    "start_time": "2025-01-07T23:17:16.492Z"
   },
   {
    "duration": 288,
    "start_time": "2025-01-07T23:17:16.646Z"
   },
   {
    "duration": 155,
    "start_time": "2025-01-07T23:17:16.936Z"
   },
   {
    "duration": 17,
    "start_time": "2025-01-07T23:17:17.092Z"
   },
   {
    "duration": 16,
    "start_time": "2025-01-07T23:17:17.111Z"
   },
   {
    "duration": 922,
    "start_time": "2025-01-07T23:17:17.129Z"
   },
   {
    "duration": 0,
    "start_time": "2025-01-07T23:17:18.053Z"
   },
   {
    "duration": 0,
    "start_time": "2025-01-07T23:17:18.055Z"
   },
   {
    "duration": 0,
    "start_time": "2025-01-07T23:17:18.056Z"
   },
   {
    "duration": 0,
    "start_time": "2025-01-07T23:17:18.058Z"
   },
   {
    "duration": 0,
    "start_time": "2025-01-07T23:17:18.059Z"
   },
   {
    "duration": 0,
    "start_time": "2025-01-07T23:17:18.060Z"
   },
   {
    "duration": 0,
    "start_time": "2025-01-07T23:17:18.062Z"
   },
   {
    "duration": 0,
    "start_time": "2025-01-07T23:17:18.062Z"
   },
   {
    "duration": 820,
    "start_time": "2025-01-07T23:17:47.396Z"
   },
   {
    "duration": 5,
    "start_time": "2025-01-07T23:17:48.219Z"
   },
   {
    "duration": 36,
    "start_time": "2025-01-07T23:17:48.228Z"
   },
   {
    "duration": 19,
    "start_time": "2025-01-07T23:17:48.266Z"
   },
   {
    "duration": 13,
    "start_time": "2025-01-07T23:17:48.286Z"
   },
   {
    "duration": 36,
    "start_time": "2025-01-07T23:17:48.301Z"
   },
   {
    "duration": 10,
    "start_time": "2025-01-07T23:17:48.339Z"
   },
   {
    "duration": 6,
    "start_time": "2025-01-07T23:17:48.351Z"
   },
   {
    "duration": 7,
    "start_time": "2025-01-07T23:17:48.359Z"
   },
   {
    "duration": 8,
    "start_time": "2025-01-07T23:17:48.368Z"
   },
   {
    "duration": 6,
    "start_time": "2025-01-07T23:17:48.377Z"
   },
   {
    "duration": 43,
    "start_time": "2025-01-07T23:17:48.384Z"
   },
   {
    "duration": 6,
    "start_time": "2025-01-07T23:17:48.431Z"
   },
   {
    "duration": 6,
    "start_time": "2025-01-07T23:17:48.438Z"
   },
   {
    "duration": 5,
    "start_time": "2025-01-07T23:17:48.446Z"
   },
   {
    "duration": 7,
    "start_time": "2025-01-07T23:17:48.453Z"
   },
   {
    "duration": 4,
    "start_time": "2025-01-07T23:17:48.462Z"
   },
   {
    "duration": 5,
    "start_time": "2025-01-07T23:17:48.468Z"
   },
   {
    "duration": 49,
    "start_time": "2025-01-07T23:17:48.475Z"
   },
   {
    "duration": 4,
    "start_time": "2025-01-07T23:17:48.526Z"
   },
   {
    "duration": 19,
    "start_time": "2025-01-07T23:17:48.531Z"
   },
   {
    "duration": 3,
    "start_time": "2025-01-07T23:17:48.551Z"
   },
   {
    "duration": 11,
    "start_time": "2025-01-07T23:17:48.556Z"
   },
   {
    "duration": 10,
    "start_time": "2025-01-07T23:17:48.569Z"
   },
   {
    "duration": 534,
    "start_time": "2025-01-07T23:17:48.581Z"
   },
   {
    "duration": 154,
    "start_time": "2025-01-07T23:17:49.116Z"
   },
   {
    "duration": 265,
    "start_time": "2025-01-07T23:17:49.272Z"
   },
   {
    "duration": 151,
    "start_time": "2025-01-07T23:17:49.539Z"
   },
   {
    "duration": 18,
    "start_time": "2025-01-07T23:17:49.692Z"
   },
   {
    "duration": 19,
    "start_time": "2025-01-07T23:17:49.711Z"
   },
   {
    "duration": 4,
    "start_time": "2025-01-07T23:17:49.732Z"
   },
   {
    "duration": 6,
    "start_time": "2025-01-07T23:17:49.739Z"
   },
   {
    "duration": 596,
    "start_time": "2025-01-07T23:17:49.746Z"
   },
   {
    "duration": 0,
    "start_time": "2025-01-07T23:17:50.344Z"
   },
   {
    "duration": 0,
    "start_time": "2025-01-07T23:17:50.345Z"
   },
   {
    "duration": 0,
    "start_time": "2025-01-07T23:17:50.346Z"
   },
   {
    "duration": 0,
    "start_time": "2025-01-07T23:17:50.347Z"
   },
   {
    "duration": 0,
    "start_time": "2025-01-07T23:17:50.348Z"
   },
   {
    "duration": 0,
    "start_time": "2025-01-07T23:17:50.349Z"
   },
   {
    "duration": 3,
    "start_time": "2025-01-07T23:20:13.882Z"
   },
   {
    "duration": 3,
    "start_time": "2025-01-07T23:20:48.923Z"
   },
   {
    "duration": 820,
    "start_time": "2025-01-07T23:22:44.382Z"
   },
   {
    "duration": 3,
    "start_time": "2025-01-07T23:22:45.204Z"
   },
   {
    "duration": 41,
    "start_time": "2025-01-07T23:22:45.209Z"
   },
   {
    "duration": 17,
    "start_time": "2025-01-07T23:22:45.253Z"
   },
   {
    "duration": 13,
    "start_time": "2025-01-07T23:22:45.272Z"
   },
   {
    "duration": 15,
    "start_time": "2025-01-07T23:22:45.286Z"
   },
   {
    "duration": 31,
    "start_time": "2025-01-07T23:22:45.303Z"
   },
   {
    "duration": 6,
    "start_time": "2025-01-07T23:22:45.336Z"
   },
   {
    "duration": 6,
    "start_time": "2025-01-07T23:22:45.344Z"
   },
   {
    "duration": 8,
    "start_time": "2025-01-07T23:22:45.354Z"
   },
   {
    "duration": 5,
    "start_time": "2025-01-07T23:22:45.365Z"
   },
   {
    "duration": 6,
    "start_time": "2025-01-07T23:22:45.371Z"
   },
   {
    "duration": 7,
    "start_time": "2025-01-07T23:22:45.378Z"
   },
   {
    "duration": 42,
    "start_time": "2025-01-07T23:22:45.386Z"
   },
   {
    "duration": 6,
    "start_time": "2025-01-07T23:22:45.429Z"
   },
   {
    "duration": 7,
    "start_time": "2025-01-07T23:22:45.436Z"
   },
   {
    "duration": 5,
    "start_time": "2025-01-07T23:22:45.445Z"
   },
   {
    "duration": 6,
    "start_time": "2025-01-07T23:22:45.451Z"
   },
   {
    "duration": 5,
    "start_time": "2025-01-07T23:22:45.458Z"
   },
   {
    "duration": 3,
    "start_time": "2025-01-07T23:22:45.465Z"
   },
   {
    "duration": 67,
    "start_time": "2025-01-07T23:22:45.470Z"
   },
   {
    "duration": 4,
    "start_time": "2025-01-07T23:22:45.539Z"
   },
   {
    "duration": 10,
    "start_time": "2025-01-07T23:22:45.546Z"
   },
   {
    "duration": 10,
    "start_time": "2025-01-07T23:22:45.558Z"
   },
   {
    "duration": 535,
    "start_time": "2025-01-07T23:22:45.570Z"
   },
   {
    "duration": 152,
    "start_time": "2025-01-07T23:22:46.106Z"
   },
   {
    "duration": 278,
    "start_time": "2025-01-07T23:22:46.261Z"
   },
   {
    "duration": 152,
    "start_time": "2025-01-07T23:22:46.543Z"
   },
   {
    "duration": 17,
    "start_time": "2025-01-07T23:22:46.697Z"
   },
   {
    "duration": 17,
    "start_time": "2025-01-07T23:22:46.715Z"
   },
   {
    "duration": 4,
    "start_time": "2025-01-07T23:22:46.734Z"
   },
   {
    "duration": 7,
    "start_time": "2025-01-07T23:22:46.739Z"
   },
   {
    "duration": 255,
    "start_time": "2025-01-07T23:22:46.747Z"
   },
   {
    "duration": 0,
    "start_time": "2025-01-07T23:22:47.004Z"
   },
   {
    "duration": 0,
    "start_time": "2025-01-07T23:22:47.006Z"
   },
   {
    "duration": 0,
    "start_time": "2025-01-07T23:22:47.007Z"
   },
   {
    "duration": 0,
    "start_time": "2025-01-07T23:22:47.025Z"
   },
   {
    "duration": 0,
    "start_time": "2025-01-07T23:22:47.025Z"
   },
   {
    "duration": 0,
    "start_time": "2025-01-07T23:22:47.027Z"
   },
   {
    "duration": 802,
    "start_time": "2025-01-07T23:24:22.008Z"
   },
   {
    "duration": 2,
    "start_time": "2025-01-07T23:24:22.812Z"
   },
   {
    "duration": 31,
    "start_time": "2025-01-07T23:24:22.824Z"
   },
   {
    "duration": 18,
    "start_time": "2025-01-07T23:24:22.856Z"
   },
   {
    "duration": 12,
    "start_time": "2025-01-07T23:24:22.877Z"
   },
   {
    "duration": 34,
    "start_time": "2025-01-07T23:24:22.890Z"
   },
   {
    "duration": 10,
    "start_time": "2025-01-07T23:24:22.926Z"
   },
   {
    "duration": 6,
    "start_time": "2025-01-07T23:24:22.938Z"
   },
   {
    "duration": 6,
    "start_time": "2025-01-07T23:24:22.946Z"
   },
   {
    "duration": 8,
    "start_time": "2025-01-07T23:24:22.953Z"
   },
   {
    "duration": 5,
    "start_time": "2025-01-07T23:24:22.962Z"
   },
   {
    "duration": 5,
    "start_time": "2025-01-07T23:24:22.969Z"
   },
   {
    "duration": 6,
    "start_time": "2025-01-07T23:24:22.976Z"
   },
   {
    "duration": 6,
    "start_time": "2025-01-07T23:24:23.027Z"
   },
   {
    "duration": 6,
    "start_time": "2025-01-07T23:24:23.035Z"
   },
   {
    "duration": 6,
    "start_time": "2025-01-07T23:24:23.043Z"
   },
   {
    "duration": 4,
    "start_time": "2025-01-07T23:24:23.051Z"
   },
   {
    "duration": 6,
    "start_time": "2025-01-07T23:24:23.057Z"
   },
   {
    "duration": 5,
    "start_time": "2025-01-07T23:24:23.065Z"
   },
   {
    "duration": 3,
    "start_time": "2025-01-07T23:24:23.072Z"
   },
   {
    "duration": 60,
    "start_time": "2025-01-07T23:24:23.077Z"
   },
   {
    "duration": 4,
    "start_time": "2025-01-07T23:24:23.139Z"
   },
   {
    "duration": 11,
    "start_time": "2025-01-07T23:24:23.145Z"
   },
   {
    "duration": 11,
    "start_time": "2025-01-07T23:24:23.158Z"
   },
   {
    "duration": 554,
    "start_time": "2025-01-07T23:24:23.170Z"
   },
   {
    "duration": 167,
    "start_time": "2025-01-07T23:24:23.726Z"
   },
   {
    "duration": 279,
    "start_time": "2025-01-07T23:24:23.894Z"
   },
   {
    "duration": 157,
    "start_time": "2025-01-07T23:24:24.174Z"
   },
   {
    "duration": 17,
    "start_time": "2025-01-07T23:24:24.333Z"
   },
   {
    "duration": 12,
    "start_time": "2025-01-07T23:24:24.351Z"
   },
   {
    "duration": 5,
    "start_time": "2025-01-07T23:24:24.364Z"
   },
   {
    "duration": 8,
    "start_time": "2025-01-07T23:24:24.370Z"
   },
   {
    "duration": 15,
    "start_time": "2025-01-07T23:24:24.379Z"
   },
   {
    "duration": 185,
    "start_time": "2025-01-07T23:24:24.396Z"
   },
   {
    "duration": 0,
    "start_time": "2025-01-07T23:24:24.583Z"
   },
   {
    "duration": 0,
    "start_time": "2025-01-07T23:24:24.584Z"
   },
   {
    "duration": 0,
    "start_time": "2025-01-07T23:24:24.585Z"
   },
   {
    "duration": 0,
    "start_time": "2025-01-07T23:24:24.587Z"
   },
   {
    "duration": 0,
    "start_time": "2025-01-07T23:24:24.588Z"
   },
   {
    "duration": 2,
    "start_time": "2025-01-07T23:28:22.182Z"
   },
   {
    "duration": 829,
    "start_time": "2025-01-07T23:28:41.753Z"
   },
   {
    "duration": 4,
    "start_time": "2025-01-07T23:28:42.584Z"
   },
   {
    "duration": 33,
    "start_time": "2025-01-07T23:28:42.590Z"
   },
   {
    "duration": 21,
    "start_time": "2025-01-07T23:28:42.625Z"
   },
   {
    "duration": 13,
    "start_time": "2025-01-07T23:28:42.649Z"
   },
   {
    "duration": 15,
    "start_time": "2025-01-07T23:28:42.664Z"
   },
   {
    "duration": 11,
    "start_time": "2025-01-07T23:28:42.682Z"
   },
   {
    "duration": 5,
    "start_time": "2025-01-07T23:28:42.724Z"
   },
   {
    "duration": 7,
    "start_time": "2025-01-07T23:28:42.731Z"
   },
   {
    "duration": 8,
    "start_time": "2025-01-07T23:28:42.740Z"
   },
   {
    "duration": 6,
    "start_time": "2025-01-07T23:28:42.749Z"
   },
   {
    "duration": 6,
    "start_time": "2025-01-07T23:28:42.756Z"
   },
   {
    "duration": 6,
    "start_time": "2025-01-07T23:28:42.763Z"
   },
   {
    "duration": 6,
    "start_time": "2025-01-07T23:28:42.772Z"
   },
   {
    "duration": 48,
    "start_time": "2025-01-07T23:28:42.779Z"
   },
   {
    "duration": 6,
    "start_time": "2025-01-07T23:28:42.828Z"
   },
   {
    "duration": 5,
    "start_time": "2025-01-07T23:28:42.836Z"
   },
   {
    "duration": 5,
    "start_time": "2025-01-07T23:28:42.844Z"
   },
   {
    "duration": 6,
    "start_time": "2025-01-07T23:28:42.850Z"
   },
   {
    "duration": 4,
    "start_time": "2025-01-07T23:28:42.857Z"
   },
   {
    "duration": 17,
    "start_time": "2025-01-07T23:28:42.863Z"
   },
   {
    "duration": 4,
    "start_time": "2025-01-07T23:28:42.881Z"
   },
   {
    "duration": 13,
    "start_time": "2025-01-07T23:28:42.924Z"
   },
   {
    "duration": 11,
    "start_time": "2025-01-07T23:28:42.938Z"
   },
   {
    "duration": 555,
    "start_time": "2025-01-07T23:28:42.950Z"
   },
   {
    "duration": 159,
    "start_time": "2025-01-07T23:28:43.506Z"
   },
   {
    "duration": 282,
    "start_time": "2025-01-07T23:28:43.667Z"
   },
   {
    "duration": 153,
    "start_time": "2025-01-07T23:28:43.951Z"
   },
   {
    "duration": 21,
    "start_time": "2025-01-07T23:28:44.106Z"
   },
   {
    "duration": 10,
    "start_time": "2025-01-07T23:28:44.129Z"
   },
   {
    "duration": 4,
    "start_time": "2025-01-07T23:28:44.141Z"
   },
   {
    "duration": 7,
    "start_time": "2025-01-07T23:28:44.147Z"
   },
   {
    "duration": 14,
    "start_time": "2025-01-07T23:28:44.155Z"
   },
   {
    "duration": 111,
    "start_time": "2025-01-07T23:28:44.170Z"
   },
   {
    "duration": 4869,
    "start_time": "2025-01-07T23:28:44.283Z"
   },
   {
    "duration": 5557,
    "start_time": "2025-01-07T23:28:49.224Z"
   },
   {
    "duration": 6,
    "start_time": "2025-01-07T23:28:54.783Z"
   },
   {
    "duration": 4,
    "start_time": "2025-01-07T23:28:54.790Z"
   },
   {
    "duration": 141,
    "start_time": "2025-01-07T23:28:54.796Z"
   },
   {
    "duration": 57547,
    "start_time": "2025-01-07T23:28:54.939Z"
   },
   {
    "duration": 829,
    "start_time": "2025-01-07T23:34:49.867Z"
   },
   {
    "duration": 3,
    "start_time": "2025-01-07T23:34:50.698Z"
   },
   {
    "duration": 40,
    "start_time": "2025-01-07T23:34:50.703Z"
   },
   {
    "duration": 17,
    "start_time": "2025-01-07T23:34:50.745Z"
   },
   {
    "duration": 12,
    "start_time": "2025-01-07T23:34:50.766Z"
   },
   {
    "duration": 15,
    "start_time": "2025-01-07T23:34:50.780Z"
   },
   {
    "duration": 34,
    "start_time": "2025-01-07T23:34:50.796Z"
   },
   {
    "duration": 6,
    "start_time": "2025-01-07T23:34:50.832Z"
   },
   {
    "duration": 6,
    "start_time": "2025-01-07T23:34:50.839Z"
   },
   {
    "duration": 8,
    "start_time": "2025-01-07T23:34:50.846Z"
   },
   {
    "duration": 6,
    "start_time": "2025-01-07T23:34:50.855Z"
   },
   {
    "duration": 6,
    "start_time": "2025-01-07T23:34:50.863Z"
   },
   {
    "duration": 6,
    "start_time": "2025-01-07T23:34:50.871Z"
   },
   {
    "duration": 7,
    "start_time": "2025-01-07T23:34:50.924Z"
   },
   {
    "duration": 6,
    "start_time": "2025-01-07T23:34:50.932Z"
   },
   {
    "duration": 7,
    "start_time": "2025-01-07T23:34:50.939Z"
   },
   {
    "duration": 5,
    "start_time": "2025-01-07T23:34:50.948Z"
   },
   {
    "duration": 6,
    "start_time": "2025-01-07T23:34:50.954Z"
   },
   {
    "duration": 5,
    "start_time": "2025-01-07T23:34:50.961Z"
   },
   {
    "duration": 4,
    "start_time": "2025-01-07T23:34:50.968Z"
   },
   {
    "duration": 60,
    "start_time": "2025-01-07T23:34:50.975Z"
   },
   {
    "duration": 4,
    "start_time": "2025-01-07T23:34:51.036Z"
   },
   {
    "duration": 11,
    "start_time": "2025-01-07T23:34:51.042Z"
   },
   {
    "duration": 11,
    "start_time": "2025-01-07T23:34:51.054Z"
   },
   {
    "duration": 542,
    "start_time": "2025-01-07T23:34:51.066Z"
   },
   {
    "duration": 157,
    "start_time": "2025-01-07T23:34:51.610Z"
   },
   {
    "duration": 276,
    "start_time": "2025-01-07T23:34:51.768Z"
   },
   {
    "duration": 153,
    "start_time": "2025-01-07T23:34:52.046Z"
   },
   {
    "duration": 25,
    "start_time": "2025-01-07T23:34:52.201Z"
   },
   {
    "duration": 15,
    "start_time": "2025-01-07T23:34:52.237Z"
   },
   {
    "duration": 4,
    "start_time": "2025-01-07T23:34:52.254Z"
   },
   {
    "duration": 8,
    "start_time": "2025-01-07T23:34:52.260Z"
   },
   {
    "duration": 17,
    "start_time": "2025-01-07T23:34:52.269Z"
   },
   {
    "duration": 112,
    "start_time": "2025-01-07T23:34:52.287Z"
   },
   {
    "duration": 4929,
    "start_time": "2025-01-07T23:34:52.400Z"
   },
   {
    "duration": 5637,
    "start_time": "2025-01-07T23:34:57.331Z"
   },
   {
    "duration": 6,
    "start_time": "2025-01-07T23:35:02.970Z"
   },
   {
    "duration": 3,
    "start_time": "2025-01-07T23:35:02.978Z"
   },
   {
    "duration": 152,
    "start_time": "2025-01-07T23:35:02.983Z"
   },
   {
    "duration": 806,
    "start_time": "2025-01-07T23:36:15.858Z"
   },
   {
    "duration": 3,
    "start_time": "2025-01-07T23:36:16.666Z"
   },
   {
    "duration": 33,
    "start_time": "2025-01-07T23:36:16.671Z"
   },
   {
    "duration": 26,
    "start_time": "2025-01-07T23:36:16.705Z"
   },
   {
    "duration": 13,
    "start_time": "2025-01-07T23:36:16.734Z"
   },
   {
    "duration": 14,
    "start_time": "2025-01-07T23:36:16.749Z"
   },
   {
    "duration": 12,
    "start_time": "2025-01-07T23:36:16.764Z"
   },
   {
    "duration": 6,
    "start_time": "2025-01-07T23:36:16.777Z"
   },
   {
    "duration": 41,
    "start_time": "2025-01-07T23:36:16.786Z"
   },
   {
    "duration": 9,
    "start_time": "2025-01-07T23:36:16.828Z"
   },
   {
    "duration": 5,
    "start_time": "2025-01-07T23:36:16.838Z"
   },
   {
    "duration": 5,
    "start_time": "2025-01-07T23:36:16.846Z"
   },
   {
    "duration": 6,
    "start_time": "2025-01-07T23:36:16.853Z"
   },
   {
    "duration": 6,
    "start_time": "2025-01-07T23:36:16.862Z"
   },
   {
    "duration": 6,
    "start_time": "2025-01-07T23:36:16.870Z"
   },
   {
    "duration": 48,
    "start_time": "2025-01-07T23:36:16.877Z"
   },
   {
    "duration": 5,
    "start_time": "2025-01-07T23:36:16.926Z"
   },
   {
    "duration": 5,
    "start_time": "2025-01-07T23:36:16.934Z"
   },
   {
    "duration": 5,
    "start_time": "2025-01-07T23:36:16.941Z"
   },
   {
    "duration": 4,
    "start_time": "2025-01-07T23:36:16.947Z"
   },
   {
    "duration": 17,
    "start_time": "2025-01-07T23:36:16.953Z"
   },
   {
    "duration": 3,
    "start_time": "2025-01-07T23:36:16.972Z"
   },
   {
    "duration": 48,
    "start_time": "2025-01-07T23:36:16.977Z"
   },
   {
    "duration": 11,
    "start_time": "2025-01-07T23:36:17.026Z"
   },
   {
    "duration": 549,
    "start_time": "2025-01-07T23:36:17.038Z"
   },
   {
    "duration": 167,
    "start_time": "2025-01-07T23:36:17.589Z"
   },
   {
    "duration": 277,
    "start_time": "2025-01-07T23:36:17.758Z"
   },
   {
    "duration": 155,
    "start_time": "2025-01-07T23:36:18.036Z"
   },
   {
    "duration": 18,
    "start_time": "2025-01-07T23:36:18.193Z"
   },
   {
    "duration": 21,
    "start_time": "2025-01-07T23:36:18.212Z"
   },
   {
    "duration": 5,
    "start_time": "2025-01-07T23:36:18.234Z"
   },
   {
    "duration": 6,
    "start_time": "2025-01-07T23:36:18.241Z"
   },
   {
    "duration": 571,
    "start_time": "2025-01-07T23:36:18.248Z"
   },
   {
    "duration": 0,
    "start_time": "2025-01-07T23:36:18.823Z"
   },
   {
    "duration": 0,
    "start_time": "2025-01-07T23:36:18.824Z"
   },
   {
    "duration": 0,
    "start_time": "2025-01-07T23:36:18.826Z"
   },
   {
    "duration": 0,
    "start_time": "2025-01-07T23:36:18.827Z"
   },
   {
    "duration": 0,
    "start_time": "2025-01-07T23:36:18.829Z"
   },
   {
    "duration": 0,
    "start_time": "2025-01-07T23:36:18.829Z"
   },
   {
    "duration": 857,
    "start_time": "2025-01-07T23:36:27.324Z"
   },
   {
    "duration": 4,
    "start_time": "2025-01-07T23:36:28.183Z"
   },
   {
    "duration": 45,
    "start_time": "2025-01-07T23:36:28.189Z"
   },
   {
    "duration": 24,
    "start_time": "2025-01-07T23:36:28.236Z"
   },
   {
    "duration": 18,
    "start_time": "2025-01-07T23:36:28.262Z"
   },
   {
    "duration": 17,
    "start_time": "2025-01-07T23:36:28.283Z"
   },
   {
    "duration": 37,
    "start_time": "2025-01-07T23:36:28.302Z"
   },
   {
    "duration": 7,
    "start_time": "2025-01-07T23:36:28.344Z"
   },
   {
    "duration": 8,
    "start_time": "2025-01-07T23:36:28.353Z"
   },
   {
    "duration": 10,
    "start_time": "2025-01-07T23:36:28.363Z"
   },
   {
    "duration": 7,
    "start_time": "2025-01-07T23:36:28.375Z"
   },
   {
    "duration": 40,
    "start_time": "2025-01-07T23:36:28.385Z"
   },
   {
    "duration": 8,
    "start_time": "2025-01-07T23:36:28.428Z"
   },
   {
    "duration": 6,
    "start_time": "2025-01-07T23:36:28.438Z"
   },
   {
    "duration": 6,
    "start_time": "2025-01-07T23:36:28.447Z"
   },
   {
    "duration": 8,
    "start_time": "2025-01-07T23:36:28.454Z"
   },
   {
    "duration": 7,
    "start_time": "2025-01-07T23:36:28.464Z"
   },
   {
    "duration": 7,
    "start_time": "2025-01-07T23:36:28.472Z"
   },
   {
    "duration": 45,
    "start_time": "2025-01-07T23:36:28.480Z"
   },
   {
    "duration": 4,
    "start_time": "2025-01-07T23:36:28.528Z"
   },
   {
    "duration": 25,
    "start_time": "2025-01-07T23:36:28.534Z"
   },
   {
    "duration": 4,
    "start_time": "2025-01-07T23:36:28.561Z"
   },
   {
    "duration": 12,
    "start_time": "2025-01-07T23:36:28.569Z"
   },
   {
    "duration": 43,
    "start_time": "2025-01-07T23:36:28.583Z"
   },
   {
    "duration": 548,
    "start_time": "2025-01-07T23:36:28.628Z"
   },
   {
    "duration": 164,
    "start_time": "2025-01-07T23:36:29.178Z"
   },
   {
    "duration": 298,
    "start_time": "2025-01-07T23:36:29.343Z"
   },
   {
    "duration": 177,
    "start_time": "2025-01-07T23:36:29.643Z"
   },
   {
    "duration": 18,
    "start_time": "2025-01-07T23:36:29.824Z"
   },
   {
    "duration": 16,
    "start_time": "2025-01-07T23:36:29.843Z"
   },
   {
    "duration": 5,
    "start_time": "2025-01-07T23:36:29.861Z"
   },
   {
    "duration": 8,
    "start_time": "2025-01-07T23:36:29.868Z"
   },
   {
    "duration": 20,
    "start_time": "2025-01-07T23:36:29.878Z"
   },
   {
    "duration": 114,
    "start_time": "2025-01-07T23:36:29.924Z"
   },
   {
    "duration": 5000,
    "start_time": "2025-01-07T23:36:30.041Z"
   },
   {
    "duration": 5708,
    "start_time": "2025-01-07T23:36:35.043Z"
   },
   {
    "duration": 6,
    "start_time": "2025-01-07T23:36:40.753Z"
   },
   {
    "duration": 2,
    "start_time": "2025-01-07T23:36:40.761Z"
   },
   {
    "duration": 167,
    "start_time": "2025-01-07T23:36:40.766Z"
   }
  ],
  "kernelspec": {
   "display_name": "Python 3 (ipykernel)",
   "language": "python",
   "name": "python3"
  },
  "language_info": {
   "codemirror_mode": {
    "name": "ipython",
    "version": 3
   },
   "file_extension": ".py",
   "mimetype": "text/x-python",
   "name": "python",
   "nbconvert_exporter": "python",
   "pygments_lexer": "ipython3",
   "version": "3.9.19"
  },
  "toc": {
   "base_numbering": 1,
   "nav_menu": {},
   "number_sections": true,
   "sideBar": true,
   "skip_h1_title": true,
   "title_cell": "Table of Contents",
   "title_sidebar": "Contents",
   "toc_cell": false,
   "toc_position": {},
   "toc_section_display": true,
   "toc_window_display": false
  }
 },
 "nbformat": 4,
 "nbformat_minor": 2
}
